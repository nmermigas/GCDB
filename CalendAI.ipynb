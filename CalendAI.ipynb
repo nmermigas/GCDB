{
  "cells": [
    {
      "cell_type": "markdown",
      "metadata": {
        "id": "view-in-github",
        "colab_type": "text"
      },
      "source": [
        "<a href=\"https://colab.research.google.com/github/nmermigas/GCDB/blob/main/CalendAI.ipynb\" target=\"_parent\"><img src=\"https://colab.research.google.com/assets/colab-badge.svg\" alt=\"Open In Colab\"/></a>"
      ]
    },
    {
      "cell_type": "markdown",
      "source": [
        "## 0. Imports"
      ],
      "metadata": {
        "id": "YRWf6LYuqqhM"
      }
    },
    {
      "cell_type": "code",
      "source": [
        "import torch\n",
        "import torchvision\n",
        "import requests\n",
        "import zipfile\n",
        "import matplotlib.pyplot as plt\n",
        "import copy\n",
        "\n",
        "from pathlib import Path\n",
        "from torch import nn\n",
        "from torchvision import datasets,transforms\n",
        "\n",
        "import os\n",
        "from torch.utils.data import DataLoader,TensorDataset\n",
        "from sklearn.model_selection import train_test_split"
      ],
      "metadata": {
        "id": "wt_I8X5SgMFQ"
      },
      "execution_count": 2,
      "outputs": []
    },
    {
      "cell_type": "markdown",
      "source": [
        "## 1. Setting up device agnostic code"
      ],
      "metadata": {
        "id": "7s9A-gySquXK"
      }
    },
    {
      "cell_type": "code",
      "source": [
        "device = \"cuda\" if torch.cuda.is_available() else \"cpu\"\n",
        "device"
      ],
      "metadata": {
        "colab": {
          "base_uri": "https://localhost:8080/",
          "height": 35
        },
        "id": "phDl2Cksqxkk",
        "outputId": "0a6e9071-65f4-4e84-9b1a-cdcfaaedd756"
      },
      "execution_count": 3,
      "outputs": [
        {
          "output_type": "execute_result",
          "data": {
            "text/plain": [
              "'cuda'"
            ],
            "application/vnd.google.colaboratory.intrinsic+json": {
              "type": "string"
            }
          },
          "metadata": {},
          "execution_count": 3
        }
      ]
    },
    {
      "cell_type": "markdown",
      "source": [
        "## 2. Get data"
      ],
      "metadata": {
        "id": "dNhOLyXGq0Z7"
      }
    },
    {
      "cell_type": "markdown",
      "source": [
        "### 2.1 The GCDB dataset\n",
        "- contains data from handwritten letters in Greek, both uppercase and lowercase."
      ],
      "metadata": {
        "id": "SgZtS5K9q5Cx"
      }
    },
    {
      "cell_type": "code",
      "source": [
        "data_path=Path('data/')\n",
        "gcdb_path = data_path / 'gcdb'\n",
        "\n",
        "if gcdb_path.is_dir():\n",
        "  print(f'{gcdb_path} directory exists')\n",
        "else:\n",
        "  print(f\"Did not find {gcdb_path} directory, creating one...\")\n",
        "  gcdb_path.mkdir(parents=True, exist_ok=True)\n",
        "\n",
        "  # Download pizza, steak, sushi data\n",
        "  with open(data_path / \"gcdb.zip\", \"wb\") as f:\n",
        "      request = requests.get(\"https://github.com/nmermigas/GCDB/raw/main/gcdb.zip\")\n",
        "      print(\"Downloading gcdb data...\")\n",
        "      f.write(request.content)\n",
        "  # Unzip pizza, steak, sushi data\n",
        "  with zipfile.ZipFile(data_path / \"gcdb.zip\", \"r\") as zip_ref:\n",
        "      print(\"Unzipping gcdb data...\")\n",
        "      zip_ref.extractall(gcdb_path)\n"
      ],
      "metadata": {
        "colab": {
          "base_uri": "https://localhost:8080/"
        },
        "id": "Tv7DZ-_RgXYW",
        "outputId": "02b5da3b-9f66-487c-cd09-b61197fec7e0"
      },
      "execution_count": 1,
      "outputs": [
        {
          "output_type": "stream",
          "name": "stdout",
          "text": [
            "Did not find data/gcdb directory, creating one...\n",
            "Downloading gcdb data...\n",
            "Unzipping gcdb data...\n"
          ]
        }
      ]
    },
    {
      "cell_type": "code",
      "source": [
        "sd"
      ],
      "metadata": {
        "id": "fLi0f-sdr_Qj"
      },
      "execution_count": null,
      "outputs": []
    },
    {
      "cell_type": "markdown",
      "source": [
        "Creating train and test datasets out of the GCDB dataset.\n",
        "Seeing the structure of the folder we downloaded, the data format is the one below:\n",
        "\n",
        "    gcdb/\n",
        "      Query/\n",
        "        LETT_CAP_NORM.ALPHA/\n",
        "          form_1.bmp\n",
        "          form_2.bmp\n",
        "          ...\n",
        "        LETT_CAP_NORM.BETA/\n",
        "          form_1.bmp\n",
        "          form_2.bmp\n",
        "          ...\n",
        "        LETT_CAP_SUFF.ALPHA/\n",
        "          form_1.bmp\n",
        "          form_2.bmp\n",
        "          ...\n",
        "        LETT_CAP_SUFF.BETA/\n",
        "          form_1.bmp\n",
        "          form_2.bmp\n",
        "          ...\n",
        "        LETT_SML_NORM.ALPHA/\n",
        "          form_1.bmp\n",
        "          form_2.bmp\n",
        "          ...\n",
        "        LETT_SML_NORM.BETA/\n",
        "          form_1.bmp\n",
        "          form_2.bmp\n",
        "          ...\n",
        "        LETT_SML_SUFF.ALPHA/\n",
        "          form_1.bmp\n",
        "          form_2.bmp\n",
        "          ...\n",
        "        LETT_SML_SUFF.BETA/\n",
        "          form_1.bmp\n",
        "          form_2.bmp\n",
        "          ...\n",
        "\n",
        "\n",
        "\n",
        "\n",
        "\n",
        "\n",
        "\n",
        "\n",
        "\n"
      ],
      "metadata": {
        "id": "HOh6SvXXiQ2F"
      }
    },
    {
      "cell_type": "markdown",
      "source": [
        "For each of the 24 letters of the greek alphabet, there are two folders for its uppercase and 2 folders for its lowercase version.\n",
        "\n",
        "Each folder contains `bmp` images.\n",
        "\n",
        "\n"
      ],
      "metadata": {
        "id": "1_uFfs-As_7l"
      }
    },
    {
      "cell_type": "markdown",
      "source": [
        "Our goal is to create the following structure:\n",
        "\n",
        "\n",
        "    gcdb/\n",
        "      train/\n",
        "        ALPHA/\n",
        "          form_1.bmp\n",
        "          form_2.bmp\n",
        "          ...\n",
        "        BETA/\n",
        "          form_1.bmp\n",
        "          form_2.bmp\n",
        "          ...\n",
        "        GAMMA/\n",
        "          form_1.bmp\n",
        "          form_2.bmp\n",
        "        ...\n",
        "      test/\n",
        "        ALPHA/\n",
        "          form_1.bmp\n",
        "          form_2.bmp\n",
        "          ...\n",
        "        BETA/\n",
        "          form_1.bmp\n",
        "          form_2.bmp\n",
        "          ...\n",
        "        GAMMA/\n",
        "          form_1.bmp\n",
        "          form_2.bmp\n",
        "          ...\n",
        "        ...\n",
        "\n"
      ],
      "metadata": {
        "id": "q3v8_6-1t8gc"
      }
    },
    {
      "cell_type": "markdown",
      "source": [
        "So basically, combine the uppercase and the lowercase data for each letter into one and then split them into train and test folders."
      ],
      "metadata": {
        "id": "tP64e7YuvJat"
      }
    },
    {
      "cell_type": "markdown",
      "source": [
        "We can inspect what's in our data directory by writing a small helper function to walk through each of the subdirectories and count the files present."
      ],
      "metadata": {
        "id": "sWTFbEUvvdBM"
      }
    },
    {
      "cell_type": "markdown",
      "source": [
        "To do so, we'll use Python's in-built `os.walk()`\n",
        "\n",
        "\n"
      ],
      "metadata": {
        "id": "S9ZIPft-vcs1"
      }
    },
    {
      "cell_type": "code",
      "source": [
        "import os\n",
        "def walk_through_dir(dir_path):\n",
        "  \"\"\"\n",
        "  Walks through dir_path returning its contents.\n",
        "  Args:\n",
        "    dir_path (str or pathlib.Path): target directory\n",
        "\n",
        "  Returns:\n",
        "    A print out of:\n",
        "      number of subdiretories in dir_path\n",
        "      number of images (files) in each subdirectory\n",
        "      name of each subdirectory\n",
        "  \"\"\"\n",
        "  for dirpath, dirnames, filenames in os.walk(dir_path):\n",
        "    print(f\"There are {len(dirnames)} directories and {len(filenames)} images in '{dirpath}'.\")"
      ],
      "metadata": {
        "id": "-wLvlD7vuBU5"
      },
      "execution_count": 6,
      "outputs": []
    },
    {
      "cell_type": "code",
      "source": [
        "walk_through_dir(gcdb_path)\n"
      ],
      "metadata": {
        "colab": {
          "base_uri": "https://localhost:8080/"
        },
        "id": "5GsFinKNvwov",
        "outputId": "1c78652d-e16c-4742-a4e1-0414fc875587"
      },
      "execution_count": 7,
      "outputs": [
        {
          "output_type": "stream",
          "name": "stdout",
          "text": [
            "There are 1 directories and 0 images in 'data/gcdb'.\n",
            "There are 96 directories and 0 images in 'data/gcdb/Query'.\n",
            "There are 0 directories and 457 images in 'data/gcdb/Query/LETT_SML_NORM.THETA'.\n",
            "There are 0 directories and 445 images in 'data/gcdb/Query/LETT_SML_SUFF.TAU'.\n",
            "There are 0 directories and 453 images in 'data/gcdb/Query/LETT_SML_NORM.DELTA'.\n",
            "There are 0 directories and 422 images in 'data/gcdb/Query/LETT_SML_SUFF.NI'.\n",
            "There are 0 directories and 451 images in 'data/gcdb/Query/LETT_CAP_SUFF.OMEGA'.\n",
            "There are 0 directories and 444 images in 'data/gcdb/Query/LETT_CAP_NORM.IOTA'.\n",
            "There are 0 directories and 454 images in 'data/gcdb/Query/LETT_CAP_NORM.FI'.\n",
            "There are 0 directories and 430 images in 'data/gcdb/Query/LETT_SML_NORM.TAU'.\n",
            "There are 0 directories and 456 images in 'data/gcdb/Query/LETT_CAP_NORM.HETA'.\n",
            "There are 0 directories and 448 images in 'data/gcdb/Query/LETT_SML_SUFF.KAPA'.\n",
            "There are 0 directories and 446 images in 'data/gcdb/Query/LETT_CAP_NORM.TAU'.\n",
            "There are 0 directories and 452 images in 'data/gcdb/Query/LETT_CAP_SUFF.OMIKRON'.\n",
            "There are 0 directories and 447 images in 'data/gcdb/Query/LETT_CAP_SUFF.MI'.\n",
            "There are 0 directories and 451 images in 'data/gcdb/Query/LETT_SML_NORM.FI'.\n",
            "There are 0 directories and 456 images in 'data/gcdb/Query/LETT_SML_SUFF.LAMDA'.\n",
            "There are 0 directories and 450 images in 'data/gcdb/Query/LETT_CAP_NORM.XI'.\n",
            "There are 0 directories and 451 images in 'data/gcdb/Query/LETT_SML_NORM.GAMMA'.\n",
            "There are 0 directories and 445 images in 'data/gcdb/Query/LETT_SML_SUFF.XI'.\n",
            "There are 0 directories and 455 images in 'data/gcdb/Query/LETT_CAP_NORM.LAMDA'.\n",
            "There are 0 directories and 441 images in 'data/gcdb/Query/LETT_CAP_NORM.YPSILON'.\n",
            "There are 0 directories and 439 images in 'data/gcdb/Query/LETT_SML_NORM.KAPA'.\n",
            "There are 0 directories and 456 images in 'data/gcdb/Query/LETT_SML_SUFF.DELTA'.\n",
            "There are 0 directories and 443 images in 'data/gcdb/Query/LETT_SML_NORM.NI'.\n",
            "There are 0 directories and 446 images in 'data/gcdb/Query/LETT_SML_NORM.HETA'.\n",
            "There are 0 directories and 448 images in 'data/gcdb/Query/LETT_SML_SUFF.ALPHA'.\n",
            "There are 0 directories and 440 images in 'data/gcdb/Query/LETT_SML_SUFF.YPSILON'.\n",
            "There are 0 directories and 453 images in 'data/gcdb/Query/LETT_CAP_NORM.NI'.\n",
            "There are 0 directories and 451 images in 'data/gcdb/Query/LETT_CAP_SUFF.EPSILON'.\n",
            "There are 0 directories and 456 images in 'data/gcdb/Query/LETT_CAP_NORM.THETA'.\n",
            "There are 0 directories and 452 images in 'data/gcdb/Query/LETT_CAP_NORM.RO'.\n",
            "There are 0 directories and 443 images in 'data/gcdb/Query/LETT_CAP_SUFF.SIGMA'.\n",
            "There are 0 directories and 451 images in 'data/gcdb/Query/LETT_SML_SUFF.EPSILON'.\n",
            "There are 0 directories and 447 images in 'data/gcdb/Query/LETT_SML_NORM.PII'.\n",
            "There are 0 directories and 450 images in 'data/gcdb/Query/LETT_SML_SUFF.OMIKRON'.\n",
            "There are 0 directories and 450 images in 'data/gcdb/Query/LETT_CAP_NORM.EPSILON'.\n",
            "There are 0 directories and 458 images in 'data/gcdb/Query/LETT_CAP_SUFF.PII'.\n",
            "There are 0 directories and 456 images in 'data/gcdb/Query/LETT_SML_SUFF.THETA'.\n",
            "There are 0 directories and 419 images in 'data/gcdb/Query/LETT_CAP_NORM.KSI'.\n",
            "There are 0 directories and 460 images in 'data/gcdb/Query/LETT_CAP_SUFF.DELTA'.\n",
            "There are 0 directories and 451 images in 'data/gcdb/Query/LETT_SML_NORM.PSI'.\n",
            "There are 0 directories and 448 images in 'data/gcdb/Query/LETT_CAP_SUFF.PSI'.\n",
            "There are 0 directories and 448 images in 'data/gcdb/Query/LETT_SML_NORM.ALPHA'.\n",
            "There are 0 directories and 446 images in 'data/gcdb/Query/LETT_SML_SUFF.OMEGA'.\n",
            "There are 0 directories and 429 images in 'data/gcdb/Query/LETT_SML_NORM.YPSILON'.\n",
            "There are 0 directories and 448 images in 'data/gcdb/Query/LETT_CAP_SUFF.KAPA'.\n",
            "There are 0 directories and 441 images in 'data/gcdb/Query/LETT_CAP_NORM.OMEGA'.\n",
            "There are 0 directories and 451 images in 'data/gcdb/Query/LETT_CAP_SUFF.NI'.\n",
            "There are 0 directories and 453 images in 'data/gcdb/Query/LETT_SML_SUFF.PII'.\n",
            "There are 0 directories and 419 images in 'data/gcdb/Query/LETT_SML_NORM.OMIKRON'.\n",
            "There are 0 directories and 445 images in 'data/gcdb/Query/LETT_CAP_SUFF.XI'.\n",
            "There are 0 directories and 457 images in 'data/gcdb/Query/LETT_CAP_NORM.ALPHA'.\n",
            "There are 0 directories and 409 images in 'data/gcdb/Query/LETT_CAP_SUFF.KSI'.\n",
            "There are 0 directories and 453 images in 'data/gcdb/Query/LETT_CAP_SUFF.ALPHA'.\n",
            "There are 0 directories and 447 images in 'data/gcdb/Query/LETT_CAP_SUFF.HETA'.\n",
            "There are 0 directories and 432 images in 'data/gcdb/Query/LETT_SML_NORM.IOTA'.\n",
            "There are 0 directories and 449 images in 'data/gcdb/Query/LETT_SML_NORM.RO'.\n",
            "There are 0 directories and 456 images in 'data/gcdb/Query/LETT_SML_NORM.KSI'.\n",
            "There are 0 directories and 442 images in 'data/gcdb/Query/LETT_SML_NORM.SIGMA'.\n",
            "There are 0 directories and 458 images in 'data/gcdb/Query/LETT_CAP_NORM.MI'.\n",
            "There are 0 directories and 442 images in 'data/gcdb/Query/LETT_CAP_SUFF.YPSILON'.\n",
            "There are 0 directories and 449 images in 'data/gcdb/Query/LETT_SML_SUFF.PSI'.\n",
            "There are 0 directories and 441 images in 'data/gcdb/Query/LETT_CAP_NORM.OMIKRON'.\n",
            "There are 0 directories and 458 images in 'data/gcdb/Query/LETT_SML_NORM.ZETA'.\n",
            "There are 0 directories and 453 images in 'data/gcdb/Query/LETT_CAP_SUFF.THETA'.\n",
            "There are 0 directories and 445 images in 'data/gcdb/Query/LETT_CAP_SUFF.LAMDA'.\n",
            "There are 0 directories and 443 images in 'data/gcdb/Query/LETT_SML_SUFF.HETA'.\n",
            "There are 0 directories and 451 images in 'data/gcdb/Query/LETT_CAP_SUFF.ZETA'.\n",
            "There are 0 directories and 451 images in 'data/gcdb/Query/LETT_CAP_NORM.PSI'.\n",
            "There are 0 directories and 454 images in 'data/gcdb/Query/LETT_CAP_NORM.PII'.\n",
            "There are 0 directories and 450 images in 'data/gcdb/Query/LETT_SML_NORM.XI'.\n",
            "There are 0 directories and 432 images in 'data/gcdb/Query/LETT_CAP_SUFF.TAU'.\n",
            "There are 0 directories and 460 images in 'data/gcdb/Query/LETT_CAP_SUFF.FI'.\n",
            "There are 0 directories and 456 images in 'data/gcdb/Query/LETT_CAP_NORM.BETA'.\n",
            "There are 0 directories and 442 images in 'data/gcdb/Query/LETT_CAP_NORM.GAMMA'.\n",
            "There are 0 directories and 453 images in 'data/gcdb/Query/LETT_CAP_SUFF.BETA'.\n",
            "There are 0 directories and 443 images in 'data/gcdb/Query/LETT_SML_SUFF.MI'.\n",
            "There are 0 directories and 457 images in 'data/gcdb/Query/LETT_SML_SUFF.KSI'.\n",
            "There are 0 directories and 442 images in 'data/gcdb/Query/LETT_CAP_SUFF.GAMMA'.\n",
            "There are 0 directories and 404 images in 'data/gcdb/Query/LETT_SML_SUFF.IOTA'.\n",
            "There are 0 directories and 446 images in 'data/gcdb/Query/LETT_CAP_NORM.SIGMA'.\n",
            "There are 0 directories and 445 images in 'data/gcdb/Query/LETT_CAP_NORM.KAPA'.\n",
            "There are 0 directories and 456 images in 'data/gcdb/Query/LETT_SML_SUFF.FI'.\n",
            "There are 0 directories and 455 images in 'data/gcdb/Query/LETT_SML_SUFF.GAMMA'.\n",
            "There are 0 directories and 454 images in 'data/gcdb/Query/LETT_SML_SUFF.BETA'.\n",
            "There are 0 directories and 455 images in 'data/gcdb/Query/LETT_SML_SUFF.RO'.\n",
            "There are 0 directories and 428 images in 'data/gcdb/Query/LETT_CAP_SUFF.IOTA'.\n",
            "There are 0 directories and 455 images in 'data/gcdb/Query/LETT_SML_NORM.MI'.\n",
            "There are 0 directories and 453 images in 'data/gcdb/Query/LETT_SML_SUFF.SIGMA'.\n",
            "There are 0 directories and 451 images in 'data/gcdb/Query/LETT_CAP_SUFF.RO'.\n",
            "There are 0 directories and 453 images in 'data/gcdb/Query/LETT_SML_NORM.BETA'.\n",
            "There are 0 directories and 453 images in 'data/gcdb/Query/LETT_SML_SUFF.ZETA'.\n",
            "There are 0 directories and 457 images in 'data/gcdb/Query/LETT_CAP_NORM.DELTA'.\n",
            "There are 0 directories and 442 images in 'data/gcdb/Query/LETT_SML_NORM.OMEGA'.\n",
            "There are 0 directories and 456 images in 'data/gcdb/Query/LETT_CAP_NORM.ZETA'.\n",
            "There are 0 directories and 436 images in 'data/gcdb/Query/LETT_SML_NORM.EPSILON'.\n",
            "There are 0 directories and 456 images in 'data/gcdb/Query/LETT_SML_NORM.LAMDA'.\n"
          ]
        }
      ]
    },
    {
      "cell_type": "markdown",
      "source": [
        "It looks like we have 96 directories (4 directories * 24 letters) with each containing roughly 430 images."
      ],
      "metadata": {
        "id": "bWhTUcrJwFL3"
      }
    },
    {
      "cell_type": "markdown",
      "source": [
        "Now let's combine the data for each letter.\n"
      ],
      "metadata": {
        "id": "u-7CO2GBwv4V"
      }
    },
    {
      "cell_type": "code",
      "source": [
        "import os\n",
        "import shutil\n",
        "import random\n",
        "\n",
        "# Define the paths\n",
        "source_dir = \"data/gcdb/Query\"\n",
        "target_dir = \"data/gcdb_combined\"\n",
        "\n",
        "# Create target directories for train and test sets\n",
        "train_dir = os.path.join(target_dir, \"train\")\n",
        "test_dir = os.path.join(target_dir, \"test\")\n",
        "os.makedirs(train_dir, exist_ok=True)\n",
        "os.makedirs(test_dir, exist_ok=True)\n",
        "\n",
        "# Function to split images into train and test sets\n",
        "def split_images(images, train_ratio):\n",
        "    random.shuffle(images)\n",
        "    split_index = int(len(images) * train_ratio)\n",
        "    train_images = images[:split_index]\n",
        "    test_images = images[split_index:]\n",
        "    return train_images, test_images\n",
        "\n",
        "# Iterate through the directories\n",
        "for root, dirs, files in os.walk(source_dir):\n",
        "    for dir_name in dirs:\n",
        "        letter = dir_name.split(\".\")[1]  # Extract the letter (ALPHA, BETA, etc.)\n",
        "        uppercase_images = []\n",
        "        lowercase_images = []\n",
        "\n",
        "        # Gather uppercase and lowercase images\n",
        "        for variation in [\"NORM\", \"SUFF\"]:\n",
        "            uppercase_dir = os.path.join(root, f\"LETT_CAP_{variation}.{letter}\")\n",
        "            lowercase_dir = os.path.join(root, f\"LETT_SML_{variation}.{letter}\")\n",
        "            if os.path.exists(uppercase_dir):\n",
        "                uppercase_images.extend(os.listdir(uppercase_dir))\n",
        "            if os.path.exists(lowercase_dir):\n",
        "                lowercase_images.extend(os.listdir(lowercase_dir))\n",
        "\n",
        "        # Split images into train and test sets\n",
        "        train_uppercase, test_uppercase = split_images(uppercase_images, train_ratio=0.8)\n",
        "        train_lowercase, test_lowercase = split_images(lowercase_images, train_ratio=0.8)\n",
        "\n",
        "        # Create directories for the letter in train and test sets\n",
        "        os.makedirs(os.path.join(train_dir, \"uppercase\", letter), exist_ok=True)\n",
        "        os.makedirs(os.path.join(train_dir, \"lowercase\", letter), exist_ok=True)\n",
        "        os.makedirs(os.path.join(test_dir, \"uppercase\", letter), exist_ok=True)\n",
        "        os.makedirs(os.path.join(test_dir, \"lowercase\", letter), exist_ok=True)\n",
        "\n",
        "        # Copy images to train and test directories\n",
        "        for image in train_uppercase:\n",
        "            src = os.path.join(root, f\"LETT_CAP_NORM.{letter}\", image)\n",
        "            dst = os.path.join(train_dir, \"uppercase\", letter, image)\n",
        "            shutil.copy(src, dst)\n",
        "        for image in train_lowercase:\n",
        "            src = os.path.join(root, f\"LETT_SML_NORM.{letter}\", image)\n",
        "            dst = os.path.join(train_dir, \"lowercase\", letter, image)\n",
        "            shutil.copy(src, dst)\n",
        "        for image in test_uppercase:\n",
        "            src = os.path.join(root, f\"LETT_CAP_NORM.{letter}\", image)\n",
        "            dst = os.path.join(test_dir, \"uppercase\", letter, image)\n",
        "            shutil.copy(src, dst)\n",
        "        for image in test_lowercase:\n",
        "            src = os.path.join(root, f\"LETT_SML_NORM.{letter}\", image)\n",
        "            dst = os.path.join(test_dir, \"lowercase\", letter, image)\n",
        "            shutil.copy(src, dst)\n"
      ],
      "metadata": {
        "colab": {
          "base_uri": "https://localhost:8080/",
          "height": 373
        },
        "id": "_EcTY57Ww6WX",
        "outputId": "dee66bd6-a0a4-466b-b123-bf5751ad034d"
      },
      "execution_count": 23,
      "outputs": [
        {
          "output_type": "error",
          "ename": "FileNotFoundError",
          "evalue": "[Errno 2] No such file or directory: 'data/gcdb/Query/LETT_CAP_NORM.THETA/form_287.bmp'",
          "traceback": [
            "\u001b[0;31m---------------------------------------------------------------------------\u001b[0m",
            "\u001b[0;31mFileNotFoundError\u001b[0m                         Traceback (most recent call last)",
            "\u001b[0;32m<ipython-input-23-cca93efbc5e2>\u001b[0m in \u001b[0;36m<cell line: 24>\u001b[0;34m()\u001b[0m\n\u001b[1;32m     51\u001b[0m             \u001b[0msrc\u001b[0m \u001b[0;34m=\u001b[0m \u001b[0mos\u001b[0m\u001b[0;34m.\u001b[0m\u001b[0mpath\u001b[0m\u001b[0;34m.\u001b[0m\u001b[0mjoin\u001b[0m\u001b[0;34m(\u001b[0m\u001b[0mroot\u001b[0m\u001b[0;34m,\u001b[0m \u001b[0;34mf\"LETT_CAP_NORM.{letter}\"\u001b[0m\u001b[0;34m,\u001b[0m \u001b[0mimage\u001b[0m\u001b[0;34m)\u001b[0m\u001b[0;34m\u001b[0m\u001b[0;34m\u001b[0m\u001b[0m\n\u001b[1;32m     52\u001b[0m             \u001b[0mdst\u001b[0m \u001b[0;34m=\u001b[0m \u001b[0mos\u001b[0m\u001b[0;34m.\u001b[0m\u001b[0mpath\u001b[0m\u001b[0;34m.\u001b[0m\u001b[0mjoin\u001b[0m\u001b[0;34m(\u001b[0m\u001b[0mtrain_dir\u001b[0m\u001b[0;34m,\u001b[0m \u001b[0;34m\"uppercase\"\u001b[0m\u001b[0;34m,\u001b[0m \u001b[0mletter\u001b[0m\u001b[0;34m,\u001b[0m \u001b[0mimage\u001b[0m\u001b[0;34m)\u001b[0m\u001b[0;34m\u001b[0m\u001b[0;34m\u001b[0m\u001b[0m\n\u001b[0;32m---> 53\u001b[0;31m             \u001b[0mshutil\u001b[0m\u001b[0;34m.\u001b[0m\u001b[0mcopy\u001b[0m\u001b[0;34m(\u001b[0m\u001b[0msrc\u001b[0m\u001b[0;34m,\u001b[0m \u001b[0mdst\u001b[0m\u001b[0;34m)\u001b[0m\u001b[0;34m\u001b[0m\u001b[0;34m\u001b[0m\u001b[0m\n\u001b[0m\u001b[1;32m     54\u001b[0m         \u001b[0;32mfor\u001b[0m \u001b[0mimage\u001b[0m \u001b[0;32min\u001b[0m \u001b[0mtrain_lowercase\u001b[0m\u001b[0;34m:\u001b[0m\u001b[0;34m\u001b[0m\u001b[0;34m\u001b[0m\u001b[0m\n\u001b[1;32m     55\u001b[0m             \u001b[0msrc\u001b[0m \u001b[0;34m=\u001b[0m \u001b[0mos\u001b[0m\u001b[0;34m.\u001b[0m\u001b[0mpath\u001b[0m\u001b[0;34m.\u001b[0m\u001b[0mjoin\u001b[0m\u001b[0;34m(\u001b[0m\u001b[0mroot\u001b[0m\u001b[0;34m,\u001b[0m \u001b[0;34mf\"LETT_SML_NORM.{letter}\"\u001b[0m\u001b[0;34m,\u001b[0m \u001b[0mimage\u001b[0m\u001b[0;34m)\u001b[0m\u001b[0;34m\u001b[0m\u001b[0;34m\u001b[0m\u001b[0m\n",
            "\u001b[0;32m/usr/lib/python3.10/shutil.py\u001b[0m in \u001b[0;36mcopy\u001b[0;34m(src, dst, follow_symlinks)\u001b[0m\n\u001b[1;32m    415\u001b[0m     \u001b[0;32mif\u001b[0m \u001b[0mos\u001b[0m\u001b[0;34m.\u001b[0m\u001b[0mpath\u001b[0m\u001b[0;34m.\u001b[0m\u001b[0misdir\u001b[0m\u001b[0;34m(\u001b[0m\u001b[0mdst\u001b[0m\u001b[0;34m)\u001b[0m\u001b[0;34m:\u001b[0m\u001b[0;34m\u001b[0m\u001b[0;34m\u001b[0m\u001b[0m\n\u001b[1;32m    416\u001b[0m         \u001b[0mdst\u001b[0m \u001b[0;34m=\u001b[0m \u001b[0mos\u001b[0m\u001b[0;34m.\u001b[0m\u001b[0mpath\u001b[0m\u001b[0;34m.\u001b[0m\u001b[0mjoin\u001b[0m\u001b[0;34m(\u001b[0m\u001b[0mdst\u001b[0m\u001b[0;34m,\u001b[0m \u001b[0mos\u001b[0m\u001b[0;34m.\u001b[0m\u001b[0mpath\u001b[0m\u001b[0;34m.\u001b[0m\u001b[0mbasename\u001b[0m\u001b[0;34m(\u001b[0m\u001b[0msrc\u001b[0m\u001b[0;34m)\u001b[0m\u001b[0;34m)\u001b[0m\u001b[0;34m\u001b[0m\u001b[0;34m\u001b[0m\u001b[0m\n\u001b[0;32m--> 417\u001b[0;31m     \u001b[0mcopyfile\u001b[0m\u001b[0;34m(\u001b[0m\u001b[0msrc\u001b[0m\u001b[0;34m,\u001b[0m \u001b[0mdst\u001b[0m\u001b[0;34m,\u001b[0m \u001b[0mfollow_symlinks\u001b[0m\u001b[0;34m=\u001b[0m\u001b[0mfollow_symlinks\u001b[0m\u001b[0;34m)\u001b[0m\u001b[0;34m\u001b[0m\u001b[0;34m\u001b[0m\u001b[0m\n\u001b[0m\u001b[1;32m    418\u001b[0m     \u001b[0mcopymode\u001b[0m\u001b[0;34m(\u001b[0m\u001b[0msrc\u001b[0m\u001b[0;34m,\u001b[0m \u001b[0mdst\u001b[0m\u001b[0;34m,\u001b[0m \u001b[0mfollow_symlinks\u001b[0m\u001b[0;34m=\u001b[0m\u001b[0mfollow_symlinks\u001b[0m\u001b[0;34m)\u001b[0m\u001b[0;34m\u001b[0m\u001b[0;34m\u001b[0m\u001b[0m\n\u001b[1;32m    419\u001b[0m     \u001b[0;32mreturn\u001b[0m \u001b[0mdst\u001b[0m\u001b[0;34m\u001b[0m\u001b[0;34m\u001b[0m\u001b[0m\n",
            "\u001b[0;32m/usr/lib/python3.10/shutil.py\u001b[0m in \u001b[0;36mcopyfile\u001b[0;34m(src, dst, follow_symlinks)\u001b[0m\n\u001b[1;32m    252\u001b[0m         \u001b[0mos\u001b[0m\u001b[0;34m.\u001b[0m\u001b[0msymlink\u001b[0m\u001b[0;34m(\u001b[0m\u001b[0mos\u001b[0m\u001b[0;34m.\u001b[0m\u001b[0mreadlink\u001b[0m\u001b[0;34m(\u001b[0m\u001b[0msrc\u001b[0m\u001b[0;34m)\u001b[0m\u001b[0;34m,\u001b[0m \u001b[0mdst\u001b[0m\u001b[0;34m)\u001b[0m\u001b[0;34m\u001b[0m\u001b[0;34m\u001b[0m\u001b[0m\n\u001b[1;32m    253\u001b[0m     \u001b[0;32melse\u001b[0m\u001b[0;34m:\u001b[0m\u001b[0;34m\u001b[0m\u001b[0;34m\u001b[0m\u001b[0m\n\u001b[0;32m--> 254\u001b[0;31m         \u001b[0;32mwith\u001b[0m \u001b[0mopen\u001b[0m\u001b[0;34m(\u001b[0m\u001b[0msrc\u001b[0m\u001b[0;34m,\u001b[0m \u001b[0;34m'rb'\u001b[0m\u001b[0;34m)\u001b[0m \u001b[0;32mas\u001b[0m \u001b[0mfsrc\u001b[0m\u001b[0;34m:\u001b[0m\u001b[0;34m\u001b[0m\u001b[0;34m\u001b[0m\u001b[0m\n\u001b[0m\u001b[1;32m    255\u001b[0m             \u001b[0;32mtry\u001b[0m\u001b[0;34m:\u001b[0m\u001b[0;34m\u001b[0m\u001b[0;34m\u001b[0m\u001b[0m\n\u001b[1;32m    256\u001b[0m                 \u001b[0;32mwith\u001b[0m \u001b[0mopen\u001b[0m\u001b[0;34m(\u001b[0m\u001b[0mdst\u001b[0m\u001b[0;34m,\u001b[0m \u001b[0;34m'wb'\u001b[0m\u001b[0;34m)\u001b[0m \u001b[0;32mas\u001b[0m \u001b[0mfdst\u001b[0m\u001b[0;34m:\u001b[0m\u001b[0;34m\u001b[0m\u001b[0;34m\u001b[0m\u001b[0m\n",
            "\u001b[0;31mFileNotFoundError\u001b[0m: [Errno 2] No such file or directory: 'data/gcdb/Query/LETT_CAP_NORM.THETA/form_287.bmp'"
          ]
        }
      ]
    },
    {
      "cell_type": "code",
      "source": [
        "source_dir = \"data/gcdb/Query\"\n",
        "for root, dirs, files in os.walk(source_dir):\n",
        "    for dir_name in dirs:\n",
        "        letter = dir_name.split(\".\")[1]  # Extract the letter (ALPHA, BETA, etc.)\n",
        "        uppercase_images = []\n",
        "        lowercase_images = []\n",
        "            # Gather uppercase and lowercase images\n",
        "        for variation in [\"NORM\", \"SUFF\"]:\n",
        "            uppercase_dir = os.path.join(root, f\"LETT_CAP_{variation}.{letter}\")\n",
        "            lowercase_dir = os.path.join(root, f\"LETT_SML_{variation}.{letter}\")\n",
        "            if os.path.exists(uppercase_dir):\n",
        "                uppercase_images.extend(os.listdir(uppercase_dir))\n",
        "            if os.path.exists(lowercase_dir):\n",
        "                lowercase_images.extend(os.listdir(lowercase_dir))\n",
        "\n",
        "        train_uppercase, test_uppercase = split_images(uppercase_images, train_ratio=0.8)\n",
        "        train_lowercase, test_lowercase = split_images(lowercase_images, train_ratio=0.8)\n",
        "\n",
        "        os.makedirs(os.path.join(train_dir, \"uppercase\", letter), exist_ok=True)\n",
        "        os.makedirs(os.path.join(train_dir, \"lowercase\", letter), exist_ok=True)\n",
        "        os.makedirs(os.path.join(test_dir, \"uppercase\", letter), exist_ok=True)\n",
        "        os.makedirs(os.path.join(test_dir, \"lowercase\", letter), exist_ok=True)\n",
        ""
      ],
      "metadata": {
        "colab": {
          "base_uri": "https://localhost:8080/"
        },
        "id": "j4UDMjfj0wu_",
        "outputId": "30f390d5-0b3b-4e88-f19a-e1b64b82f187"
      },
      "execution_count": 21,
      "outputs": [
        {
          "output_type": "stream",
          "name": "stdout",
          "text": [
            "THETA\n",
            "TAU\n",
            "DELTA\n",
            "NI\n",
            "OMEGA\n",
            "IOTA\n",
            "FI\n",
            "TAU\n",
            "HETA\n",
            "KAPA\n",
            "TAU\n",
            "OMIKRON\n",
            "MI\n",
            "FI\n",
            "LAMDA\n",
            "XI\n",
            "GAMMA\n",
            "XI\n",
            "LAMDA\n",
            "YPSILON\n",
            "KAPA\n",
            "DELTA\n",
            "NI\n",
            "HETA\n",
            "ALPHA\n",
            "YPSILON\n",
            "NI\n",
            "EPSILON\n",
            "THETA\n",
            "RO\n",
            "SIGMA\n",
            "EPSILON\n",
            "PII\n",
            "OMIKRON\n",
            "EPSILON\n",
            "PII\n",
            "THETA\n",
            "KSI\n",
            "DELTA\n",
            "PSI\n",
            "PSI\n",
            "ALPHA\n",
            "OMEGA\n",
            "YPSILON\n",
            "KAPA\n",
            "OMEGA\n",
            "NI\n",
            "PII\n",
            "OMIKRON\n",
            "XI\n",
            "ALPHA\n",
            "KSI\n",
            "ALPHA\n",
            "HETA\n",
            "IOTA\n",
            "RO\n",
            "KSI\n",
            "SIGMA\n",
            "MI\n",
            "YPSILON\n",
            "PSI\n",
            "OMIKRON\n",
            "ZETA\n",
            "THETA\n",
            "LAMDA\n",
            "HETA\n",
            "ZETA\n",
            "PSI\n",
            "PII\n",
            "XI\n",
            "TAU\n",
            "FI\n",
            "BETA\n",
            "GAMMA\n",
            "BETA\n",
            "MI\n",
            "KSI\n",
            "GAMMA\n",
            "IOTA\n",
            "SIGMA\n",
            "KAPA\n",
            "FI\n",
            "GAMMA\n",
            "BETA\n",
            "RO\n",
            "IOTA\n",
            "MI\n",
            "SIGMA\n",
            "RO\n",
            "BETA\n",
            "ZETA\n",
            "DELTA\n",
            "OMEGA\n",
            "ZETA\n",
            "EPSILON\n",
            "LAMDA\n"
          ]
        }
      ]
    },
    {
      "cell_type": "code",
      "source": [
        "import matplotlib.pyplot as plt\n",
        "import torch\n",
        "import torchvision\n",
        "import copy\n",
        "\n",
        "from torch import nn\n",
        "from torchvision import datasets,transforms\n",
        "from pathlib import Path\n",
        "\n",
        "device = \"cuda\" if torch.cuda.is_available() else \"cpu\"\n",
        "device\n",
        "\n",
        "data_dir = Path('data')\n",
        "\n",
        "# emnist_train_transforms = transforms.Compose([\n",
        "#     transforms.ToTensor(),  # Convert image to tensor\n",
        "#     transforms.Normalize((0.5,), (0.5,))  # Normalize pixel values to [-1, 1]\n",
        "# ])\n",
        "\n",
        "# Get EMNIST training data\n",
        "emnist_data = datasets.EMNIST(root=data_dir,\n",
        "                                       split='letters',\n",
        "                                       train= True,\n",
        "                                       download = True)\n",
        "\n",
        "# emnist_test_data = datasets.EMNIST(root=data_dir,\n",
        "#                                    split='balanced',\n",
        "#                                    train=False,\n",
        "#                                    download=True)\n"
      ],
      "metadata": {
        "id": "h_kUvjaJHz_C",
        "colab": {
          "base_uri": "https://localhost:8080/",
          "height": 391
        },
        "outputId": "abfe1be9-47f8-474a-8893-ead041f75e02"
      },
      "execution_count": 4,
      "outputs": [
        {
          "output_type": "stream",
          "name": "stdout",
          "text": [
            "Downloading https://www.itl.nist.gov/iaui/vip/cs_links/EMNIST/gzip.zip to data/EMNIST/raw/gzip.zip\n"
          ]
        },
        {
          "output_type": "stream",
          "name": "stderr",
          "text": [
            " 20%|█▉        | 109740032/561753746 [00:03<00:15, 29166968.52it/s]\n"
          ]
        },
        {
          "output_type": "error",
          "ename": "KeyboardInterrupt",
          "evalue": "",
          "traceback": [
            "\u001b[0;31m---------------------------------------------------------------------------\u001b[0m",
            "\u001b[0;31mKeyboardInterrupt\u001b[0m                         Traceback (most recent call last)",
            "\u001b[0;32m<ipython-input-4-92a417cca9e7>\u001b[0m in \u001b[0;36m<cell line: 21>\u001b[0;34m()\u001b[0m\n\u001b[1;32m     19\u001b[0m \u001b[0;34m\u001b[0m\u001b[0m\n\u001b[1;32m     20\u001b[0m \u001b[0;31m# Get EMNIST training data\u001b[0m\u001b[0;34m\u001b[0m\u001b[0;34m\u001b[0m\u001b[0m\n\u001b[0;32m---> 21\u001b[0;31m emnist_data = datasets.EMNIST(root=data_dir,\n\u001b[0m\u001b[1;32m     22\u001b[0m                                        \u001b[0msplit\u001b[0m\u001b[0;34m=\u001b[0m\u001b[0;34m'letters'\u001b[0m\u001b[0;34m,\u001b[0m\u001b[0;34m\u001b[0m\u001b[0;34m\u001b[0m\u001b[0m\n\u001b[1;32m     23\u001b[0m                                        \u001b[0mtrain\u001b[0m\u001b[0;34m=\u001b[0m \u001b[0;32mTrue\u001b[0m\u001b[0;34m,\u001b[0m\u001b[0;34m\u001b[0m\u001b[0;34m\u001b[0m\u001b[0m\n",
            "\u001b[0;32m/usr/local/lib/python3.10/dist-packages/torchvision/datasets/mnist.py\u001b[0m in \u001b[0;36m__init__\u001b[0;34m(self, root, split, **kwargs)\u001b[0m\n\u001b[1;32m    295\u001b[0m         \u001b[0mself\u001b[0m\u001b[0;34m.\u001b[0m\u001b[0mtraining_file\u001b[0m \u001b[0;34m=\u001b[0m \u001b[0mself\u001b[0m\u001b[0;34m.\u001b[0m\u001b[0m_training_file\u001b[0m\u001b[0;34m(\u001b[0m\u001b[0msplit\u001b[0m\u001b[0;34m)\u001b[0m\u001b[0;34m\u001b[0m\u001b[0;34m\u001b[0m\u001b[0m\n\u001b[1;32m    296\u001b[0m         \u001b[0mself\u001b[0m\u001b[0;34m.\u001b[0m\u001b[0mtest_file\u001b[0m \u001b[0;34m=\u001b[0m \u001b[0mself\u001b[0m\u001b[0;34m.\u001b[0m\u001b[0m_test_file\u001b[0m\u001b[0;34m(\u001b[0m\u001b[0msplit\u001b[0m\u001b[0;34m)\u001b[0m\u001b[0;34m\u001b[0m\u001b[0;34m\u001b[0m\u001b[0m\n\u001b[0;32m--> 297\u001b[0;31m         \u001b[0msuper\u001b[0m\u001b[0;34m(\u001b[0m\u001b[0;34m)\u001b[0m\u001b[0;34m.\u001b[0m\u001b[0m__init__\u001b[0m\u001b[0;34m(\u001b[0m\u001b[0mroot\u001b[0m\u001b[0;34m,\u001b[0m \u001b[0;34m**\u001b[0m\u001b[0mkwargs\u001b[0m\u001b[0;34m)\u001b[0m\u001b[0;34m\u001b[0m\u001b[0;34m\u001b[0m\u001b[0m\n\u001b[0m\u001b[1;32m    298\u001b[0m         \u001b[0mself\u001b[0m\u001b[0;34m.\u001b[0m\u001b[0mclasses\u001b[0m \u001b[0;34m=\u001b[0m \u001b[0mself\u001b[0m\u001b[0;34m.\u001b[0m\u001b[0mclasses_split_dict\u001b[0m\u001b[0;34m[\u001b[0m\u001b[0mself\u001b[0m\u001b[0;34m.\u001b[0m\u001b[0msplit\u001b[0m\u001b[0;34m]\u001b[0m\u001b[0;34m\u001b[0m\u001b[0;34m\u001b[0m\u001b[0m\n\u001b[1;32m    299\u001b[0m \u001b[0;34m\u001b[0m\u001b[0m\n",
            "\u001b[0;32m/usr/local/lib/python3.10/dist-packages/torchvision/datasets/mnist.py\u001b[0m in \u001b[0;36m__init__\u001b[0;34m(self, root, train, transform, target_transform, download)\u001b[0m\n\u001b[1;32m     97\u001b[0m \u001b[0;34m\u001b[0m\u001b[0m\n\u001b[1;32m     98\u001b[0m         \u001b[0;32mif\u001b[0m \u001b[0mdownload\u001b[0m\u001b[0;34m:\u001b[0m\u001b[0;34m\u001b[0m\u001b[0;34m\u001b[0m\u001b[0m\n\u001b[0;32m---> 99\u001b[0;31m             \u001b[0mself\u001b[0m\u001b[0;34m.\u001b[0m\u001b[0mdownload\u001b[0m\u001b[0;34m(\u001b[0m\u001b[0;34m)\u001b[0m\u001b[0;34m\u001b[0m\u001b[0;34m\u001b[0m\u001b[0m\n\u001b[0m\u001b[1;32m    100\u001b[0m \u001b[0;34m\u001b[0m\u001b[0m\n\u001b[1;32m    101\u001b[0m         \u001b[0;32mif\u001b[0m \u001b[0;32mnot\u001b[0m \u001b[0mself\u001b[0m\u001b[0;34m.\u001b[0m\u001b[0m_check_exists\u001b[0m\u001b[0;34m(\u001b[0m\u001b[0;34m)\u001b[0m\u001b[0;34m:\u001b[0m\u001b[0;34m\u001b[0m\u001b[0;34m\u001b[0m\u001b[0m\n",
            "\u001b[0;32m/usr/local/lib/python3.10/dist-packages/torchvision/datasets/mnist.py\u001b[0m in \u001b[0;36mdownload\u001b[0;34m(self)\u001b[0m\n\u001b[1;32m    332\u001b[0m         \u001b[0mos\u001b[0m\u001b[0;34m.\u001b[0m\u001b[0mmakedirs\u001b[0m\u001b[0;34m(\u001b[0m\u001b[0mself\u001b[0m\u001b[0;34m.\u001b[0m\u001b[0mraw_folder\u001b[0m\u001b[0;34m,\u001b[0m \u001b[0mexist_ok\u001b[0m\u001b[0;34m=\u001b[0m\u001b[0;32mTrue\u001b[0m\u001b[0;34m)\u001b[0m\u001b[0;34m\u001b[0m\u001b[0;34m\u001b[0m\u001b[0m\n\u001b[1;32m    333\u001b[0m \u001b[0;34m\u001b[0m\u001b[0m\n\u001b[0;32m--> 334\u001b[0;31m         \u001b[0mdownload_and_extract_archive\u001b[0m\u001b[0;34m(\u001b[0m\u001b[0mself\u001b[0m\u001b[0;34m.\u001b[0m\u001b[0murl\u001b[0m\u001b[0;34m,\u001b[0m \u001b[0mdownload_root\u001b[0m\u001b[0;34m=\u001b[0m\u001b[0mself\u001b[0m\u001b[0;34m.\u001b[0m\u001b[0mraw_folder\u001b[0m\u001b[0;34m,\u001b[0m \u001b[0mmd5\u001b[0m\u001b[0;34m=\u001b[0m\u001b[0mself\u001b[0m\u001b[0;34m.\u001b[0m\u001b[0mmd5\u001b[0m\u001b[0;34m)\u001b[0m\u001b[0;34m\u001b[0m\u001b[0;34m\u001b[0m\u001b[0m\n\u001b[0m\u001b[1;32m    335\u001b[0m         \u001b[0mgzip_folder\u001b[0m \u001b[0;34m=\u001b[0m \u001b[0mos\u001b[0m\u001b[0;34m.\u001b[0m\u001b[0mpath\u001b[0m\u001b[0;34m.\u001b[0m\u001b[0mjoin\u001b[0m\u001b[0;34m(\u001b[0m\u001b[0mself\u001b[0m\u001b[0;34m.\u001b[0m\u001b[0mraw_folder\u001b[0m\u001b[0;34m,\u001b[0m \u001b[0;34m\"gzip\"\u001b[0m\u001b[0;34m)\u001b[0m\u001b[0;34m\u001b[0m\u001b[0;34m\u001b[0m\u001b[0m\n\u001b[1;32m    336\u001b[0m         \u001b[0;32mfor\u001b[0m \u001b[0mgzip_file\u001b[0m \u001b[0;32min\u001b[0m \u001b[0mos\u001b[0m\u001b[0;34m.\u001b[0m\u001b[0mlistdir\u001b[0m\u001b[0;34m(\u001b[0m\u001b[0mgzip_folder\u001b[0m\u001b[0;34m)\u001b[0m\u001b[0;34m:\u001b[0m\u001b[0;34m\u001b[0m\u001b[0;34m\u001b[0m\u001b[0m\n",
            "\u001b[0;32m/usr/local/lib/python3.10/dist-packages/torchvision/datasets/utils.py\u001b[0m in \u001b[0;36mdownload_and_extract_archive\u001b[0;34m(url, download_root, extract_root, filename, md5, remove_finished)\u001b[0m\n\u001b[1;32m    432\u001b[0m         \u001b[0mfilename\u001b[0m \u001b[0;34m=\u001b[0m \u001b[0mos\u001b[0m\u001b[0;34m.\u001b[0m\u001b[0mpath\u001b[0m\u001b[0;34m.\u001b[0m\u001b[0mbasename\u001b[0m\u001b[0;34m(\u001b[0m\u001b[0murl\u001b[0m\u001b[0;34m)\u001b[0m\u001b[0;34m\u001b[0m\u001b[0;34m\u001b[0m\u001b[0m\n\u001b[1;32m    433\u001b[0m \u001b[0;34m\u001b[0m\u001b[0m\n\u001b[0;32m--> 434\u001b[0;31m     \u001b[0mdownload_url\u001b[0m\u001b[0;34m(\u001b[0m\u001b[0murl\u001b[0m\u001b[0;34m,\u001b[0m \u001b[0mdownload_root\u001b[0m\u001b[0;34m,\u001b[0m \u001b[0mfilename\u001b[0m\u001b[0;34m,\u001b[0m \u001b[0mmd5\u001b[0m\u001b[0;34m)\u001b[0m\u001b[0;34m\u001b[0m\u001b[0;34m\u001b[0m\u001b[0m\n\u001b[0m\u001b[1;32m    435\u001b[0m \u001b[0;34m\u001b[0m\u001b[0m\n\u001b[1;32m    436\u001b[0m     \u001b[0marchive\u001b[0m \u001b[0;34m=\u001b[0m \u001b[0mos\u001b[0m\u001b[0;34m.\u001b[0m\u001b[0mpath\u001b[0m\u001b[0;34m.\u001b[0m\u001b[0mjoin\u001b[0m\u001b[0;34m(\u001b[0m\u001b[0mdownload_root\u001b[0m\u001b[0;34m,\u001b[0m \u001b[0mfilename\u001b[0m\u001b[0;34m)\u001b[0m\u001b[0;34m\u001b[0m\u001b[0;34m\u001b[0m\u001b[0m\n",
            "\u001b[0;32m/usr/local/lib/python3.10/dist-packages/torchvision/datasets/utils.py\u001b[0m in \u001b[0;36mdownload_url\u001b[0;34m(url, root, filename, md5, max_redirect_hops)\u001b[0m\n\u001b[1;32m    142\u001b[0m         \u001b[0;32mtry\u001b[0m\u001b[0;34m:\u001b[0m\u001b[0;34m\u001b[0m\u001b[0;34m\u001b[0m\u001b[0m\n\u001b[1;32m    143\u001b[0m             \u001b[0mprint\u001b[0m\u001b[0;34m(\u001b[0m\u001b[0;34m\"Downloading \"\u001b[0m \u001b[0;34m+\u001b[0m \u001b[0murl\u001b[0m \u001b[0;34m+\u001b[0m \u001b[0;34m\" to \"\u001b[0m \u001b[0;34m+\u001b[0m \u001b[0mfpath\u001b[0m\u001b[0;34m)\u001b[0m\u001b[0;34m\u001b[0m\u001b[0;34m\u001b[0m\u001b[0m\n\u001b[0;32m--> 144\u001b[0;31m             \u001b[0m_urlretrieve\u001b[0m\u001b[0;34m(\u001b[0m\u001b[0murl\u001b[0m\u001b[0;34m,\u001b[0m \u001b[0mfpath\u001b[0m\u001b[0;34m)\u001b[0m\u001b[0;34m\u001b[0m\u001b[0;34m\u001b[0m\u001b[0m\n\u001b[0m\u001b[1;32m    145\u001b[0m         \u001b[0;32mexcept\u001b[0m \u001b[0;34m(\u001b[0m\u001b[0murllib\u001b[0m\u001b[0;34m.\u001b[0m\u001b[0merror\u001b[0m\u001b[0;34m.\u001b[0m\u001b[0mURLError\u001b[0m\u001b[0;34m,\u001b[0m \u001b[0mOSError\u001b[0m\u001b[0;34m)\u001b[0m \u001b[0;32mas\u001b[0m \u001b[0me\u001b[0m\u001b[0;34m:\u001b[0m  \u001b[0;31m# type: ignore[attr-defined]\u001b[0m\u001b[0;34m\u001b[0m\u001b[0;34m\u001b[0m\u001b[0m\n\u001b[1;32m    146\u001b[0m             \u001b[0;32mif\u001b[0m \u001b[0murl\u001b[0m\u001b[0;34m[\u001b[0m\u001b[0;34m:\u001b[0m\u001b[0;36m5\u001b[0m\u001b[0;34m]\u001b[0m \u001b[0;34m==\u001b[0m \u001b[0;34m\"https\"\u001b[0m\u001b[0;34m:\u001b[0m\u001b[0;34m\u001b[0m\u001b[0;34m\u001b[0m\u001b[0m\n",
            "\u001b[0;32m/usr/local/lib/python3.10/dist-packages/torchvision/datasets/utils.py\u001b[0m in \u001b[0;36m_urlretrieve\u001b[0;34m(url, filename, chunk_size)\u001b[0m\n\u001b[1;32m     46\u001b[0m \u001b[0;32mdef\u001b[0m \u001b[0m_urlretrieve\u001b[0m\u001b[0;34m(\u001b[0m\u001b[0murl\u001b[0m\u001b[0;34m:\u001b[0m \u001b[0mstr\u001b[0m\u001b[0;34m,\u001b[0m \u001b[0mfilename\u001b[0m\u001b[0;34m:\u001b[0m \u001b[0mstr\u001b[0m\u001b[0;34m,\u001b[0m \u001b[0mchunk_size\u001b[0m\u001b[0;34m:\u001b[0m \u001b[0mint\u001b[0m \u001b[0;34m=\u001b[0m \u001b[0;36m1024\u001b[0m \u001b[0;34m*\u001b[0m \u001b[0;36m32\u001b[0m\u001b[0;34m)\u001b[0m \u001b[0;34m->\u001b[0m \u001b[0;32mNone\u001b[0m\u001b[0;34m:\u001b[0m\u001b[0;34m\u001b[0m\u001b[0;34m\u001b[0m\u001b[0m\n\u001b[1;32m     47\u001b[0m     \u001b[0;32mwith\u001b[0m \u001b[0murllib\u001b[0m\u001b[0;34m.\u001b[0m\u001b[0mrequest\u001b[0m\u001b[0;34m.\u001b[0m\u001b[0murlopen\u001b[0m\u001b[0;34m(\u001b[0m\u001b[0murllib\u001b[0m\u001b[0;34m.\u001b[0m\u001b[0mrequest\u001b[0m\u001b[0;34m.\u001b[0m\u001b[0mRequest\u001b[0m\u001b[0;34m(\u001b[0m\u001b[0murl\u001b[0m\u001b[0;34m,\u001b[0m \u001b[0mheaders\u001b[0m\u001b[0;34m=\u001b[0m\u001b[0;34m{\u001b[0m\u001b[0;34m\"User-Agent\"\u001b[0m\u001b[0;34m:\u001b[0m \u001b[0mUSER_AGENT\u001b[0m\u001b[0;34m}\u001b[0m\u001b[0;34m)\u001b[0m\u001b[0;34m)\u001b[0m \u001b[0;32mas\u001b[0m \u001b[0mresponse\u001b[0m\u001b[0;34m:\u001b[0m\u001b[0;34m\u001b[0m\u001b[0;34m\u001b[0m\u001b[0m\n\u001b[0;32m---> 48\u001b[0;31m         \u001b[0m_save_response_content\u001b[0m\u001b[0;34m(\u001b[0m\u001b[0miter\u001b[0m\u001b[0;34m(\u001b[0m\u001b[0;32mlambda\u001b[0m\u001b[0;34m:\u001b[0m \u001b[0mresponse\u001b[0m\u001b[0;34m.\u001b[0m\u001b[0mread\u001b[0m\u001b[0;34m(\u001b[0m\u001b[0mchunk_size\u001b[0m\u001b[0;34m)\u001b[0m\u001b[0;34m,\u001b[0m \u001b[0;34mb\"\"\u001b[0m\u001b[0;34m)\u001b[0m\u001b[0;34m,\u001b[0m \u001b[0mfilename\u001b[0m\u001b[0;34m,\u001b[0m \u001b[0mlength\u001b[0m\u001b[0;34m=\u001b[0m\u001b[0mresponse\u001b[0m\u001b[0;34m.\u001b[0m\u001b[0mlength\u001b[0m\u001b[0;34m)\u001b[0m\u001b[0;34m\u001b[0m\u001b[0;34m\u001b[0m\u001b[0m\n\u001b[0m\u001b[1;32m     49\u001b[0m \u001b[0;34m\u001b[0m\u001b[0m\n\u001b[1;32m     50\u001b[0m \u001b[0;34m\u001b[0m\u001b[0m\n",
            "\u001b[0;32m/usr/local/lib/python3.10/dist-packages/torchvision/datasets/utils.py\u001b[0m in \u001b[0;36m_save_response_content\u001b[0;34m(content, destination, length)\u001b[0m\n\u001b[1;32m     35\u001b[0m ) -> None:\n\u001b[1;32m     36\u001b[0m     \u001b[0;32mwith\u001b[0m \u001b[0mopen\u001b[0m\u001b[0;34m(\u001b[0m\u001b[0mdestination\u001b[0m\u001b[0;34m,\u001b[0m \u001b[0;34m\"wb\"\u001b[0m\u001b[0;34m)\u001b[0m \u001b[0;32mas\u001b[0m \u001b[0mfh\u001b[0m\u001b[0;34m,\u001b[0m \u001b[0mtqdm\u001b[0m\u001b[0;34m(\u001b[0m\u001b[0mtotal\u001b[0m\u001b[0;34m=\u001b[0m\u001b[0mlength\u001b[0m\u001b[0;34m)\u001b[0m \u001b[0;32mas\u001b[0m \u001b[0mpbar\u001b[0m\u001b[0;34m:\u001b[0m\u001b[0;34m\u001b[0m\u001b[0;34m\u001b[0m\u001b[0m\n\u001b[0;32m---> 37\u001b[0;31m         \u001b[0;32mfor\u001b[0m \u001b[0mchunk\u001b[0m \u001b[0;32min\u001b[0m \u001b[0mcontent\u001b[0m\u001b[0;34m:\u001b[0m\u001b[0;34m\u001b[0m\u001b[0;34m\u001b[0m\u001b[0m\n\u001b[0m\u001b[1;32m     38\u001b[0m             \u001b[0;31m# filter out keep-alive new chunks\u001b[0m\u001b[0;34m\u001b[0m\u001b[0;34m\u001b[0m\u001b[0m\n\u001b[1;32m     39\u001b[0m             \u001b[0;32mif\u001b[0m \u001b[0;32mnot\u001b[0m \u001b[0mchunk\u001b[0m\u001b[0;34m:\u001b[0m\u001b[0;34m\u001b[0m\u001b[0;34m\u001b[0m\u001b[0m\n",
            "\u001b[0;32m/usr/local/lib/python3.10/dist-packages/torchvision/datasets/utils.py\u001b[0m in \u001b[0;36m<lambda>\u001b[0;34m()\u001b[0m\n\u001b[1;32m     46\u001b[0m \u001b[0;32mdef\u001b[0m \u001b[0m_urlretrieve\u001b[0m\u001b[0;34m(\u001b[0m\u001b[0murl\u001b[0m\u001b[0;34m:\u001b[0m \u001b[0mstr\u001b[0m\u001b[0;34m,\u001b[0m \u001b[0mfilename\u001b[0m\u001b[0;34m:\u001b[0m \u001b[0mstr\u001b[0m\u001b[0;34m,\u001b[0m \u001b[0mchunk_size\u001b[0m\u001b[0;34m:\u001b[0m \u001b[0mint\u001b[0m \u001b[0;34m=\u001b[0m \u001b[0;36m1024\u001b[0m \u001b[0;34m*\u001b[0m \u001b[0;36m32\u001b[0m\u001b[0;34m)\u001b[0m \u001b[0;34m->\u001b[0m \u001b[0;32mNone\u001b[0m\u001b[0;34m:\u001b[0m\u001b[0;34m\u001b[0m\u001b[0;34m\u001b[0m\u001b[0m\n\u001b[1;32m     47\u001b[0m     \u001b[0;32mwith\u001b[0m \u001b[0murllib\u001b[0m\u001b[0;34m.\u001b[0m\u001b[0mrequest\u001b[0m\u001b[0;34m.\u001b[0m\u001b[0murlopen\u001b[0m\u001b[0;34m(\u001b[0m\u001b[0murllib\u001b[0m\u001b[0;34m.\u001b[0m\u001b[0mrequest\u001b[0m\u001b[0;34m.\u001b[0m\u001b[0mRequest\u001b[0m\u001b[0;34m(\u001b[0m\u001b[0murl\u001b[0m\u001b[0;34m,\u001b[0m \u001b[0mheaders\u001b[0m\u001b[0;34m=\u001b[0m\u001b[0;34m{\u001b[0m\u001b[0;34m\"User-Agent\"\u001b[0m\u001b[0;34m:\u001b[0m \u001b[0mUSER_AGENT\u001b[0m\u001b[0;34m}\u001b[0m\u001b[0;34m)\u001b[0m\u001b[0;34m)\u001b[0m \u001b[0;32mas\u001b[0m \u001b[0mresponse\u001b[0m\u001b[0;34m:\u001b[0m\u001b[0;34m\u001b[0m\u001b[0;34m\u001b[0m\u001b[0m\n\u001b[0;32m---> 48\u001b[0;31m         \u001b[0m_save_response_content\u001b[0m\u001b[0;34m(\u001b[0m\u001b[0miter\u001b[0m\u001b[0;34m(\u001b[0m\u001b[0;32mlambda\u001b[0m\u001b[0;34m:\u001b[0m \u001b[0mresponse\u001b[0m\u001b[0;34m.\u001b[0m\u001b[0mread\u001b[0m\u001b[0;34m(\u001b[0m\u001b[0mchunk_size\u001b[0m\u001b[0;34m)\u001b[0m\u001b[0;34m,\u001b[0m \u001b[0;34mb\"\"\u001b[0m\u001b[0;34m)\u001b[0m\u001b[0;34m,\u001b[0m \u001b[0mfilename\u001b[0m\u001b[0;34m,\u001b[0m \u001b[0mlength\u001b[0m\u001b[0;34m=\u001b[0m\u001b[0mresponse\u001b[0m\u001b[0;34m.\u001b[0m\u001b[0mlength\u001b[0m\u001b[0;34m)\u001b[0m\u001b[0;34m\u001b[0m\u001b[0;34m\u001b[0m\u001b[0m\n\u001b[0m\u001b[1;32m     49\u001b[0m \u001b[0;34m\u001b[0m\u001b[0m\n\u001b[1;32m     50\u001b[0m \u001b[0;34m\u001b[0m\u001b[0m\n",
            "\u001b[0;32m/usr/lib/python3.10/http/client.py\u001b[0m in \u001b[0;36mread\u001b[0;34m(self, amt)\u001b[0m\n\u001b[1;32m    464\u001b[0m                 \u001b[0;31m# clip the read to the \"end of response\"\u001b[0m\u001b[0;34m\u001b[0m\u001b[0;34m\u001b[0m\u001b[0m\n\u001b[1;32m    465\u001b[0m                 \u001b[0mamt\u001b[0m \u001b[0;34m=\u001b[0m \u001b[0mself\u001b[0m\u001b[0;34m.\u001b[0m\u001b[0mlength\u001b[0m\u001b[0;34m\u001b[0m\u001b[0;34m\u001b[0m\u001b[0m\n\u001b[0;32m--> 466\u001b[0;31m             \u001b[0ms\u001b[0m \u001b[0;34m=\u001b[0m \u001b[0mself\u001b[0m\u001b[0;34m.\u001b[0m\u001b[0mfp\u001b[0m\u001b[0;34m.\u001b[0m\u001b[0mread\u001b[0m\u001b[0;34m(\u001b[0m\u001b[0mamt\u001b[0m\u001b[0;34m)\u001b[0m\u001b[0;34m\u001b[0m\u001b[0;34m\u001b[0m\u001b[0m\n\u001b[0m\u001b[1;32m    467\u001b[0m             \u001b[0;32mif\u001b[0m \u001b[0;32mnot\u001b[0m \u001b[0ms\u001b[0m \u001b[0;32mand\u001b[0m \u001b[0mamt\u001b[0m\u001b[0;34m:\u001b[0m\u001b[0;34m\u001b[0m\u001b[0;34m\u001b[0m\u001b[0m\n\u001b[1;32m    468\u001b[0m                 \u001b[0;31m# Ideally, we would raise IncompleteRead if the content-length\u001b[0m\u001b[0;34m\u001b[0m\u001b[0;34m\u001b[0m\u001b[0m\n",
            "\u001b[0;32m/usr/lib/python3.10/socket.py\u001b[0m in \u001b[0;36mreadinto\u001b[0;34m(self, b)\u001b[0m\n\u001b[1;32m    703\u001b[0m         \u001b[0;32mwhile\u001b[0m \u001b[0;32mTrue\u001b[0m\u001b[0;34m:\u001b[0m\u001b[0;34m\u001b[0m\u001b[0;34m\u001b[0m\u001b[0m\n\u001b[1;32m    704\u001b[0m             \u001b[0;32mtry\u001b[0m\u001b[0;34m:\u001b[0m\u001b[0;34m\u001b[0m\u001b[0;34m\u001b[0m\u001b[0m\n\u001b[0;32m--> 705\u001b[0;31m                 \u001b[0;32mreturn\u001b[0m \u001b[0mself\u001b[0m\u001b[0;34m.\u001b[0m\u001b[0m_sock\u001b[0m\u001b[0;34m.\u001b[0m\u001b[0mrecv_into\u001b[0m\u001b[0;34m(\u001b[0m\u001b[0mb\u001b[0m\u001b[0;34m)\u001b[0m\u001b[0;34m\u001b[0m\u001b[0;34m\u001b[0m\u001b[0m\n\u001b[0m\u001b[1;32m    706\u001b[0m             \u001b[0;32mexcept\u001b[0m \u001b[0mtimeout\u001b[0m\u001b[0;34m:\u001b[0m\u001b[0;34m\u001b[0m\u001b[0;34m\u001b[0m\u001b[0m\n\u001b[1;32m    707\u001b[0m                 \u001b[0mself\u001b[0m\u001b[0;34m.\u001b[0m\u001b[0m_timeout_occurred\u001b[0m \u001b[0;34m=\u001b[0m \u001b[0;32mTrue\u001b[0m\u001b[0;34m\u001b[0m\u001b[0;34m\u001b[0m\u001b[0m\n",
            "\u001b[0;32m/usr/lib/python3.10/ssl.py\u001b[0m in \u001b[0;36mrecv_into\u001b[0;34m(self, buffer, nbytes, flags)\u001b[0m\n\u001b[1;32m   1301\u001b[0m                   \u001b[0;34m\"non-zero flags not allowed in calls to recv_into() on %s\"\u001b[0m \u001b[0;34m%\u001b[0m\u001b[0;34m\u001b[0m\u001b[0;34m\u001b[0m\u001b[0m\n\u001b[1;32m   1302\u001b[0m                   self.__class__)\n\u001b[0;32m-> 1303\u001b[0;31m             \u001b[0;32mreturn\u001b[0m \u001b[0mself\u001b[0m\u001b[0;34m.\u001b[0m\u001b[0mread\u001b[0m\u001b[0;34m(\u001b[0m\u001b[0mnbytes\u001b[0m\u001b[0;34m,\u001b[0m \u001b[0mbuffer\u001b[0m\u001b[0;34m)\u001b[0m\u001b[0;34m\u001b[0m\u001b[0;34m\u001b[0m\u001b[0m\n\u001b[0m\u001b[1;32m   1304\u001b[0m         \u001b[0;32melse\u001b[0m\u001b[0;34m:\u001b[0m\u001b[0;34m\u001b[0m\u001b[0;34m\u001b[0m\u001b[0m\n\u001b[1;32m   1305\u001b[0m             \u001b[0;32mreturn\u001b[0m \u001b[0msuper\u001b[0m\u001b[0;34m(\u001b[0m\u001b[0;34m)\u001b[0m\u001b[0;34m.\u001b[0m\u001b[0mrecv_into\u001b[0m\u001b[0;34m(\u001b[0m\u001b[0mbuffer\u001b[0m\u001b[0;34m,\u001b[0m \u001b[0mnbytes\u001b[0m\u001b[0;34m,\u001b[0m \u001b[0mflags\u001b[0m\u001b[0;34m)\u001b[0m\u001b[0;34m\u001b[0m\u001b[0;34m\u001b[0m\u001b[0m\n",
            "\u001b[0;32m/usr/lib/python3.10/ssl.py\u001b[0m in \u001b[0;36mread\u001b[0;34m(self, len, buffer)\u001b[0m\n\u001b[1;32m   1157\u001b[0m         \u001b[0;32mtry\u001b[0m\u001b[0;34m:\u001b[0m\u001b[0;34m\u001b[0m\u001b[0;34m\u001b[0m\u001b[0m\n\u001b[1;32m   1158\u001b[0m             \u001b[0;32mif\u001b[0m \u001b[0mbuffer\u001b[0m \u001b[0;32mis\u001b[0m \u001b[0;32mnot\u001b[0m \u001b[0;32mNone\u001b[0m\u001b[0;34m:\u001b[0m\u001b[0;34m\u001b[0m\u001b[0;34m\u001b[0m\u001b[0m\n\u001b[0;32m-> 1159\u001b[0;31m                 \u001b[0;32mreturn\u001b[0m \u001b[0mself\u001b[0m\u001b[0;34m.\u001b[0m\u001b[0m_sslobj\u001b[0m\u001b[0;34m.\u001b[0m\u001b[0mread\u001b[0m\u001b[0;34m(\u001b[0m\u001b[0mlen\u001b[0m\u001b[0;34m,\u001b[0m \u001b[0mbuffer\u001b[0m\u001b[0;34m)\u001b[0m\u001b[0;34m\u001b[0m\u001b[0;34m\u001b[0m\u001b[0m\n\u001b[0m\u001b[1;32m   1160\u001b[0m             \u001b[0;32melse\u001b[0m\u001b[0;34m:\u001b[0m\u001b[0;34m\u001b[0m\u001b[0;34m\u001b[0m\u001b[0m\n\u001b[1;32m   1161\u001b[0m                 \u001b[0;32mreturn\u001b[0m \u001b[0mself\u001b[0m\u001b[0;34m.\u001b[0m\u001b[0m_sslobj\u001b[0m\u001b[0;34m.\u001b[0m\u001b[0mread\u001b[0m\u001b[0;34m(\u001b[0m\u001b[0mlen\u001b[0m\u001b[0;34m)\u001b[0m\u001b[0;34m\u001b[0m\u001b[0;34m\u001b[0m\u001b[0m\n",
            "\u001b[0;31mKeyboardInterrupt\u001b[0m: "
          ]
        }
      ]
    },
    {
      "cell_type": "code",
      "source": [
        "print(f'Data size: {emnist_data.data.shape}')\n",
        "\n",
        "images = emnist_data.data.view([emnist_data.data.shape[0],1,emnist_data.data.shape[1],emnist_data.data.shape[2]]).float()\n",
        "\n",
        "print(f'Tensor data: {images.shape}')"
      ],
      "metadata": {
        "colab": {
          "base_uri": "https://localhost:8080/"
        },
        "id": "UkhQCA3LMMue",
        "outputId": "0eedc256-56c3-4f40-974c-ada0b98dce0e"
      },
      "execution_count": null,
      "outputs": [
        {
          "output_type": "stream",
          "name": "stdout",
          "text": [
            "Data size: torch.Size([124800, 28, 28])\n",
            "Tensor data: torch.Size([124800, 1, 28, 28])\n"
          ]
        }
      ]
    },
    {
      "cell_type": "code",
      "source": [
        "emnist_data.class_to_idx"
      ],
      "metadata": {
        "colab": {
          "base_uri": "https://localhost:8080/"
        },
        "id": "A_TFpd-9Mj4e",
        "outputId": "90fa3e61-8681-4d99-fc54-b9822cc89459"
      },
      "execution_count": null,
      "outputs": [
        {
          "output_type": "execute_result",
          "data": {
            "text/plain": [
              "{'N/A': 0,\n",
              " 'a': 1,\n",
              " 'b': 2,\n",
              " 'c': 3,\n",
              " 'd': 4,\n",
              " 'e': 5,\n",
              " 'f': 6,\n",
              " 'g': 7,\n",
              " 'h': 8,\n",
              " 'i': 9,\n",
              " 'j': 10,\n",
              " 'k': 11,\n",
              " 'l': 12,\n",
              " 'm': 13,\n",
              " 'n': 14,\n",
              " 'o': 15,\n",
              " 'p': 16,\n",
              " 'q': 17,\n",
              " 'r': 18,\n",
              " 's': 19,\n",
              " 't': 20,\n",
              " 'u': 21,\n",
              " 'v': 22,\n",
              " 'w': 23,\n",
              " 'x': 24,\n",
              " 'y': 25,\n",
              " 'z': 26}"
            ]
          },
          "metadata": {},
          "execution_count": 46
        }
      ]
    },
    {
      "cell_type": "code",
      "source": [
        "letterCategories = emnist_data.classes[1:]\n",
        "labels = copy.deepcopy(emnist_data.targets)-1\n",
        "print(labels.shape)"
      ],
      "metadata": {
        "id": "wrnfvSiuN7ZL",
        "colab": {
          "base_uri": "https://localhost:8080/"
        },
        "outputId": "b68c873d-21b8-4cd8-cfdf-6694cf3ecda0"
      },
      "execution_count": null,
      "outputs": [
        {
          "output_type": "stream",
          "name": "stdout",
          "text": [
            "torch.Size([124800])\n"
          ]
        }
      ]
    },
    {
      "cell_type": "code",
      "source": [
        "labels.unique()"
      ],
      "metadata": {
        "colab": {
          "base_uri": "https://localhost:8080/"
        },
        "id": "ogA6ZEAIQdLI",
        "outputId": "b720bf37-fc1d-4910-e82c-c09232616d51"
      },
      "execution_count": null,
      "outputs": [
        {
          "output_type": "execute_result",
          "data": {
            "text/plain": [
              "tensor([ 0,  1,  2,  3,  4,  5,  6,  7,  8,  9, 10, 11, 12, 13, 14, 15, 16, 17,\n",
              "        18, 19, 20, 21, 22, 23, 24, 25])"
            ]
          },
          "metadata": {},
          "execution_count": 48
        }
      ]
    },
    {
      "cell_type": "code",
      "source": [
        "# visualize\n",
        "\n",
        "fig, axs = plt.subplots(3,7, figsize=(13,6))\n",
        "\n",
        "for i, ax in enumerate(axs.flatten()):\n",
        "  pic = np.random.randint(images.shape[0])\n",
        "\n",
        "  image = np.squeeze(images[pic,:,:])\n",
        "  letter = letterCategories[labels[pic]]\n",
        "\n",
        "  ax.imshow(image.T,cmap='gray')\n",
        "  ax.set_title(f\"{letter}\")\n",
        "  ax.set_xticks([])\n",
        "  ax.set_yticks([])\n",
        "plt.show()"
      ],
      "metadata": {
        "colab": {
          "base_uri": "https://localhost:8080/",
          "height": 462
        },
        "id": "uxfMcDCcQFzc",
        "outputId": "3ec54696-0ee2-4d52-ff89-7428fd41aa68"
      },
      "execution_count": null,
      "outputs": [
        {
          "output_type": "display_data",
          "data": {
            "text/plain": [
              "<Figure size 1300x600 with 21 Axes>"
            ],
            "image/png": "[encoded data removed]"
          },
          "metadata": {}
        }
      ]
    },
    {
      "cell_type": "markdown",
      "source": [
        "### Create train/test sets"
      ],
      "metadata": {
        "id": "1ry4nIhhQMNw"
      }
    },
    {
      "cell_type": "code",
      "source": [
        "import os\n",
        "from torch.utils.data import DataLoader,TensorDataset\n",
        "from sklearn.model_selection import train_test_split\n",
        "\n",
        "num_workers = os.cpu_count()\n",
        "print(num_workers)\n",
        "\n",
        "train_data, test_data, train_labels, test_labels = train_test_split(images, labels, test_size=.1)\n",
        "\n",
        "train_data = TensorDataset(train_data,train_labels)\n",
        "train_data = TensorDataset(test_data,test_labels)\n",
        "\n",
        "batch_size = 32\n",
        "train_dataloader = DataLoader(train_data,\n",
        "                              batch_size=batch_size,\n",
        "                              shuffle=True,\n",
        "                              num_workers=num_workers,\n",
        "                              pin_memory=True)\n",
        "test_dataloader = DataLoader(test_data,\n",
        "                              batch_size=batch_size,\n",
        "                              shuffle=False,\n",
        "                              num_workers=num_workers,\n",
        "                              pin_memory=True)\n"
      ],
      "metadata": {
        "colab": {
          "base_uri": "https://localhost:8080/"
        },
        "id": "clGd8LapTigC",
        "outputId": "71a6053d-b64f-4a85-c8c7-c735a409bfa8"
      },
      "execution_count": null,
      "outputs": [
        {
          "output_type": "stream",
          "name": "stdout",
          "text": [
            "2\n"
          ]
        }
      ]
    },
    {
      "cell_type": "code",
      "source": [
        "train_dataloader,test_dataloader"
      ],
      "metadata": {
        "colab": {
          "base_uri": "https://localhost:8080/"
        },
        "id": "umaCUdBnVTSn",
        "outputId": "b1dc82c1-1663-46fb-dd21-30a6ad0a39e7"
      },
      "execution_count": null,
      "outputs": [
        {
          "output_type": "execute_result",
          "data": {
            "text/plain": [
              "(<torch.utils.data.dataloader.DataLoader at 0x7cce096f5930>,\n",
              " <torch.utils.data.dataloader.DataLoader at 0x7cce096f5900>)"
            ]
          },
          "metadata": {},
          "execution_count": 56
        }
      ]
    },
    {
      "cell_type": "code",
      "source": [
        "img, label = next(iter(train_dataloader))\n",
        "\n",
        "# Batch size will now be 1, try changing the batch_size parameter above and see what happens\n",
        "print(f\"Image shape: {img.shape} -> [batch_size, color_channels, height, width]\")\n",
        "print(f\"Label shape: {label.shape}\")"
      ],
      "metadata": {
        "colab": {
          "base_uri": "https://localhost:8080/"
        },
        "id": "5kOEnCnkVS-b",
        "outputId": "21bf3195-fa14-45c7-ef53-c1f37cb433ff"
      },
      "execution_count": null,
      "outputs": [
        {
          "output_type": "stream",
          "name": "stdout",
          "text": [
            "Image shape: torch.Size([32, 1, 28, 28]) -> [batch_size, color_channels, height, width]\n",
            "Label shape: torch.Size([32])\n"
          ]
        }
      ]
    },
    {
      "cell_type": "code",
      "source": [
        "print(train_dataloader.dataset.tensors[0].shape)\n",
        "print(train_dataloader.dataset.tensors[1].shape)\n"
      ],
      "metadata": {
        "colab": {
          "base_uri": "https://localhost:8080/"
        },
        "id": "TSfoueT1V6Hj",
        "outputId": "068a59ea-f33d-424b-c2f2-c2b7393f823c"
      },
      "execution_count": null,
      "outputs": [
        {
          "output_type": "stream",
          "name": "stdout",
          "text": [
            "torch.Size([12480, 1, 28, 28])\n",
            "torch.Size([12480])\n"
          ]
        }
      ]
    },
    {
      "cell_type": "code",
      "source": [],
      "metadata": {
        "id": "ar4KjW0lWmv9"
      },
      "execution_count": null,
      "outputs": []
    }
  ],
  "metadata": {
    "colab": {
      "provenance": [],
      "gpuType": "V100",
      "mount_file_id": "1EKEyqgZa0_c6u6eQpCNFYRi5iwJO3Ckf",
      "authorship_tag": "ABX9TyMiPwYpbCJ1vmoDgQxPcAKq",
      "include_colab_link": true
    },
    "kernelspec": {
      "display_name": "Python 3",
      "name": "python3"
    },
    "language_info": {
      "name": "python"
    },
    "accelerator": "GPU"
  },
  "nbformat": 4,
  "nbformat_minor": 0
}