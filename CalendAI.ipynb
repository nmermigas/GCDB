{
  "cells": [
    {
      "cell_type": "markdown",
      "metadata": {
        "id": "view-in-github",
        "colab_type": "text"
      },
      "source": [
        "<a href=\"https://colab.research.google.com/github/nmermigas/GCDB/blob/main/CalendAI.ipynb\" target=\"_parent\"><img src=\"https://colab.research.google.com/assets/colab-badge.svg\" alt=\"Open In Colab\"/></a>"
      ]
    },
    {
      "cell_type": "markdown",
      "source": [
        "## 0. Imports"
      ],
      "metadata": {
        "id": "YRWf6LYuqqhM"
      }
    },
    {
      "cell_type": "code",
      "source": [
        "import torch\n",
        "import torchvision\n",
        "import requests\n",
        "import zipfile\n",
        "import matplotlib.pyplot as plt\n",
        "import copy\n",
        "\n",
        "from pathlib import Path\n",
        "from torch import nn\n",
        "from torchvision import datasets,transforms\n",
        "\n",
        "import os\n",
        "from torch.utils.data import DataLoader,TensorDataset\n",
        "from sklearn.model_selection import train_test_split"
      ],
      "metadata": {
        "id": "wt_I8X5SgMFQ"
      },
      "execution_count": null,
      "outputs": []
    },
    {
      "cell_type": "markdown",
      "source": [
        "## 1. Setting up device agnostic code"
      ],
      "metadata": {
        "id": "7s9A-gySquXK"
      }
    },
    {
      "cell_type": "code",
      "source": [
        "device = \"cuda\" if torch.cuda.is_available() else \"cpu\"\n",
        "device"
      ],
      "metadata": {
        "colab": {
          "base_uri": "https://localhost:8080/",
          "height": 35
        },
        "id": "phDl2Cksqxkk",
        "outputId": "b229a539-604a-4494-aed5-13a83ccd89f9"
      },
      "execution_count": null,
      "outputs": [
        {
          "output_type": "execute_result",
          "data": {
            "text/plain": [
              "'cuda'"
            ],
            "application/vnd.google.colaboratory.intrinsic+json": {
              "type": "string"
            }
          },
          "metadata": {},
          "execution_count": 2
        }
      ]
    },
    {
      "cell_type": "markdown",
      "source": [
        "## 2. Get data"
      ],
      "metadata": {
        "id": "dNhOLyXGq0Z7"
      }
    },
    {
      "cell_type": "markdown",
      "source": [
        "### 2.1 The GCDB dataset\n",
        "- contains data from handwritten letters in Greek, both uppercase and lowercase."
      ],
      "metadata": {
        "id": "SgZtS5K9q5Cx"
      }
    },
    {
      "cell_type": "code",
      "source": [
        "data_path=Path('data/')\n",
        "gcdb_path = data_path / 'gcdb'\n",
        "\n",
        "if gcdb_path.is_dir():\n",
        "  print(f'{gcdb_path} directory exists')\n",
        "else:\n",
        "  print(f\"Did not find {gcdb_path} directory, creating one...\")\n",
        "  gcdb_path.mkdir(parents=True, exist_ok=True)\n",
        "\n",
        "  # Download pizza, steak, sushi data\n",
        "  with open(data_path / \"gcdb.zip\", \"wb\") as f:\n",
        "      request = requests.get(\"https://github.com/nmermigas/GCDB/raw/main/gcdb.zip\")\n",
        "      print(\"Downloading gcdb data...\")\n",
        "      f.write(request.content)\n",
        "  # Unzip pizza, steak, sushi data\n",
        "  with zipfile.ZipFile(data_path / \"gcdb.zip\", \"r\") as zip_ref:\n",
        "      print(\"Unzipping gcdb data...\")\n",
        "      zip_ref.extractall(gcdb_path)\n",
        "!rm $data_path/gcdb.zip"
      ],
      "metadata": {
        "colab": {
          "base_uri": "https://localhost:8080/"
        },
        "id": "Tv7DZ-_RgXYW",
        "outputId": "28dacdcb-6426-478a-eb25-6c0710fbc506"
      },
      "execution_count": null,
      "outputs": [
        {
          "output_type": "stream",
          "name": "stdout",
          "text": [
            "Did not find data/gcdb directory, creating one...\n",
            "Downloading gcdb data...\n",
            "Unzipping gcdb data...\n"
          ]
        }
      ]
    },
    {
      "cell_type": "markdown",
      "source": [
        "Creating train and test datasets out of the GCDB dataset.\n",
        "Seeing the structure of the folder we downloaded, the data format is the one below:\n",
        "\n",
        "    gcdb/\n",
        "      Query/\n",
        "        LETT_CAP_NORM.ALPHA/\n",
        "          form_1.bmp\n",
        "          form_2.bmp\n",
        "          ...\n",
        "        LETT_CAP_NORM.BETA/\n",
        "          form_1.bmp\n",
        "          form_2.bmp\n",
        "          ...\n",
        "        LETT_CAP_SUFF.ALPHA/\n",
        "          form_1.bmp\n",
        "          form_2.bmp\n",
        "          ...\n",
        "        LETT_CAP_SUFF.BETA/\n",
        "          form_1.bmp\n",
        "          form_2.bmp\n",
        "          ...\n",
        "        LETT_SML_NORM.ALPHA/\n",
        "          form_1.bmp\n",
        "          form_2.bmp\n",
        "          ...\n",
        "        LETT_SML_NORM.BETA/\n",
        "          form_1.bmp\n",
        "          form_2.bmp\n",
        "          ...\n",
        "        LETT_SML_SUFF.ALPHA/\n",
        "          form_1.bmp\n",
        "          form_2.bmp\n",
        "          ...\n",
        "        LETT_SML_SUFF.BETA/\n",
        "          form_1.bmp\n",
        "          form_2.bmp\n",
        "          ...\n",
        "\n",
        "\n",
        "\n",
        "\n",
        "\n",
        "\n",
        "\n",
        "\n",
        "\n"
      ],
      "metadata": {
        "id": "HOh6SvXXiQ2F"
      }
    },
    {
      "cell_type": "markdown",
      "source": [
        "For each of the 24 letters of the greek alphabet, there are two folders for its uppercase and 2 folders for its lowercase version.\n",
        "\n",
        "Each folder contains `bmp` images.\n",
        "\n",
        "\n"
      ],
      "metadata": {
        "id": "1_uFfs-As_7l"
      }
    },
    {
      "cell_type": "markdown",
      "source": [
        "Our goal is to create the following structure:\n",
        "\n",
        "\n",
        "    gcdb/\n",
        "      train/\n",
        "        ALPHA/\n",
        "          form_1.bmp\n",
        "          form_2.bmp\n",
        "          ...\n",
        "        alpha/\n",
        "          form_1.bmp\n",
        "          form_2.bmp\n",
        "          ...\n",
        "        BETA/\n",
        "          form_1.bmp\n",
        "          form_2.bmp\n",
        "          ...\n",
        "        beta/\n",
        "          form_1.bmp\n",
        "          form_2.bmp\n",
        "          ...\n",
        "        GAMMA/\n",
        "          form_1.bmp\n",
        "          form_2.bmp\n",
        "        ...\n",
        "        gamma/\n",
        "          form_1.bmp\n",
        "          form_2.bmp\n",
        "          ...\n",
        "      test/\n",
        "        ALPHA/\n",
        "          form_1.bmp\n",
        "          form_2.bmp\n",
        "          ...\n",
        "        alpha/\n",
        "          form_1.bmp\n",
        "          form_2.bmp\n",
        "          ...\n",
        "        BETA/\n",
        "          form_1.bmp\n",
        "          form_2.bmp\n",
        "          ...\n",
        "        beta/\n",
        "          form_1.bmp\n",
        "          form_2.bmp\n",
        "          ...\n",
        "        GAMMA/\n",
        "          form_1.bmp\n",
        "          form_2.bmp\n",
        "          ...\n",
        "        gamma/\n",
        "          form_1.bmp\n",
        "          form_2.bmp\n",
        "          ...\n",
        "        ...\n",
        "\n"
      ],
      "metadata": {
        "id": "q3v8_6-1t8gc"
      }
    },
    {
      "cell_type": "markdown",
      "source": [
        "So basically, combine the NORM and the SUFF data for each letter into one and then split them into train and test folders."
      ],
      "metadata": {
        "id": "tP64e7YuvJat"
      }
    },
    {
      "cell_type": "markdown",
      "source": [
        "We can inspect what's in our data directory by writing a small helper function to walk through each of the subdirectories and count the files present."
      ],
      "metadata": {
        "id": "sWTFbEUvvdBM"
      }
    },
    {
      "cell_type": "markdown",
      "source": [
        "To do so, we'll use Python's in-built `os.walk()`\n",
        "\n",
        "\n"
      ],
      "metadata": {
        "id": "S9ZIPft-vcs1"
      }
    },
    {
      "cell_type": "code",
      "source": [
        "import os\n",
        "def walk_through_dir(dir_path):\n",
        "  \"\"\"\n",
        "  Walks through dir_path returning its contents.\n",
        "  Args:\n",
        "    dir_path (str or pathlib.Path): target directory\n",
        "\n",
        "  Returns:\n",
        "    A print out of:\n",
        "      number of subdiretories in dir_path\n",
        "      number of images (files) in each subdirectory\n",
        "      name of each subdirectory\n",
        "  \"\"\"\n",
        "  for dirpath, dirnames, filenames in os.walk(dir_path):\n",
        "    print(f\"There are {len(dirnames)} directories and {len(filenames)} images in '{dirpath}'.\")"
      ],
      "metadata": {
        "id": "-wLvlD7vuBU5"
      },
      "execution_count": null,
      "outputs": []
    },
    {
      "cell_type": "code",
      "source": [
        "walk_through_dir(gcdb_path)\n"
      ],
      "metadata": {
        "colab": {
          "base_uri": "https://localhost:8080/"
        },
        "id": "5GsFinKNvwov",
        "outputId": "7901d305-b48d-4034-d8c9-186ddf982645"
      },
      "execution_count": null,
      "outputs": [
        {
          "output_type": "stream",
          "name": "stdout",
          "text": [
            "There are 1 directories and 0 images in 'data/gcdb'.\n",
            "There are 96 directories and 0 images in 'data/gcdb/Query'.\n",
            "There are 0 directories and 441 images in 'data/gcdb/Query/LETT_CAP_NORM.OMIKRON'.\n",
            "There are 0 directories and 456 images in 'data/gcdb/Query/LETT_CAP_NORM.THETA'.\n",
            "There are 0 directories and 436 images in 'data/gcdb/Query/LETT_SML_NORM.EPSILON'.\n",
            "There are 0 directories and 404 images in 'data/gcdb/Query/LETT_SML_SUFF.IOTA'.\n",
            "There are 0 directories and 451 images in 'data/gcdb/Query/LETT_CAP_NORM.PSI'.\n",
            "There are 0 directories and 457 images in 'data/gcdb/Query/LETT_SML_NORM.THETA'.\n",
            "There are 0 directories and 456 images in 'data/gcdb/Query/LETT_CAP_NORM.ZETA'.\n",
            "There are 0 directories and 442 images in 'data/gcdb/Query/LETT_SML_NORM.SIGMA'.\n",
            "There are 0 directories and 430 images in 'data/gcdb/Query/LETT_SML_NORM.TAU'.\n",
            "There are 0 directories and 456 images in 'data/gcdb/Query/LETT_SML_SUFF.THETA'.\n",
            "There are 0 directories and 445 images in 'data/gcdb/Query/LETT_CAP_NORM.KAPA'.\n",
            "There are 0 directories and 439 images in 'data/gcdb/Query/LETT_SML_NORM.KAPA'.\n",
            "There are 0 directories and 456 images in 'data/gcdb/Query/LETT_SML_SUFF.FI'.\n",
            "There are 0 directories and 444 images in 'data/gcdb/Query/LETT_CAP_NORM.IOTA'.\n",
            "There are 0 directories and 456 images in 'data/gcdb/Query/LETT_SML_SUFF.DELTA'.\n",
            "There are 0 directories and 445 images in 'data/gcdb/Query/LETT_CAP_SUFF.XI'.\n",
            "There are 0 directories and 442 images in 'data/gcdb/Query/LETT_CAP_NORM.GAMMA'.\n",
            "There are 0 directories and 448 images in 'data/gcdb/Query/LETT_SML_SUFF.KAPA'.\n",
            "There are 0 directories and 446 images in 'data/gcdb/Query/LETT_SML_NORM.HETA'.\n",
            "There are 0 directories and 442 images in 'data/gcdb/Query/LETT_SML_NORM.OMEGA'.\n",
            "There are 0 directories and 456 images in 'data/gcdb/Query/LETT_CAP_NORM.HETA'.\n",
            "There are 0 directories and 454 images in 'data/gcdb/Query/LETT_CAP_NORM.FI'.\n",
            "There are 0 directories and 457 images in 'data/gcdb/Query/LETT_CAP_NORM.ALPHA'.\n",
            "There are 0 directories and 432 images in 'data/gcdb/Query/LETT_CAP_SUFF.TAU'.\n",
            "There are 0 directories and 450 images in 'data/gcdb/Query/LETT_SML_NORM.XI'.\n",
            "There are 0 directories and 445 images in 'data/gcdb/Query/LETT_CAP_SUFF.LAMDA'.\n",
            "There are 0 directories and 451 images in 'data/gcdb/Query/LETT_CAP_SUFF.ZETA'.\n",
            "There are 0 directories and 450 images in 'data/gcdb/Query/LETT_SML_SUFF.OMIKRON'.\n",
            "There are 0 directories and 456 images in 'data/gcdb/Query/LETT_SML_NORM.LAMDA'.\n",
            "There are 0 directories and 453 images in 'data/gcdb/Query/LETT_SML_NORM.DELTA'.\n",
            "There are 0 directories and 455 images in 'data/gcdb/Query/LETT_CAP_NORM.LAMDA'.\n",
            "There are 0 directories and 455 images in 'data/gcdb/Query/LETT_SML_SUFF.GAMMA'.\n",
            "There are 0 directories and 451 images in 'data/gcdb/Query/LETT_SML_NORM.FI'.\n",
            "There are 0 directories and 440 images in 'data/gcdb/Query/LETT_SML_SUFF.YPSILON'.\n",
            "There are 0 directories and 443 images in 'data/gcdb/Query/LETT_SML_SUFF.MI'.\n",
            "There are 0 directories and 452 images in 'data/gcdb/Query/LETT_CAP_NORM.RO'.\n",
            "There are 0 directories and 453 images in 'data/gcdb/Query/LETT_CAP_NORM.NI'.\n",
            "There are 0 directories and 451 images in 'data/gcdb/Query/LETT_CAP_SUFF.EPSILON'.\n",
            "There are 0 directories and 428 images in 'data/gcdb/Query/LETT_CAP_SUFF.IOTA'.\n",
            "There are 0 directories and 457 images in 'data/gcdb/Query/LETT_CAP_NORM.DELTA'.\n",
            "There are 0 directories and 458 images in 'data/gcdb/Query/LETT_SML_NORM.ZETA'.\n",
            "There are 0 directories and 454 images in 'data/gcdb/Query/LETT_SML_SUFF.BETA'.\n",
            "There are 0 directories and 453 images in 'data/gcdb/Query/LETT_SML_SUFF.SIGMA'.\n",
            "There are 0 directories and 449 images in 'data/gcdb/Query/LETT_SML_SUFF.PSI'.\n",
            "There are 0 directories and 456 images in 'data/gcdb/Query/LETT_CAP_NORM.BETA'.\n",
            "There are 0 directories and 451 images in 'data/gcdb/Query/LETT_CAP_SUFF.OMEGA'.\n",
            "There are 0 directories and 453 images in 'data/gcdb/Query/LETT_CAP_SUFF.THETA'.\n",
            "There are 0 directories and 450 images in 'data/gcdb/Query/LETT_CAP_NORM.EPSILON'.\n",
            "There are 0 directories and 441 images in 'data/gcdb/Query/LETT_CAP_NORM.YPSILON'.\n",
            "There are 0 directories and 453 images in 'data/gcdb/Query/LETT_CAP_SUFF.BETA'.\n",
            "There are 0 directories and 422 images in 'data/gcdb/Query/LETT_SML_SUFF.NI'.\n",
            "There are 0 directories and 447 images in 'data/gcdb/Query/LETT_SML_NORM.PII'.\n",
            "There are 0 directories and 441 images in 'data/gcdb/Query/LETT_CAP_NORM.OMEGA'.\n",
            "There are 0 directories and 443 images in 'data/gcdb/Query/LETT_SML_NORM.NI'.\n",
            "There are 0 directories and 448 images in 'data/gcdb/Query/LETT_SML_NORM.ALPHA'.\n",
            "There are 0 directories and 448 images in 'data/gcdb/Query/LETT_SML_SUFF.ALPHA'.\n",
            "There are 0 directories and 451 images in 'data/gcdb/Query/LETT_SML_NORM.GAMMA'.\n",
            "There are 0 directories and 451 images in 'data/gcdb/Query/LETT_CAP_SUFF.RO'.\n",
            "There are 0 directories and 460 images in 'data/gcdb/Query/LETT_CAP_SUFF.DELTA'.\n",
            "There are 0 directories and 453 images in 'data/gcdb/Query/LETT_SML_SUFF.ZETA'.\n",
            "There are 0 directories and 445 images in 'data/gcdb/Query/LETT_SML_SUFF.TAU'.\n",
            "There are 0 directories and 446 images in 'data/gcdb/Query/LETT_CAP_NORM.SIGMA'.\n",
            "There are 0 directories and 446 images in 'data/gcdb/Query/LETT_CAP_NORM.TAU'.\n",
            "There are 0 directories and 458 images in 'data/gcdb/Query/LETT_CAP_NORM.MI'.\n",
            "There are 0 directories and 453 images in 'data/gcdb/Query/LETT_CAP_SUFF.ALPHA'.\n",
            "There are 0 directories and 458 images in 'data/gcdb/Query/LETT_CAP_SUFF.PII'.\n",
            "There are 0 directories and 450 images in 'data/gcdb/Query/LETT_CAP_NORM.XI'.\n",
            "There are 0 directories and 453 images in 'data/gcdb/Query/LETT_SML_SUFF.PII'.\n",
            "There are 0 directories and 445 images in 'data/gcdb/Query/LETT_SML_SUFF.XI'.\n",
            "There are 0 directories and 453 images in 'data/gcdb/Query/LETT_SML_NORM.BETA'.\n",
            "There are 0 directories and 443 images in 'data/gcdb/Query/LETT_SML_SUFF.HETA'.\n",
            "There are 0 directories and 452 images in 'data/gcdb/Query/LETT_CAP_SUFF.OMIKRON'.\n",
            "There are 0 directories and 456 images in 'data/gcdb/Query/LETT_SML_NORM.KSI'.\n",
            "There are 0 directories and 442 images in 'data/gcdb/Query/LETT_CAP_SUFF.YPSILON'.\n",
            "There are 0 directories and 432 images in 'data/gcdb/Query/LETT_SML_NORM.IOTA'.\n",
            "There are 0 directories and 419 images in 'data/gcdb/Query/LETT_CAP_NORM.KSI'.\n",
            "There are 0 directories and 454 images in 'data/gcdb/Query/LETT_CAP_NORM.PII'.\n",
            "There are 0 directories and 451 images in 'data/gcdb/Query/LETT_CAP_SUFF.NI'.\n",
            "There are 0 directories and 446 images in 'data/gcdb/Query/LETT_SML_SUFF.OMEGA'.\n",
            "There are 0 directories and 451 images in 'data/gcdb/Query/LETT_SML_SUFF.EPSILON'.\n",
            "There are 0 directories and 409 images in 'data/gcdb/Query/LETT_CAP_SUFF.KSI'.\n",
            "There are 0 directories and 448 images in 'data/gcdb/Query/LETT_CAP_SUFF.KAPA'.\n",
            "There are 0 directories and 447 images in 'data/gcdb/Query/LETT_CAP_SUFF.MI'.\n",
            "There are 0 directories and 442 images in 'data/gcdb/Query/LETT_CAP_SUFF.GAMMA'.\n",
            "There are 0 directories and 451 images in 'data/gcdb/Query/LETT_SML_NORM.PSI'.\n",
            "There are 0 directories and 455 images in 'data/gcdb/Query/LETT_SML_NORM.MI'.\n",
            "There are 0 directories and 449 images in 'data/gcdb/Query/LETT_SML_NORM.RO'.\n",
            "There are 0 directories and 429 images in 'data/gcdb/Query/LETT_SML_NORM.YPSILON'.\n",
            "There are 0 directories and 443 images in 'data/gcdb/Query/LETT_CAP_SUFF.SIGMA'.\n",
            "There are 0 directories and 455 images in 'data/gcdb/Query/LETT_SML_SUFF.RO'.\n",
            "There are 0 directories and 448 images in 'data/gcdb/Query/LETT_CAP_SUFF.PSI'.\n",
            "There are 0 directories and 460 images in 'data/gcdb/Query/LETT_CAP_SUFF.FI'.\n",
            "There are 0 directories and 456 images in 'data/gcdb/Query/LETT_SML_SUFF.LAMDA'.\n",
            "There are 0 directories and 419 images in 'data/gcdb/Query/LETT_SML_NORM.OMIKRON'.\n",
            "There are 0 directories and 457 images in 'data/gcdb/Query/LETT_SML_SUFF.KSI'.\n",
            "There are 0 directories and 447 images in 'data/gcdb/Query/LETT_CAP_SUFF.HETA'.\n"
          ]
        }
      ]
    },
    {
      "cell_type": "markdown",
      "source": [
        "It looks like we have 96 directories (4 directories * 24 letters) with each containing roughly 430 images."
      ],
      "metadata": {
        "id": "bWhTUcrJwFL3"
      }
    },
    {
      "cell_type": "markdown",
      "source": [
        "Now let's combine the data for each letter.\n"
      ],
      "metadata": {
        "id": "u-7CO2GBwv4V"
      }
    },
    {
      "cell_type": "code",
      "source": [
        "source_dir = \"data/gcdb/Query\"\n",
        "for root, dirs, files in os.walk(source_dir):\n",
        "    for dir_name in dirs:\n",
        "        letter = dir_name.split(\".\")[1]\n",
        "        case = dir_name.split('_')[1]\n",
        "        print(f'{case}.{letter}')"
      ],
      "metadata": {
        "colab": {
          "base_uri": "https://localhost:8080/"
        },
        "id": "FDSbRSItpEuW",
        "outputId": "3422abdc-1dc1-4b39-9af3-d52133d8732b"
      },
      "execution_count": null,
      "outputs": [
        {
          "output_type": "stream",
          "name": "stdout",
          "text": [
            "CAP.OMIKRON\n",
            "CAP.THETA\n",
            "SML.EPSILON\n",
            "SML.IOTA\n",
            "CAP.PSI\n",
            "SML.THETA\n",
            "CAP.ZETA\n",
            "SML.SIGMA\n",
            "SML.TAU\n",
            "SML.THETA\n",
            "CAP.KAPA\n",
            "SML.KAPA\n",
            "SML.FI\n",
            "CAP.IOTA\n",
            "SML.DELTA\n",
            "CAP.XI\n",
            "CAP.GAMMA\n",
            "SML.KAPA\n",
            "SML.HETA\n",
            "SML.OMEGA\n",
            "CAP.HETA\n",
            "CAP.FI\n",
            "CAP.ALPHA\n",
            "CAP.TAU\n",
            "SML.XI\n",
            "CAP.LAMDA\n",
            "CAP.ZETA\n",
            "SML.OMIKRON\n",
            "SML.LAMDA\n",
            "SML.DELTA\n",
            "CAP.LAMDA\n",
            "SML.GAMMA\n",
            "SML.FI\n",
            "SML.YPSILON\n",
            "SML.MI\n",
            "CAP.RO\n",
            "CAP.NI\n",
            "CAP.EPSILON\n",
            "CAP.IOTA\n",
            "CAP.DELTA\n",
            "SML.ZETA\n",
            "SML.BETA\n",
            "SML.SIGMA\n",
            "SML.PSI\n",
            "CAP.BETA\n",
            "CAP.OMEGA\n",
            "CAP.THETA\n",
            "CAP.EPSILON\n",
            "CAP.YPSILON\n",
            "CAP.BETA\n",
            "SML.NI\n",
            "SML.PII\n",
            "CAP.OMEGA\n",
            "SML.NI\n",
            "SML.ALPHA\n",
            "SML.ALPHA\n",
            "SML.GAMMA\n",
            "CAP.RO\n",
            "CAP.DELTA\n",
            "SML.ZETA\n",
            "SML.TAU\n",
            "CAP.SIGMA\n",
            "CAP.TAU\n",
            "CAP.MI\n",
            "CAP.ALPHA\n",
            "CAP.PII\n",
            "CAP.XI\n",
            "SML.PII\n",
            "SML.XI\n",
            "SML.BETA\n",
            "SML.HETA\n",
            "CAP.OMIKRON\n",
            "SML.KSI\n",
            "CAP.YPSILON\n",
            "SML.IOTA\n",
            "CAP.KSI\n",
            "CAP.PII\n",
            "CAP.NI\n",
            "SML.OMEGA\n",
            "SML.EPSILON\n",
            "CAP.KSI\n",
            "CAP.KAPA\n",
            "CAP.MI\n",
            "CAP.GAMMA\n",
            "SML.PSI\n",
            "SML.MI\n",
            "SML.RO\n",
            "SML.YPSILON\n",
            "CAP.SIGMA\n",
            "SML.RO\n",
            "CAP.PSI\n",
            "CAP.FI\n",
            "SML.LAMDA\n",
            "SML.OMIKRON\n",
            "SML.KSI\n",
            "CAP.HETA\n"
          ]
        }
      ]
    },
    {
      "cell_type": "code",
      "source": [
        "gcdb_path_full = gcdb_path / 'Query'\n",
        "gcdb_path_full"
      ],
      "metadata": {
        "colab": {
          "base_uri": "https://localhost:8080/"
        },
        "id": "JKVsYmuDta6R",
        "outputId": "a3a7eaad-7e82-4a88-8737-d387ee0d1b1c"
      },
      "execution_count": null,
      "outputs": [
        {
          "output_type": "execute_result",
          "data": {
            "text/plain": [
              "PosixPath('data/gcdb/Query')"
            ]
          },
          "metadata": {},
          "execution_count": 7
        }
      ]
    },
    {
      "cell_type": "markdown",
      "source": [
        "Creating the train test directories"
      ],
      "metadata": {
        "id": "QVh7RYeC2Qxy"
      }
    },
    {
      "cell_type": "code",
      "source": [
        "# Setup train and testing paths\n",
        "train_dir = gcdb_path / \"train\"\n",
        "test_dir =  gcdb_path / \"test\"\n",
        "\n",
        "train_dir, test_dir\n",
        "\n",
        "train_dir.mkdir(parents=True, exist_ok=True)\n",
        "test_dir.mkdir(parents=True, exist_ok=True)"
      ],
      "metadata": {
        "id": "8xplysHe1gFl"
      },
      "execution_count": null,
      "outputs": []
    },
    {
      "cell_type": "markdown",
      "source": [
        "### 2.2 Visualizing a random image"
      ],
      "metadata": {
        "id": "-FvvQTprtItY"
      }
    },
    {
      "cell_type": "code",
      "source": [
        "import random\n",
        "from PIL import Image\n",
        "import numpy as np\n",
        "import matplotlib.pyplot as plt\n",
        "\n",
        "\n",
        "# random.seed(42)\n",
        "\n",
        "image_path_list = list(gcdb_path.glob(\"*/*/*.bmp\"))\n",
        "# print(image_path_list[:10])\n",
        "\n",
        "random_image_path = random.choice(image_path_list)\n",
        "# print(str(random_image_path))\n",
        "# print(str(random_image_path).split('_')[1])\n",
        "# print(str(random_image_path).split('.')[1].split(('/'))[0])\n",
        "\n",
        "image_label = f'{str(random_image_path).split(\"_\")[1]} {str(random_image_path).split(\".\")[1].split(\"/\")[0]}'\n",
        "print(image_label)\n",
        "\n",
        "img = Image.open(random_image_path)\n",
        "\n",
        "# print(f\"Random image path: {random_image_path}\")\n",
        "# print(f\"Image class: {image_label}\")\n",
        "# print(f\"Image height: {img.height}\")\n",
        "# print(f\"Image width: {img.width}\")\n",
        "# img\n",
        "\n",
        "img_as_array = np.asarray(img)\n",
        "\n",
        "# Plot the image with matplotlib\n",
        "plt.figure(figsize=(10, 7))\n",
        "plt.imshow(img_as_array)\n",
        "plt.title(f\"Image class: {image_label} | Image shape: {img_as_array.shape} -> [height, width, color_channels]\")\n",
        "plt.axis(False);\n",
        "# print(str(random_image_path).split('_')[1] + str(random_image_path).split('.')[0] )"
      ],
      "metadata": {
        "colab": {
          "base_uri": "https://localhost:8080/",
          "height": 615
        },
        "id": "0fNLuK2ds0-8",
        "outputId": "e0f703ee-5826-4b5f-c249-8c1c5422c949"
      },
      "execution_count": null,
      "outputs": [
        {
          "output_type": "stream",
          "name": "stdout",
          "text": [
            "CAP NI\n"
          ]
        },
        {
          "output_type": "display_data",
          "data": {
            "text/plain": [
              "<Figure size 1000x700 with 1 Axes>"
            ],
            "image/png": "[encoded data removed]"
          },
          "metadata": {}
        }
      ]
    },
    {
      "cell_type": "code",
      "source": [
        "import os\n",
        "import shutil\n",
        "import random\n",
        "\n",
        "# Define source and target directories\n",
        "source_dir = \"data/gcdb/Query\"\n",
        "train_dir = \"data/gcdb/train\"\n",
        "test_dir = \"data/gcdb/test\"\n",
        "\n",
        "train_percentage = 0.8\n",
        "\n",
        "for root, dirs, files in os.walk(source_dir):\n",
        "  print(dirs)\n",
        "  for dir in dirs:\n",
        "    print(f\"\\nAccessing directory: {dir}\")\n",
        "\n",
        "    target_train_dir = os.path.join(train_dir,dir)\n",
        "    os.makedirs(target_train_dir, exist_ok=True)\n",
        "    target_test_dir = os.path.join(test_dir,dir)\n",
        "    os.makedirs(target_test_dir,exist_ok=True)\n",
        "\n",
        "    image_files = [f for f in os.listdir(os.path.join(source_dir,dir))]\n",
        "    # print(f'Number of images before moving to train file: {len(image_files)}')\n",
        "\n",
        "    num_train_images = int(len(image_files) * train_percentage)\n",
        "    # print(f'Moving {num_train_images} to train file')\n",
        "\n",
        "    train_images = random.sample(image_files, num_train_images)\n",
        "    # print(num_train_images)\n",
        "    for img in train_images:\n",
        "      img_path = os.path.join(source_dir,dir,img)\n",
        "      img_train_path = os.path.join(train_dir,dir,img)\n",
        "      # print(img_path)\n",
        "      # print(os.path.join(train_dir,dir,img))\n",
        "      shutil.move(img_path, img_train_path)\n",
        "    image_files_after = [f for f in os.listdir(os.path.join(source_dir,dir))]\n",
        "    # print(f'Number of images after moving to train file: {len(image_files_after)}')\n",
        "    for img in image_files_after:\n",
        "      img_path = os.path.join(source_dir,dir,img)\n",
        "      img_test_path = os.path.join(test_dir,dir,img)\n",
        "      # print(img_path)\n",
        "      # print(os.path.join(train_dir,dir,img))\n",
        "      shutil.move(img_path, img_test_path)\n",
        "    # print(f'Number of images after the split: {len([f for f in os.listdir(os.path.join(source_dir,dir))])}')"
      ],
      "metadata": {
        "id": "cEgqt3bl1Dsa"
      },
      "execution_count": null,
      "outputs": []
    },
    {
      "cell_type": "markdown",
      "source": [
        "## 3. Transforming data\n",
        "\n",
        "1. Turn the images into tensors.\n",
        "2. Turn them into a `Dataset` and then into a `DataLoader`"
      ],
      "metadata": {
        "id": "hQT8TQKZy39d"
      }
    },
    {
      "cell_type": "code",
      "source": [
        "# Write transform for image\n",
        "data_transform = transforms.Compose([\n",
        "    # Resize the images to 64x64\n",
        "    transforms.Resize(size=(1024, 1024)),\n",
        "    # Flip the images randomly on the horizontal\n",
        "    transforms.RandomHorizontalFlip(p=0.3), # p = probability of flip, 0.5 = 50% chance\n",
        "    # Turn the image into a torch.Tensor\n",
        "    transforms.ToTensor() # this also converts all pixel values from 0 to 255 to be between 0.0 and 1.0\n",
        "])"
      ],
      "metadata": {
        "id": "ZWkE-ZLPz575"
      },
      "execution_count": null,
      "outputs": []
    },
    {
      "cell_type": "markdown",
      "source": [
        "### 3.1 Creating DataLoaders.\n"
      ],
      "metadata": {
        "id": "oWtUdlAO02ex"
      }
    },
    {
      "cell_type": "code",
      "source": [
        "# Use ImageFolder to create dataset(s)\n",
        "from torchvision import datasets\n",
        "train_data = datasets.ImageFolder(root=train_dir, # target folder of images\n",
        "                                  transform=data_transform, # transforms to perform on data (images)\n",
        "                                  target_transform=None) # transforms to perform on labels (if necessary)\n",
        "\n",
        "test_data = datasets.ImageFolder(root=test_dir,\n",
        "                                 transform=data_transform)\n",
        "\n",
        "print(f\"Train data:\\n{train_data}\\nTest data:\\n{test_data}\")"
      ],
      "metadata": {
        "colab": {
          "base_uri": "https://localhost:8080/"
        },
        "id": "EZm3_WJU1WF9",
        "outputId": "12b971d6-8d75-44fd-8f9b-ba279a5daa13"
      },
      "execution_count": null,
      "outputs": [
        {
          "output_type": "stream",
          "name": "stdout",
          "text": [
            "Train data:\n",
            "Dataset ImageFolder\n",
            "    Number of datapoints: 34301\n",
            "    Root location: data/gcdb/train\n",
            "    StandardTransform\n",
            "Transform: Compose(\n",
            "               Resize(size=(1024, 1024), interpolation=bilinear, max_size=None, antialias=warn)\n",
            "               RandomHorizontalFlip(p=0.3)\n",
            "               ToTensor()\n",
            "           )\n",
            "Test data:\n",
            "Dataset ImageFolder\n",
            "    Number of datapoints: 8630\n",
            "    Root location: data/gcdb/test\n",
            "    StandardTransform\n",
            "Transform: Compose(\n",
            "               Resize(size=(1024, 1024), interpolation=bilinear, max_size=None, antialias=warn)\n",
            "               RandomHorizontalFlip(p=0.3)\n",
            "               ToTensor()\n",
            "           )\n"
          ]
        }
      ]
    },
    {
      "cell_type": "code",
      "source": [
        "# Get class names as a list\n",
        "class_names = train_data.classes\n",
        "class_names"
      ],
      "metadata": {
        "id": "EPo4b3B11Dqh"
      },
      "execution_count": null,
      "outputs": []
    },
    {
      "cell_type": "code",
      "source": [
        "# Can also get class names as a dict\n",
        "class_dict = train_data.class_to_idx\n",
        "class_dict"
      ],
      "metadata": {
        "id": "t8Xo62wk1Doe"
      },
      "execution_count": null,
      "outputs": []
    },
    {
      "cell_type": "code",
      "source": [
        "# Check the lengths\n",
        "len(train_data), len(test_data)"
      ],
      "metadata": {
        "colab": {
          "base_uri": "https://localhost:8080/"
        },
        "id": "2_ooO06X1Dmv",
        "outputId": "85738c89-284b-4076-8639-1f93e55f7043"
      },
      "execution_count": null,
      "outputs": [
        {
          "output_type": "execute_result",
          "data": {
            "text/plain": [
              "(34301, 8630)"
            ]
          },
          "metadata": {},
          "execution_count": 47
        }
      ]
    },
    {
      "cell_type": "code",
      "source": [
        "# train_data[15][0]\n",
        "len(train_data[0][0])"
      ],
      "metadata": {
        "colab": {
          "base_uri": "https://localhost:8080/"
        },
        "id": "Ccp681PXWooT",
        "outputId": "229026b7-fa32-4248-bf61-a197ae9ec6ed"
      },
      "execution_count": null,
      "outputs": [
        {
          "output_type": "execute_result",
          "data": {
            "text/plain": [
              "3"
            ]
          },
          "metadata": {},
          "execution_count": 36
        }
      ]
    },
    {
      "cell_type": "code",
      "source": [
        "img, label = train_data[0][0], train_data[0][1]\n",
        "print(f\"Image tensor:\\n{img}\")\n",
        "print(f\"Image shape: {img.shape}\")\n",
        "print(f\"Image datatype: {img.dtype}\")\n",
        "print(f\"Image label: {label}\")\n",
        "print(f\"Label datatype: {type(label)}\")"
      ],
      "metadata": {
        "colab": {
          "base_uri": "https://localhost:8080/"
        },
        "id": "nC2f5D8b1Dkq",
        "outputId": "da18120c-484a-4536-943e-278579cdb673"
      },
      "execution_count": null,
      "outputs": [
        {
          "output_type": "stream",
          "name": "stdout",
          "text": [
            "Image tensor:\n",
            "tensor([[[1., 1., 1.,  ..., 1., 1., 1.],\n",
            "         [1., 1., 1.,  ..., 1., 1., 1.],\n",
            "         [1., 1., 1.,  ..., 1., 1., 1.],\n",
            "         ...,\n",
            "         [1., 1., 1.,  ..., 1., 1., 1.],\n",
            "         [1., 1., 1.,  ..., 1., 1., 1.],\n",
            "         [1., 1., 1.,  ..., 1., 1., 1.]],\n",
            "\n",
            "        [[1., 1., 1.,  ..., 1., 1., 1.],\n",
            "         [1., 1., 1.,  ..., 1., 1., 1.],\n",
            "         [1., 1., 1.,  ..., 1., 1., 1.],\n",
            "         ...,\n",
            "         [1., 1., 1.,  ..., 1., 1., 1.],\n",
            "         [1., 1., 1.,  ..., 1., 1., 1.],\n",
            "         [1., 1., 1.,  ..., 1., 1., 1.]],\n",
            "\n",
            "        [[1., 1., 1.,  ..., 1., 1., 1.],\n",
            "         [1., 1., 1.,  ..., 1., 1., 1.],\n",
            "         [1., 1., 1.,  ..., 1., 1., 1.],\n",
            "         ...,\n",
            "         [1., 1., 1.,  ..., 1., 1., 1.],\n",
            "         [1., 1., 1.,  ..., 1., 1., 1.],\n",
            "         [1., 1., 1.,  ..., 1., 1., 1.]]])\n",
            "Image shape: torch.Size([3, 1024, 1024])\n",
            "Image datatype: torch.float32\n",
            "Image label: 0\n",
            "Label datatype: <class 'int'>\n"
          ]
        }
      ]
    },
    {
      "cell_type": "code",
      "source": [
        "# Rearrange the order of dimensions\n",
        "img_permute = img.permute(1, 2, 0)\n",
        "\n",
        "# Print out different shapes (before and after permute)\n",
        "print(f\"Original shape: {img.shape} -> [color_channels, height, width]\")\n",
        "print(f\"Image permute shape: {img_permute.shape} -> [height, width, color_channels]\")\n",
        "\n",
        "# Plot the image\n",
        "plt.figure(figsize=(10, 7))\n",
        "plt.imshow(img.permute(1, 2, 0))\n",
        "plt.axis(\"off\")\n",
        "plt.title(class_names[label], fontsize=14);"
      ],
      "metadata": {
        "colab": {
          "base_uri": "https://localhost:8080/",
          "height": 633
        },
        "id": "q5JGPysx1Din",
        "outputId": "69a2807f-076c-46f0-87b7-3762f7c842fc"
      },
      "execution_count": null,
      "outputs": [
        {
          "output_type": "stream",
          "name": "stdout",
          "text": [
            "Original shape: torch.Size([3, 1024, 1024]) -> [color_channels, height, width]\n",
            "Image permute shape: torch.Size([1024, 1024, 3]) -> [height, width, color_channels]\n"
          ]
        },
        {
          "output_type": "display_data",
          "data": {
            "text/plain": [
              "<Figure size 1000x700 with 1 Axes>"
            ],
            "image/png": "[encoded data removed]"
          },
          "metadata": {}
        }
      ]
    },
    {
      "cell_type": "code",
      "source": [
        "# Turn train and test Datasets into DataLoaders\n",
        "from torch.utils.data import DataLoader\n",
        "train_dataloader = DataLoader(dataset=train_data,\n",
        "                              batch_size=1, # how many samples per batch?\n",
        "                              num_workers=os.cpu_count(), # how many subprocesses to use for data loading? (higher = more)\n",
        "                              shuffle=True) # shuffle the data?\n",
        "\n",
        "test_dataloader = DataLoader(dataset=test_data,\n",
        "                             batch_size=1,\n",
        "                             num_workers=1,\n",
        "                             shuffle=False) # don't usually need to shuffle testing data\n",
        "\n",
        "train_dataloader, test_dataloader"
      ],
      "metadata": {
        "colab": {
          "base_uri": "https://localhost:8080/"
        },
        "id": "nIZx8A6k1C32",
        "outputId": "495ae874-4d93-4fd6-b20c-c4ff7254e7b5"
      },
      "execution_count": null,
      "outputs": [
        {
          "output_type": "execute_result",
          "data": {
            "text/plain": [
              "(<torch.utils.data.dataloader.DataLoader at 0x7df34f6a4070>,\n",
              " <torch.utils.data.dataloader.DataLoader at 0x7df34f6a6c20>)"
            ]
          },
          "metadata": {},
          "execution_count": 50
        }
      ]
    },
    {
      "cell_type": "code",
      "source": [
        "img, label = next(iter(train_dataloader))\n",
        "\n",
        "# Batch size will now be 1, try changing the batch_size parameter above and see what happens\n",
        "print(f\"Image shape: {img.shape} -> [batch_size, color_channels, height, width]\")\n",
        "print(f\"Label shape: {label.shape}\")\n",
        "print(f\"Label {label}\")"
      ],
      "metadata": {
        "colab": {
          "base_uri": "https://localhost:8080/"
        },
        "id": "A8ZKYkHR1Dez",
        "outputId": "78ff2c82-a4e3-470f-809d-a2323fd9aeef"
      },
      "execution_count": null,
      "outputs": [
        {
          "output_type": "stream",
          "name": "stdout",
          "text": [
            "Image shape: torch.Size([1, 3, 1024, 1024]) -> [batch_size, color_channels, height, width]\n",
            "Label shape: torch.Size([1])\n",
            "Label tensor([61])\n"
          ]
        }
      ]
    },
    {
      "cell_type": "code",
      "source": [
        "import os\n",
        "import pathlib\n",
        "import torch\n",
        "\n",
        "from PIL import Image\n",
        "from torch.utils.data import Dataset\n",
        "from torchvision import transforms\n",
        "from typing import Tuple, Dict, List"
      ],
      "metadata": {
        "id": "6cfyTO17YN15"
      },
      "execution_count": null,
      "outputs": []
    },
    {
      "cell_type": "code",
      "source": [
        "# 1. Take in a Dataset as well as a list of class names\n",
        "def display_random_images(dataset: torch.utils.data.dataset.Dataset,\n",
        "                          classes: List[str] = None,\n",
        "                          n: int = 10,\n",
        "                          display_shape: bool = True,\n",
        "                          seed: int = None):\n",
        "\n",
        "    # 2. Adjust display if n too high\n",
        "    if n > 10:\n",
        "        n = 10\n",
        "        display_shape = False\n",
        "        print(f\"For display purposes, n shouldn't be larger than 10, setting to 10 and removing shape display.\")\n",
        "\n",
        "    # 3. Set random seed\n",
        "    if seed:\n",
        "        random.seed(seed)\n",
        "\n",
        "    # 4. Get random sample indexes\n",
        "    random_samples_idx = random.sample(range(len(dataset)), k=n)\n",
        "\n",
        "    # 5. Setup plot\n",
        "    plt.figure(figsize=(16, 8))\n",
        "\n",
        "    # 6. Loop through samples and display random samples\n",
        "    for i, targ_sample in enumerate(random_samples_idx):\n",
        "        targ_image, targ_label = dataset[targ_sample][0], dataset[targ_sample][1]\n",
        "\n",
        "        # 7. Adjust image tensor shape for plotting: [color_channels, height, width] -> [color_channels, height, width]\n",
        "        targ_image_adjust = targ_image.permute(1, 2, 0)\n",
        "\n",
        "        # Plot adjusted samples\n",
        "        plt.subplot(1, n, i+1)\n",
        "        plt.imshow(targ_image_adjust)\n",
        "        plt.axis(\"off\")\n",
        "        if classes:\n",
        "            title = f\"class: {classes[targ_label]}\"\n",
        "            if display_shape:\n",
        "                title = title + f\"\\nshape: {targ_image_adjust.shape}\"\n",
        "        plt.title(title)"
      ],
      "metadata": {
        "id": "Movk4sDq1Dco"
      },
      "execution_count": null,
      "outputs": []
    },
    {
      "cell_type": "code",
      "source": [
        "# Display random images from ImageFolder created Dataset\n",
        "display_random_images(train_data,\n",
        "                      n=3,\n",
        "                      classes=class_names,\n",
        "                      seed=None)"
      ],
      "metadata": {
        "colab": {
          "base_uri": "https://localhost:8080/",
          "height": 307
        },
        "id": "_7M34KGB1Das",
        "outputId": "52600338-8dd0-4b0b-8830-7b1c205fe1dc"
      },
      "execution_count": null,
      "outputs": [
        {
          "output_type": "display_data",
          "data": {
            "text/plain": [
              "<Figure size 1600x800 with 3 Axes>"
            ],
            "image/png": "[encoded data removed]"
          },
          "metadata": {}
        }
      ]
    },
    {
      "cell_type": "code",
      "source": [
        "from torchvision import transforms\n",
        "\n",
        "train_transforms = transforms.Compose([\n",
        "    transforms.Resize((224, 224)),\n",
        "    transforms.TrivialAugmentWide(num_magnitude_bins=31), # how intense\n",
        "    transforms.ToTensor() # use ToTensor() last to get everything between 0 & 1\n",
        "])\n",
        "\n",
        "# Don't need to perform augmentation on the test data\n",
        "test_transforms = transforms.Compose([\n",
        "    transforms.Resize((224, 224)),\n",
        "    transforms.ToTensor()\n",
        "])"
      ],
      "metadata": {
        "id": "tf8A8w3i1DZB"
      },
      "execution_count": null,
      "outputs": []
    },
    {
      "cell_type": "code",
      "source": [
        "# Get all image paths\n",
        "image_path_list = list(gcdb_path.glob(\"*/*/*.bmp\"))\n",
        "# Plot random images\n",
        "plot_transformed_images(\n",
        "    image_paths=image_path_list,\n",
        "    transform=train_transforms,\n",
        "    n=3,\n",
        "    seed=None\n",
        ")"
      ],
      "metadata": {
        "colab": {
          "base_uri": "https://localhost:8080/",
          "height": 774
        },
        "id": "Wsy38_6T1DWb",
        "outputId": "535723dd-2666-44c9-87e2-417987f25455"
      },
      "execution_count": null,
      "outputs": [
        {
          "output_type": "error",
          "ename": "OSError",
          "evalue": "not supported for this image mode",
          "traceback": [
            "\u001b[0;31m---------------------------------------------------------------------------\u001b[0m",
            "\u001b[0;31mOSError\u001b[0m                                   Traceback (most recent call last)",
            "\u001b[0;32m<ipython-input-54-087b7a3904ac>\u001b[0m in \u001b[0;36m<cell line: 4>\u001b[0;34m()\u001b[0m\n\u001b[1;32m      2\u001b[0m \u001b[0mimage_path_list\u001b[0m \u001b[0;34m=\u001b[0m \u001b[0mlist\u001b[0m\u001b[0;34m(\u001b[0m\u001b[0mgcdb_path\u001b[0m\u001b[0;34m.\u001b[0m\u001b[0mglob\u001b[0m\u001b[0;34m(\u001b[0m\u001b[0;34m\"*/*/*.bmp\"\u001b[0m\u001b[0;34m)\u001b[0m\u001b[0;34m)\u001b[0m\u001b[0;34m\u001b[0m\u001b[0;34m\u001b[0m\u001b[0m\n\u001b[1;32m      3\u001b[0m \u001b[0;31m# Plot random images\u001b[0m\u001b[0;34m\u001b[0m\u001b[0;34m\u001b[0m\u001b[0m\n\u001b[0;32m----> 4\u001b[0;31m plot_transformed_images(\n\u001b[0m\u001b[1;32m      5\u001b[0m     \u001b[0mimage_paths\u001b[0m\u001b[0;34m=\u001b[0m\u001b[0mimage_path_list\u001b[0m\u001b[0;34m,\u001b[0m\u001b[0;34m\u001b[0m\u001b[0;34m\u001b[0m\u001b[0m\n\u001b[1;32m      6\u001b[0m     \u001b[0mtransform\u001b[0m\u001b[0;34m=\u001b[0m\u001b[0mtrain_transforms\u001b[0m\u001b[0;34m,\u001b[0m\u001b[0;34m\u001b[0m\u001b[0;34m\u001b[0m\u001b[0m\n",
            "\u001b[0;32m<ipython-input-27-b91e3f267aa1>\u001b[0m in \u001b[0;36mplot_transformed_images\u001b[0;34m(image_paths, transform, n, seed)\u001b[0m\n\u001b[1;32m     24\u001b[0m             \u001b[0;31m# Note: permute() will change shape of image to suit matplotlib\u001b[0m\u001b[0;34m\u001b[0m\u001b[0;34m\u001b[0m\u001b[0m\n\u001b[1;32m     25\u001b[0m             \u001b[0;31m# (PyTorch default is [C, H, W] but Matplotlib is [H, W, C])\u001b[0m\u001b[0;34m\u001b[0m\u001b[0;34m\u001b[0m\u001b[0m\n\u001b[0;32m---> 26\u001b[0;31m             \u001b[0mtransformed_image\u001b[0m \u001b[0;34m=\u001b[0m \u001b[0mtransform\u001b[0m\u001b[0;34m(\u001b[0m\u001b[0mf\u001b[0m\u001b[0;34m)\u001b[0m\u001b[0;34m.\u001b[0m\u001b[0mpermute\u001b[0m\u001b[0;34m(\u001b[0m\u001b[0;36m1\u001b[0m\u001b[0;34m,\u001b[0m \u001b[0;36m2\u001b[0m\u001b[0;34m,\u001b[0m \u001b[0;36m0\u001b[0m\u001b[0;34m)\u001b[0m\u001b[0;34m\u001b[0m\u001b[0;34m\u001b[0m\u001b[0m\n\u001b[0m\u001b[1;32m     27\u001b[0m             \u001b[0max\u001b[0m\u001b[0;34m[\u001b[0m\u001b[0;36m1\u001b[0m\u001b[0;34m]\u001b[0m\u001b[0;34m.\u001b[0m\u001b[0mimshow\u001b[0m\u001b[0;34m(\u001b[0m\u001b[0mtransformed_image\u001b[0m\u001b[0;34m)\u001b[0m\u001b[0;34m\u001b[0m\u001b[0;34m\u001b[0m\u001b[0m\n\u001b[1;32m     28\u001b[0m             \u001b[0max\u001b[0m\u001b[0;34m[\u001b[0m\u001b[0;36m1\u001b[0m\u001b[0;34m]\u001b[0m\u001b[0;34m.\u001b[0m\u001b[0mset_title\u001b[0m\u001b[0;34m(\u001b[0m\u001b[0;34mf\"Transformed \\nSize: {transformed_image.shape}\"\u001b[0m\u001b[0;34m)\u001b[0m\u001b[0;34m\u001b[0m\u001b[0;34m\u001b[0m\u001b[0m\n",
            "\u001b[0;32m/usr/local/lib/python3.10/dist-packages/torchvision/transforms/transforms.py\u001b[0m in \u001b[0;36m__call__\u001b[0;34m(self, img)\u001b[0m\n\u001b[1;32m     93\u001b[0m     \u001b[0;32mdef\u001b[0m \u001b[0m__call__\u001b[0m\u001b[0;34m(\u001b[0m\u001b[0mself\u001b[0m\u001b[0;34m,\u001b[0m \u001b[0mimg\u001b[0m\u001b[0;34m)\u001b[0m\u001b[0;34m:\u001b[0m\u001b[0;34m\u001b[0m\u001b[0;34m\u001b[0m\u001b[0m\n\u001b[1;32m     94\u001b[0m         \u001b[0;32mfor\u001b[0m \u001b[0mt\u001b[0m \u001b[0;32min\u001b[0m \u001b[0mself\u001b[0m\u001b[0;34m.\u001b[0m\u001b[0mtransforms\u001b[0m\u001b[0;34m:\u001b[0m\u001b[0;34m\u001b[0m\u001b[0;34m\u001b[0m\u001b[0m\n\u001b[0;32m---> 95\u001b[0;31m             \u001b[0mimg\u001b[0m \u001b[0;34m=\u001b[0m \u001b[0mt\u001b[0m\u001b[0;34m(\u001b[0m\u001b[0mimg\u001b[0m\u001b[0;34m)\u001b[0m\u001b[0;34m\u001b[0m\u001b[0;34m\u001b[0m\u001b[0m\n\u001b[0m\u001b[1;32m     96\u001b[0m         \u001b[0;32mreturn\u001b[0m \u001b[0mimg\u001b[0m\u001b[0;34m\u001b[0m\u001b[0;34m\u001b[0m\u001b[0m\n\u001b[1;32m     97\u001b[0m \u001b[0;34m\u001b[0m\u001b[0m\n",
            "\u001b[0;32m/usr/local/lib/python3.10/dist-packages/torch/nn/modules/module.py\u001b[0m in \u001b[0;36m_wrapped_call_impl\u001b[0;34m(self, *args, **kwargs)\u001b[0m\n\u001b[1;32m   1516\u001b[0m             \u001b[0;32mreturn\u001b[0m \u001b[0mself\u001b[0m\u001b[0;34m.\u001b[0m\u001b[0m_compiled_call_impl\u001b[0m\u001b[0;34m(\u001b[0m\u001b[0;34m*\u001b[0m\u001b[0margs\u001b[0m\u001b[0;34m,\u001b[0m \u001b[0;34m**\u001b[0m\u001b[0mkwargs\u001b[0m\u001b[0;34m)\u001b[0m  \u001b[0;31m# type: ignore[misc]\u001b[0m\u001b[0;34m\u001b[0m\u001b[0;34m\u001b[0m\u001b[0m\n\u001b[1;32m   1517\u001b[0m         \u001b[0;32melse\u001b[0m\u001b[0;34m:\u001b[0m\u001b[0;34m\u001b[0m\u001b[0;34m\u001b[0m\u001b[0m\n\u001b[0;32m-> 1518\u001b[0;31m             \u001b[0;32mreturn\u001b[0m \u001b[0mself\u001b[0m\u001b[0;34m.\u001b[0m\u001b[0m_call_impl\u001b[0m\u001b[0;34m(\u001b[0m\u001b[0;34m*\u001b[0m\u001b[0margs\u001b[0m\u001b[0;34m,\u001b[0m \u001b[0;34m**\u001b[0m\u001b[0mkwargs\u001b[0m\u001b[0;34m)\u001b[0m\u001b[0;34m\u001b[0m\u001b[0;34m\u001b[0m\u001b[0m\n\u001b[0m\u001b[1;32m   1519\u001b[0m \u001b[0;34m\u001b[0m\u001b[0m\n\u001b[1;32m   1520\u001b[0m     \u001b[0;32mdef\u001b[0m \u001b[0m_call_impl\u001b[0m\u001b[0;34m(\u001b[0m\u001b[0mself\u001b[0m\u001b[0;34m,\u001b[0m \u001b[0;34m*\u001b[0m\u001b[0margs\u001b[0m\u001b[0;34m,\u001b[0m \u001b[0;34m**\u001b[0m\u001b[0mkwargs\u001b[0m\u001b[0;34m)\u001b[0m\u001b[0;34m:\u001b[0m\u001b[0;34m\u001b[0m\u001b[0;34m\u001b[0m\u001b[0m\n",
            "\u001b[0;32m/usr/local/lib/python3.10/dist-packages/torch/nn/modules/module.py\u001b[0m in \u001b[0;36m_call_impl\u001b[0;34m(self, *args, **kwargs)\u001b[0m\n\u001b[1;32m   1525\u001b[0m                 \u001b[0;32mor\u001b[0m \u001b[0m_global_backward_pre_hooks\u001b[0m \u001b[0;32mor\u001b[0m \u001b[0m_global_backward_hooks\u001b[0m\u001b[0;34m\u001b[0m\u001b[0;34m\u001b[0m\u001b[0m\n\u001b[1;32m   1526\u001b[0m                 or _global_forward_hooks or _global_forward_pre_hooks):\n\u001b[0;32m-> 1527\u001b[0;31m             \u001b[0;32mreturn\u001b[0m \u001b[0mforward_call\u001b[0m\u001b[0;34m(\u001b[0m\u001b[0;34m*\u001b[0m\u001b[0margs\u001b[0m\u001b[0;34m,\u001b[0m \u001b[0;34m**\u001b[0m\u001b[0mkwargs\u001b[0m\u001b[0;34m)\u001b[0m\u001b[0;34m\u001b[0m\u001b[0;34m\u001b[0m\u001b[0m\n\u001b[0m\u001b[1;32m   1528\u001b[0m \u001b[0;34m\u001b[0m\u001b[0m\n\u001b[1;32m   1529\u001b[0m         \u001b[0;32mtry\u001b[0m\u001b[0;34m:\u001b[0m\u001b[0;34m\u001b[0m\u001b[0;34m\u001b[0m\u001b[0m\n",
            "\u001b[0;32m/usr/local/lib/python3.10/dist-packages/torchvision/transforms/autoaugment.py\u001b[0m in \u001b[0;36mforward\u001b[0;34m(self, img)\u001b[0m\n\u001b[1;32m    451\u001b[0m             \u001b[0mmagnitude\u001b[0m \u001b[0;34m*=\u001b[0m \u001b[0;34m-\u001b[0m\u001b[0;36m1.0\u001b[0m\u001b[0;34m\u001b[0m\u001b[0;34m\u001b[0m\u001b[0m\n\u001b[1;32m    452\u001b[0m \u001b[0;34m\u001b[0m\u001b[0m\n\u001b[0;32m--> 453\u001b[0;31m         \u001b[0;32mreturn\u001b[0m \u001b[0m_apply_op\u001b[0m\u001b[0;34m(\u001b[0m\u001b[0mimg\u001b[0m\u001b[0;34m,\u001b[0m \u001b[0mop_name\u001b[0m\u001b[0;34m,\u001b[0m \u001b[0mmagnitude\u001b[0m\u001b[0;34m,\u001b[0m \u001b[0minterpolation\u001b[0m\u001b[0;34m=\u001b[0m\u001b[0mself\u001b[0m\u001b[0;34m.\u001b[0m\u001b[0minterpolation\u001b[0m\u001b[0;34m,\u001b[0m \u001b[0mfill\u001b[0m\u001b[0;34m=\u001b[0m\u001b[0mfill\u001b[0m\u001b[0;34m)\u001b[0m\u001b[0;34m\u001b[0m\u001b[0;34m\u001b[0m\u001b[0m\n\u001b[0m\u001b[1;32m    454\u001b[0m \u001b[0;34m\u001b[0m\u001b[0m\n\u001b[1;32m    455\u001b[0m     \u001b[0;32mdef\u001b[0m \u001b[0m__repr__\u001b[0m\u001b[0;34m(\u001b[0m\u001b[0mself\u001b[0m\u001b[0;34m)\u001b[0m \u001b[0;34m->\u001b[0m \u001b[0mstr\u001b[0m\u001b[0;34m:\u001b[0m\u001b[0;34m\u001b[0m\u001b[0;34m\u001b[0m\u001b[0m\n",
            "\u001b[0;32m/usr/local/lib/python3.10/dist-packages/torchvision/transforms/autoaugment.py\u001b[0m in \u001b[0;36m_apply_op\u001b[0;34m(img, op_name, magnitude, interpolation, fill)\u001b[0m\n\u001b[1;32m     81\u001b[0m         \u001b[0mimg\u001b[0m \u001b[0;34m=\u001b[0m \u001b[0mF\u001b[0m\u001b[0;34m.\u001b[0m\u001b[0mautocontrast\u001b[0m\u001b[0;34m(\u001b[0m\u001b[0mimg\u001b[0m\u001b[0;34m)\u001b[0m\u001b[0;34m\u001b[0m\u001b[0;34m\u001b[0m\u001b[0m\n\u001b[1;32m     82\u001b[0m     \u001b[0;32melif\u001b[0m \u001b[0mop_name\u001b[0m \u001b[0;34m==\u001b[0m \u001b[0;34m\"Equalize\"\u001b[0m\u001b[0;34m:\u001b[0m\u001b[0;34m\u001b[0m\u001b[0;34m\u001b[0m\u001b[0m\n\u001b[0;32m---> 83\u001b[0;31m         \u001b[0mimg\u001b[0m \u001b[0;34m=\u001b[0m \u001b[0mF\u001b[0m\u001b[0;34m.\u001b[0m\u001b[0mequalize\u001b[0m\u001b[0;34m(\u001b[0m\u001b[0mimg\u001b[0m\u001b[0;34m)\u001b[0m\u001b[0;34m\u001b[0m\u001b[0;34m\u001b[0m\u001b[0m\n\u001b[0m\u001b[1;32m     84\u001b[0m     \u001b[0;32melif\u001b[0m \u001b[0mop_name\u001b[0m \u001b[0;34m==\u001b[0m \u001b[0;34m\"Invert\"\u001b[0m\u001b[0;34m:\u001b[0m\u001b[0;34m\u001b[0m\u001b[0;34m\u001b[0m\u001b[0m\n\u001b[1;32m     85\u001b[0m         \u001b[0mimg\u001b[0m \u001b[0;34m=\u001b[0m \u001b[0mF\u001b[0m\u001b[0;34m.\u001b[0m\u001b[0minvert\u001b[0m\u001b[0;34m(\u001b[0m\u001b[0mimg\u001b[0m\u001b[0;34m)\u001b[0m\u001b[0;34m\u001b[0m\u001b[0;34m\u001b[0m\u001b[0m\n",
            "\u001b[0;32m/usr/local/lib/python3.10/dist-packages/torchvision/transforms/functional.py\u001b[0m in \u001b[0;36mequalize\u001b[0;34m(img)\u001b[0m\n\u001b[1;32m   1517\u001b[0m         \u001b[0m_log_api_usage_once\u001b[0m\u001b[0;34m(\u001b[0m\u001b[0mequalize\u001b[0m\u001b[0;34m)\u001b[0m\u001b[0;34m\u001b[0m\u001b[0;34m\u001b[0m\u001b[0m\n\u001b[1;32m   1518\u001b[0m     \u001b[0;32mif\u001b[0m \u001b[0;32mnot\u001b[0m \u001b[0misinstance\u001b[0m\u001b[0;34m(\u001b[0m\u001b[0mimg\u001b[0m\u001b[0;34m,\u001b[0m \u001b[0mtorch\u001b[0m\u001b[0;34m.\u001b[0m\u001b[0mTensor\u001b[0m\u001b[0;34m)\u001b[0m\u001b[0;34m:\u001b[0m\u001b[0;34m\u001b[0m\u001b[0;34m\u001b[0m\u001b[0m\n\u001b[0;32m-> 1519\u001b[0;31m         \u001b[0;32mreturn\u001b[0m \u001b[0mF_pil\u001b[0m\u001b[0;34m.\u001b[0m\u001b[0mequalize\u001b[0m\u001b[0;34m(\u001b[0m\u001b[0mimg\u001b[0m\u001b[0;34m)\u001b[0m\u001b[0;34m\u001b[0m\u001b[0;34m\u001b[0m\u001b[0m\n\u001b[0m\u001b[1;32m   1520\u001b[0m \u001b[0;34m\u001b[0m\u001b[0m\n\u001b[1;32m   1521\u001b[0m     \u001b[0;32mreturn\u001b[0m \u001b[0mF_t\u001b[0m\u001b[0;34m.\u001b[0m\u001b[0mequalize\u001b[0m\u001b[0;34m(\u001b[0m\u001b[0mimg\u001b[0m\u001b[0;34m)\u001b[0m\u001b[0;34m\u001b[0m\u001b[0;34m\u001b[0m\u001b[0m\n",
            "\u001b[0;32m/usr/local/lib/python3.10/dist-packages/torchvision/transforms/_functional_pil.py\u001b[0m in \u001b[0;36mequalize\u001b[0;34m(img)\u001b[0m\n\u001b[1;32m    391\u001b[0m     \u001b[0;32mif\u001b[0m \u001b[0;32mnot\u001b[0m \u001b[0m_is_pil_image\u001b[0m\u001b[0;34m(\u001b[0m\u001b[0mimg\u001b[0m\u001b[0;34m)\u001b[0m\u001b[0;34m:\u001b[0m\u001b[0;34m\u001b[0m\u001b[0;34m\u001b[0m\u001b[0m\n\u001b[1;32m    392\u001b[0m         \u001b[0;32mraise\u001b[0m \u001b[0mTypeError\u001b[0m\u001b[0;34m(\u001b[0m\u001b[0;34mf\"img should be PIL Image. Got {type(img)}\"\u001b[0m\u001b[0;34m)\u001b[0m\u001b[0;34m\u001b[0m\u001b[0;34m\u001b[0m\u001b[0m\n\u001b[0;32m--> 393\u001b[0;31m     \u001b[0;32mreturn\u001b[0m \u001b[0mImageOps\u001b[0m\u001b[0;34m.\u001b[0m\u001b[0mequalize\u001b[0m\u001b[0;34m(\u001b[0m\u001b[0mimg\u001b[0m\u001b[0;34m)\u001b[0m\u001b[0;34m\u001b[0m\u001b[0;34m\u001b[0m\u001b[0m\n\u001b[0m",
            "\u001b[0;32m/usr/local/lib/python3.10/dist-packages/PIL/ImageOps.py\u001b[0m in \u001b[0;36mequalize\u001b[0;34m(image, mask)\u001b[0m\n\u001b[1;32m    386\u001b[0m                     \u001b[0mlut\u001b[0m\u001b[0;34m.\u001b[0m\u001b[0mappend\u001b[0m\u001b[0;34m(\u001b[0m\u001b[0mn\u001b[0m \u001b[0;34m//\u001b[0m \u001b[0mstep\u001b[0m\u001b[0;34m)\u001b[0m\u001b[0;34m\u001b[0m\u001b[0;34m\u001b[0m\u001b[0m\n\u001b[1;32m    387\u001b[0m                     \u001b[0mn\u001b[0m \u001b[0;34m=\u001b[0m \u001b[0mn\u001b[0m \u001b[0;34m+\u001b[0m \u001b[0mh\u001b[0m\u001b[0;34m[\u001b[0m\u001b[0mi\u001b[0m \u001b[0;34m+\u001b[0m \u001b[0mb\u001b[0m\u001b[0;34m]\u001b[0m\u001b[0;34m\u001b[0m\u001b[0;34m\u001b[0m\u001b[0m\n\u001b[0;32m--> 388\u001b[0;31m     \u001b[0;32mreturn\u001b[0m \u001b[0m_lut\u001b[0m\u001b[0;34m(\u001b[0m\u001b[0mimage\u001b[0m\u001b[0;34m,\u001b[0m \u001b[0mlut\u001b[0m\u001b[0;34m)\u001b[0m\u001b[0;34m\u001b[0m\u001b[0;34m\u001b[0m\u001b[0m\n\u001b[0m\u001b[1;32m    389\u001b[0m \u001b[0;34m\u001b[0m\u001b[0m\n\u001b[1;32m    390\u001b[0m \u001b[0;34m\u001b[0m\u001b[0m\n",
            "\u001b[0;32m/usr/local/lib/python3.10/dist-packages/PIL/ImageOps.py\u001b[0m in \u001b[0;36m_lut\u001b[0;34m(image, lut)\u001b[0m\n\u001b[1;32m     58\u001b[0m     \u001b[0;32melse\u001b[0m\u001b[0;34m:\u001b[0m\u001b[0;34m\u001b[0m\u001b[0;34m\u001b[0m\u001b[0m\n\u001b[1;32m     59\u001b[0m         \u001b[0mmsg\u001b[0m \u001b[0;34m=\u001b[0m \u001b[0;34m\"not supported for this image mode\"\u001b[0m\u001b[0;34m\u001b[0m\u001b[0;34m\u001b[0m\u001b[0m\n\u001b[0;32m---> 60\u001b[0;31m         \u001b[0;32mraise\u001b[0m \u001b[0mOSError\u001b[0m\u001b[0;34m(\u001b[0m\u001b[0mmsg\u001b[0m\u001b[0;34m)\u001b[0m\u001b[0;34m\u001b[0m\u001b[0;34m\u001b[0m\u001b[0m\n\u001b[0m\u001b[1;32m     61\u001b[0m \u001b[0;34m\u001b[0m\u001b[0m\n\u001b[1;32m     62\u001b[0m \u001b[0;34m\u001b[0m\u001b[0m\n",
            "\u001b[0;31mOSError\u001b[0m: not supported for this image mode"
          ]
        },
        {
          "output_type": "display_data",
          "data": {
            "text/plain": [
              "<Figure size 640x480 with 2 Axes>"
            ],
            "image/png": "[encoded data removed]"
          },
          "metadata": {}
        }
      ]
    },
    {
      "cell_type": "code",
      "source": [],
      "metadata": {
        "id": "93qjlcCv1DSF"
      },
      "execution_count": null,
      "outputs": []
    },
    {
      "cell_type": "code",
      "source": [],
      "metadata": {
        "id": "Bs4Kz5RG1DPv"
      },
      "execution_count": null,
      "outputs": []
    },
    {
      "cell_type": "code",
      "source": [
        "import matplotlib.pyplot as plt\n",
        "import torch\n",
        "import torchvision\n",
        "import copy\n",
        "\n",
        "from torch import nn\n",
        "from torchvision import datasets,transforms\n",
        "from pathlib import Path\n",
        "\n",
        "device = \"cuda\" if torch.cuda.is_available() else \"cpu\"\n",
        "device\n",
        "\n",
        "data_dir = Path('data')\n",
        "\n",
        "# emnist_train_transforms = transforms.Compose([\n",
        "#     transforms.ToTensor(),  # Convert image to tensor\n",
        "#     transforms.Normalize((0.5,), (0.5,))  # Normalize pixel values to [-1, 1]\n",
        "# ])\n",
        "\n",
        "# Get EMNIST training data\n",
        "emnist_data = datasets.EMNIST(root=data_dir,\n",
        "                                       split='letters',\n",
        "                                       train= True,\n",
        "                                       download = True)\n",
        "\n",
        "# emnist_test_data = datasets.EMNIST(root=data_dir,\n",
        "#                                    split='balanced',\n",
        "#                                    train=False,\n",
        "#                                    download=True)\n"
      ],
      "metadata": {
        "id": "h_kUvjaJHz_C",
        "colab": {
          "base_uri": "https://localhost:8080/",
          "height": 391
        },
        "outputId": "efa18798-5a92-4691-c127-0fd1f1228f78"
      },
      "execution_count": null,
      "outputs": [
        {
          "output_type": "stream",
          "name": "stdout",
          "text": [
            "Downloading https://www.itl.nist.gov/iaui/vip/cs_links/EMNIST/gzip.zip to data/EMNIST/raw/gzip.zip\n"
          ]
        },
        {
          "output_type": "stream",
          "name": "stderr",
          "text": [
            "  4%|▎         | 20414464/561753746 [00:01<00:51, 10552754.30it/s]\n"
          ]
        },
        {
          "output_type": "error",
          "ename": "KeyboardInterrupt",
          "evalue": "",
          "traceback": [
            "\u001b[0;31m---------------------------------------------------------------------------\u001b[0m",
            "\u001b[0;31mKeyboardInterrupt\u001b[0m                         Traceback (most recent call last)",
            "\u001b[0;32m<ipython-input-40-92a417cca9e7>\u001b[0m in \u001b[0;36m<cell line: 21>\u001b[0;34m()\u001b[0m\n\u001b[1;32m     19\u001b[0m \u001b[0;34m\u001b[0m\u001b[0m\n\u001b[1;32m     20\u001b[0m \u001b[0;31m# Get EMNIST training data\u001b[0m\u001b[0;34m\u001b[0m\u001b[0;34m\u001b[0m\u001b[0m\n\u001b[0;32m---> 21\u001b[0;31m emnist_data = datasets.EMNIST(root=data_dir,\n\u001b[0m\u001b[1;32m     22\u001b[0m                                        \u001b[0msplit\u001b[0m\u001b[0;34m=\u001b[0m\u001b[0;34m'letters'\u001b[0m\u001b[0;34m,\u001b[0m\u001b[0;34m\u001b[0m\u001b[0;34m\u001b[0m\u001b[0m\n\u001b[1;32m     23\u001b[0m                                        \u001b[0mtrain\u001b[0m\u001b[0;34m=\u001b[0m \u001b[0;32mTrue\u001b[0m\u001b[0;34m,\u001b[0m\u001b[0;34m\u001b[0m\u001b[0;34m\u001b[0m\u001b[0m\n",
            "\u001b[0;32m/usr/local/lib/python3.10/dist-packages/torchvision/datasets/mnist.py\u001b[0m in \u001b[0;36m__init__\u001b[0;34m(self, root, split, **kwargs)\u001b[0m\n\u001b[1;32m    295\u001b[0m         \u001b[0mself\u001b[0m\u001b[0;34m.\u001b[0m\u001b[0mtraining_file\u001b[0m \u001b[0;34m=\u001b[0m \u001b[0mself\u001b[0m\u001b[0;34m.\u001b[0m\u001b[0m_training_file\u001b[0m\u001b[0;34m(\u001b[0m\u001b[0msplit\u001b[0m\u001b[0;34m)\u001b[0m\u001b[0;34m\u001b[0m\u001b[0;34m\u001b[0m\u001b[0m\n\u001b[1;32m    296\u001b[0m         \u001b[0mself\u001b[0m\u001b[0;34m.\u001b[0m\u001b[0mtest_file\u001b[0m \u001b[0;34m=\u001b[0m \u001b[0mself\u001b[0m\u001b[0;34m.\u001b[0m\u001b[0m_test_file\u001b[0m\u001b[0;34m(\u001b[0m\u001b[0msplit\u001b[0m\u001b[0;34m)\u001b[0m\u001b[0;34m\u001b[0m\u001b[0;34m\u001b[0m\u001b[0m\n\u001b[0;32m--> 297\u001b[0;31m         \u001b[0msuper\u001b[0m\u001b[0;34m(\u001b[0m\u001b[0;34m)\u001b[0m\u001b[0;34m.\u001b[0m\u001b[0m__init__\u001b[0m\u001b[0;34m(\u001b[0m\u001b[0mroot\u001b[0m\u001b[0;34m,\u001b[0m \u001b[0;34m**\u001b[0m\u001b[0mkwargs\u001b[0m\u001b[0;34m)\u001b[0m\u001b[0;34m\u001b[0m\u001b[0;34m\u001b[0m\u001b[0m\n\u001b[0m\u001b[1;32m    298\u001b[0m         \u001b[0mself\u001b[0m\u001b[0;34m.\u001b[0m\u001b[0mclasses\u001b[0m \u001b[0;34m=\u001b[0m \u001b[0mself\u001b[0m\u001b[0;34m.\u001b[0m\u001b[0mclasses_split_dict\u001b[0m\u001b[0;34m[\u001b[0m\u001b[0mself\u001b[0m\u001b[0;34m.\u001b[0m\u001b[0msplit\u001b[0m\u001b[0;34m]\u001b[0m\u001b[0;34m\u001b[0m\u001b[0;34m\u001b[0m\u001b[0m\n\u001b[1;32m    299\u001b[0m \u001b[0;34m\u001b[0m\u001b[0m\n",
            "\u001b[0;32m/usr/local/lib/python3.10/dist-packages/torchvision/datasets/mnist.py\u001b[0m in \u001b[0;36m__init__\u001b[0;34m(self, root, train, transform, target_transform, download)\u001b[0m\n\u001b[1;32m     97\u001b[0m \u001b[0;34m\u001b[0m\u001b[0m\n\u001b[1;32m     98\u001b[0m         \u001b[0;32mif\u001b[0m \u001b[0mdownload\u001b[0m\u001b[0;34m:\u001b[0m\u001b[0;34m\u001b[0m\u001b[0;34m\u001b[0m\u001b[0m\n\u001b[0;32m---> 99\u001b[0;31m             \u001b[0mself\u001b[0m\u001b[0;34m.\u001b[0m\u001b[0mdownload\u001b[0m\u001b[0;34m(\u001b[0m\u001b[0;34m)\u001b[0m\u001b[0;34m\u001b[0m\u001b[0;34m\u001b[0m\u001b[0m\n\u001b[0m\u001b[1;32m    100\u001b[0m \u001b[0;34m\u001b[0m\u001b[0m\n\u001b[1;32m    101\u001b[0m         \u001b[0;32mif\u001b[0m \u001b[0;32mnot\u001b[0m \u001b[0mself\u001b[0m\u001b[0;34m.\u001b[0m\u001b[0m_check_exists\u001b[0m\u001b[0;34m(\u001b[0m\u001b[0;34m)\u001b[0m\u001b[0;34m:\u001b[0m\u001b[0;34m\u001b[0m\u001b[0;34m\u001b[0m\u001b[0m\n",
            "\u001b[0;32m/usr/local/lib/python3.10/dist-packages/torchvision/datasets/mnist.py\u001b[0m in \u001b[0;36mdownload\u001b[0;34m(self)\u001b[0m\n\u001b[1;32m    332\u001b[0m         \u001b[0mos\u001b[0m\u001b[0;34m.\u001b[0m\u001b[0mmakedirs\u001b[0m\u001b[0;34m(\u001b[0m\u001b[0mself\u001b[0m\u001b[0;34m.\u001b[0m\u001b[0mraw_folder\u001b[0m\u001b[0;34m,\u001b[0m \u001b[0mexist_ok\u001b[0m\u001b[0;34m=\u001b[0m\u001b[0;32mTrue\u001b[0m\u001b[0;34m)\u001b[0m\u001b[0;34m\u001b[0m\u001b[0;34m\u001b[0m\u001b[0m\n\u001b[1;32m    333\u001b[0m \u001b[0;34m\u001b[0m\u001b[0m\n\u001b[0;32m--> 334\u001b[0;31m         \u001b[0mdownload_and_extract_archive\u001b[0m\u001b[0;34m(\u001b[0m\u001b[0mself\u001b[0m\u001b[0;34m.\u001b[0m\u001b[0murl\u001b[0m\u001b[0;34m,\u001b[0m \u001b[0mdownload_root\u001b[0m\u001b[0;34m=\u001b[0m\u001b[0mself\u001b[0m\u001b[0;34m.\u001b[0m\u001b[0mraw_folder\u001b[0m\u001b[0;34m,\u001b[0m \u001b[0mmd5\u001b[0m\u001b[0;34m=\u001b[0m\u001b[0mself\u001b[0m\u001b[0;34m.\u001b[0m\u001b[0mmd5\u001b[0m\u001b[0;34m)\u001b[0m\u001b[0;34m\u001b[0m\u001b[0;34m\u001b[0m\u001b[0m\n\u001b[0m\u001b[1;32m    335\u001b[0m         \u001b[0mgzip_folder\u001b[0m \u001b[0;34m=\u001b[0m \u001b[0mos\u001b[0m\u001b[0;34m.\u001b[0m\u001b[0mpath\u001b[0m\u001b[0;34m.\u001b[0m\u001b[0mjoin\u001b[0m\u001b[0;34m(\u001b[0m\u001b[0mself\u001b[0m\u001b[0;34m.\u001b[0m\u001b[0mraw_folder\u001b[0m\u001b[0;34m,\u001b[0m \u001b[0;34m\"gzip\"\u001b[0m\u001b[0;34m)\u001b[0m\u001b[0;34m\u001b[0m\u001b[0;34m\u001b[0m\u001b[0m\n\u001b[1;32m    336\u001b[0m         \u001b[0;32mfor\u001b[0m \u001b[0mgzip_file\u001b[0m \u001b[0;32min\u001b[0m \u001b[0mos\u001b[0m\u001b[0;34m.\u001b[0m\u001b[0mlistdir\u001b[0m\u001b[0;34m(\u001b[0m\u001b[0mgzip_folder\u001b[0m\u001b[0;34m)\u001b[0m\u001b[0;34m:\u001b[0m\u001b[0;34m\u001b[0m\u001b[0;34m\u001b[0m\u001b[0m\n",
            "\u001b[0;32m/usr/local/lib/python3.10/dist-packages/torchvision/datasets/utils.py\u001b[0m in \u001b[0;36mdownload_and_extract_archive\u001b[0;34m(url, download_root, extract_root, filename, md5, remove_finished)\u001b[0m\n\u001b[1;32m    432\u001b[0m         \u001b[0mfilename\u001b[0m \u001b[0;34m=\u001b[0m \u001b[0mos\u001b[0m\u001b[0;34m.\u001b[0m\u001b[0mpath\u001b[0m\u001b[0;34m.\u001b[0m\u001b[0mbasename\u001b[0m\u001b[0;34m(\u001b[0m\u001b[0murl\u001b[0m\u001b[0;34m)\u001b[0m\u001b[0;34m\u001b[0m\u001b[0;34m\u001b[0m\u001b[0m\n\u001b[1;32m    433\u001b[0m \u001b[0;34m\u001b[0m\u001b[0m\n\u001b[0;32m--> 434\u001b[0;31m     \u001b[0mdownload_url\u001b[0m\u001b[0;34m(\u001b[0m\u001b[0murl\u001b[0m\u001b[0;34m,\u001b[0m \u001b[0mdownload_root\u001b[0m\u001b[0;34m,\u001b[0m \u001b[0mfilename\u001b[0m\u001b[0;34m,\u001b[0m \u001b[0mmd5\u001b[0m\u001b[0;34m)\u001b[0m\u001b[0;34m\u001b[0m\u001b[0;34m\u001b[0m\u001b[0m\n\u001b[0m\u001b[1;32m    435\u001b[0m \u001b[0;34m\u001b[0m\u001b[0m\n\u001b[1;32m    436\u001b[0m     \u001b[0marchive\u001b[0m \u001b[0;34m=\u001b[0m \u001b[0mos\u001b[0m\u001b[0;34m.\u001b[0m\u001b[0mpath\u001b[0m\u001b[0;34m.\u001b[0m\u001b[0mjoin\u001b[0m\u001b[0;34m(\u001b[0m\u001b[0mdownload_root\u001b[0m\u001b[0;34m,\u001b[0m \u001b[0mfilename\u001b[0m\u001b[0;34m)\u001b[0m\u001b[0;34m\u001b[0m\u001b[0;34m\u001b[0m\u001b[0m\n",
            "\u001b[0;32m/usr/local/lib/python3.10/dist-packages/torchvision/datasets/utils.py\u001b[0m in \u001b[0;36mdownload_url\u001b[0;34m(url, root, filename, md5, max_redirect_hops)\u001b[0m\n\u001b[1;32m    142\u001b[0m         \u001b[0;32mtry\u001b[0m\u001b[0;34m:\u001b[0m\u001b[0;34m\u001b[0m\u001b[0;34m\u001b[0m\u001b[0m\n\u001b[1;32m    143\u001b[0m             \u001b[0mprint\u001b[0m\u001b[0;34m(\u001b[0m\u001b[0;34m\"Downloading \"\u001b[0m \u001b[0;34m+\u001b[0m \u001b[0murl\u001b[0m \u001b[0;34m+\u001b[0m \u001b[0;34m\" to \"\u001b[0m \u001b[0;34m+\u001b[0m \u001b[0mfpath\u001b[0m\u001b[0;34m)\u001b[0m\u001b[0;34m\u001b[0m\u001b[0;34m\u001b[0m\u001b[0m\n\u001b[0;32m--> 144\u001b[0;31m             \u001b[0m_urlretrieve\u001b[0m\u001b[0;34m(\u001b[0m\u001b[0murl\u001b[0m\u001b[0;34m,\u001b[0m \u001b[0mfpath\u001b[0m\u001b[0;34m)\u001b[0m\u001b[0;34m\u001b[0m\u001b[0;34m\u001b[0m\u001b[0m\n\u001b[0m\u001b[1;32m    145\u001b[0m         \u001b[0;32mexcept\u001b[0m \u001b[0;34m(\u001b[0m\u001b[0murllib\u001b[0m\u001b[0;34m.\u001b[0m\u001b[0merror\u001b[0m\u001b[0;34m.\u001b[0m\u001b[0mURLError\u001b[0m\u001b[0;34m,\u001b[0m \u001b[0mOSError\u001b[0m\u001b[0;34m)\u001b[0m \u001b[0;32mas\u001b[0m \u001b[0me\u001b[0m\u001b[0;34m:\u001b[0m  \u001b[0;31m# type: ignore[attr-defined]\u001b[0m\u001b[0;34m\u001b[0m\u001b[0;34m\u001b[0m\u001b[0m\n\u001b[1;32m    146\u001b[0m             \u001b[0;32mif\u001b[0m \u001b[0murl\u001b[0m\u001b[0;34m[\u001b[0m\u001b[0;34m:\u001b[0m\u001b[0;36m5\u001b[0m\u001b[0;34m]\u001b[0m \u001b[0;34m==\u001b[0m \u001b[0;34m\"https\"\u001b[0m\u001b[0;34m:\u001b[0m\u001b[0;34m\u001b[0m\u001b[0;34m\u001b[0m\u001b[0m\n",
            "\u001b[0;32m/usr/local/lib/python3.10/dist-packages/torchvision/datasets/utils.py\u001b[0m in \u001b[0;36m_urlretrieve\u001b[0;34m(url, filename, chunk_size)\u001b[0m\n\u001b[1;32m     46\u001b[0m \u001b[0;32mdef\u001b[0m \u001b[0m_urlretrieve\u001b[0m\u001b[0;34m(\u001b[0m\u001b[0murl\u001b[0m\u001b[0;34m:\u001b[0m \u001b[0mstr\u001b[0m\u001b[0;34m,\u001b[0m \u001b[0mfilename\u001b[0m\u001b[0;34m:\u001b[0m \u001b[0mstr\u001b[0m\u001b[0;34m,\u001b[0m \u001b[0mchunk_size\u001b[0m\u001b[0;34m:\u001b[0m \u001b[0mint\u001b[0m \u001b[0;34m=\u001b[0m \u001b[0;36m1024\u001b[0m \u001b[0;34m*\u001b[0m \u001b[0;36m32\u001b[0m\u001b[0;34m)\u001b[0m \u001b[0;34m->\u001b[0m \u001b[0;32mNone\u001b[0m\u001b[0;34m:\u001b[0m\u001b[0;34m\u001b[0m\u001b[0;34m\u001b[0m\u001b[0m\n\u001b[1;32m     47\u001b[0m     \u001b[0;32mwith\u001b[0m \u001b[0murllib\u001b[0m\u001b[0;34m.\u001b[0m\u001b[0mrequest\u001b[0m\u001b[0;34m.\u001b[0m\u001b[0murlopen\u001b[0m\u001b[0;34m(\u001b[0m\u001b[0murllib\u001b[0m\u001b[0;34m.\u001b[0m\u001b[0mrequest\u001b[0m\u001b[0;34m.\u001b[0m\u001b[0mRequest\u001b[0m\u001b[0;34m(\u001b[0m\u001b[0murl\u001b[0m\u001b[0;34m,\u001b[0m \u001b[0mheaders\u001b[0m\u001b[0;34m=\u001b[0m\u001b[0;34m{\u001b[0m\u001b[0;34m\"User-Agent\"\u001b[0m\u001b[0;34m:\u001b[0m \u001b[0mUSER_AGENT\u001b[0m\u001b[0;34m}\u001b[0m\u001b[0;34m)\u001b[0m\u001b[0;34m)\u001b[0m \u001b[0;32mas\u001b[0m \u001b[0mresponse\u001b[0m\u001b[0;34m:\u001b[0m\u001b[0;34m\u001b[0m\u001b[0;34m\u001b[0m\u001b[0m\n\u001b[0;32m---> 48\u001b[0;31m         \u001b[0m_save_response_content\u001b[0m\u001b[0;34m(\u001b[0m\u001b[0miter\u001b[0m\u001b[0;34m(\u001b[0m\u001b[0;32mlambda\u001b[0m\u001b[0;34m:\u001b[0m \u001b[0mresponse\u001b[0m\u001b[0;34m.\u001b[0m\u001b[0mread\u001b[0m\u001b[0;34m(\u001b[0m\u001b[0mchunk_size\u001b[0m\u001b[0;34m)\u001b[0m\u001b[0;34m,\u001b[0m \u001b[0;34mb\"\"\u001b[0m\u001b[0;34m)\u001b[0m\u001b[0;34m,\u001b[0m \u001b[0mfilename\u001b[0m\u001b[0;34m,\u001b[0m \u001b[0mlength\u001b[0m\u001b[0;34m=\u001b[0m\u001b[0mresponse\u001b[0m\u001b[0;34m.\u001b[0m\u001b[0mlength\u001b[0m\u001b[0;34m)\u001b[0m\u001b[0;34m\u001b[0m\u001b[0;34m\u001b[0m\u001b[0m\n\u001b[0m\u001b[1;32m     49\u001b[0m \u001b[0;34m\u001b[0m\u001b[0m\n\u001b[1;32m     50\u001b[0m \u001b[0;34m\u001b[0m\u001b[0m\n",
            "\u001b[0;32m/usr/local/lib/python3.10/dist-packages/torchvision/datasets/utils.py\u001b[0m in \u001b[0;36m_save_response_content\u001b[0;34m(content, destination, length)\u001b[0m\n\u001b[1;32m     35\u001b[0m ) -> None:\n\u001b[1;32m     36\u001b[0m     \u001b[0;32mwith\u001b[0m \u001b[0mopen\u001b[0m\u001b[0;34m(\u001b[0m\u001b[0mdestination\u001b[0m\u001b[0;34m,\u001b[0m \u001b[0;34m\"wb\"\u001b[0m\u001b[0;34m)\u001b[0m \u001b[0;32mas\u001b[0m \u001b[0mfh\u001b[0m\u001b[0;34m,\u001b[0m \u001b[0mtqdm\u001b[0m\u001b[0;34m(\u001b[0m\u001b[0mtotal\u001b[0m\u001b[0;34m=\u001b[0m\u001b[0mlength\u001b[0m\u001b[0;34m)\u001b[0m \u001b[0;32mas\u001b[0m \u001b[0mpbar\u001b[0m\u001b[0;34m:\u001b[0m\u001b[0;34m\u001b[0m\u001b[0;34m\u001b[0m\u001b[0m\n\u001b[0;32m---> 37\u001b[0;31m         \u001b[0;32mfor\u001b[0m \u001b[0mchunk\u001b[0m \u001b[0;32min\u001b[0m \u001b[0mcontent\u001b[0m\u001b[0;34m:\u001b[0m\u001b[0;34m\u001b[0m\u001b[0;34m\u001b[0m\u001b[0m\n\u001b[0m\u001b[1;32m     38\u001b[0m             \u001b[0;31m# filter out keep-alive new chunks\u001b[0m\u001b[0;34m\u001b[0m\u001b[0;34m\u001b[0m\u001b[0m\n\u001b[1;32m     39\u001b[0m             \u001b[0;32mif\u001b[0m \u001b[0;32mnot\u001b[0m \u001b[0mchunk\u001b[0m\u001b[0;34m:\u001b[0m\u001b[0;34m\u001b[0m\u001b[0;34m\u001b[0m\u001b[0m\n",
            "\u001b[0;32m/usr/local/lib/python3.10/dist-packages/torchvision/datasets/utils.py\u001b[0m in \u001b[0;36m<lambda>\u001b[0;34m()\u001b[0m\n\u001b[1;32m     46\u001b[0m \u001b[0;32mdef\u001b[0m \u001b[0m_urlretrieve\u001b[0m\u001b[0;34m(\u001b[0m\u001b[0murl\u001b[0m\u001b[0;34m:\u001b[0m \u001b[0mstr\u001b[0m\u001b[0;34m,\u001b[0m \u001b[0mfilename\u001b[0m\u001b[0;34m:\u001b[0m \u001b[0mstr\u001b[0m\u001b[0;34m,\u001b[0m \u001b[0mchunk_size\u001b[0m\u001b[0;34m:\u001b[0m \u001b[0mint\u001b[0m \u001b[0;34m=\u001b[0m \u001b[0;36m1024\u001b[0m \u001b[0;34m*\u001b[0m \u001b[0;36m32\u001b[0m\u001b[0;34m)\u001b[0m \u001b[0;34m->\u001b[0m \u001b[0;32mNone\u001b[0m\u001b[0;34m:\u001b[0m\u001b[0;34m\u001b[0m\u001b[0;34m\u001b[0m\u001b[0m\n\u001b[1;32m     47\u001b[0m     \u001b[0;32mwith\u001b[0m \u001b[0murllib\u001b[0m\u001b[0;34m.\u001b[0m\u001b[0mrequest\u001b[0m\u001b[0;34m.\u001b[0m\u001b[0murlopen\u001b[0m\u001b[0;34m(\u001b[0m\u001b[0murllib\u001b[0m\u001b[0;34m.\u001b[0m\u001b[0mrequest\u001b[0m\u001b[0;34m.\u001b[0m\u001b[0mRequest\u001b[0m\u001b[0;34m(\u001b[0m\u001b[0murl\u001b[0m\u001b[0;34m,\u001b[0m \u001b[0mheaders\u001b[0m\u001b[0;34m=\u001b[0m\u001b[0;34m{\u001b[0m\u001b[0;34m\"User-Agent\"\u001b[0m\u001b[0;34m:\u001b[0m \u001b[0mUSER_AGENT\u001b[0m\u001b[0;34m}\u001b[0m\u001b[0;34m)\u001b[0m\u001b[0;34m)\u001b[0m \u001b[0;32mas\u001b[0m \u001b[0mresponse\u001b[0m\u001b[0;34m:\u001b[0m\u001b[0;34m\u001b[0m\u001b[0;34m\u001b[0m\u001b[0m\n\u001b[0;32m---> 48\u001b[0;31m         \u001b[0m_save_response_content\u001b[0m\u001b[0;34m(\u001b[0m\u001b[0miter\u001b[0m\u001b[0;34m(\u001b[0m\u001b[0;32mlambda\u001b[0m\u001b[0;34m:\u001b[0m \u001b[0mresponse\u001b[0m\u001b[0;34m.\u001b[0m\u001b[0mread\u001b[0m\u001b[0;34m(\u001b[0m\u001b[0mchunk_size\u001b[0m\u001b[0;34m)\u001b[0m\u001b[0;34m,\u001b[0m \u001b[0;34mb\"\"\u001b[0m\u001b[0;34m)\u001b[0m\u001b[0;34m,\u001b[0m \u001b[0mfilename\u001b[0m\u001b[0;34m,\u001b[0m \u001b[0mlength\u001b[0m\u001b[0;34m=\u001b[0m\u001b[0mresponse\u001b[0m\u001b[0;34m.\u001b[0m\u001b[0mlength\u001b[0m\u001b[0;34m)\u001b[0m\u001b[0;34m\u001b[0m\u001b[0;34m\u001b[0m\u001b[0m\n\u001b[0m\u001b[1;32m     49\u001b[0m \u001b[0;34m\u001b[0m\u001b[0m\n\u001b[1;32m     50\u001b[0m \u001b[0;34m\u001b[0m\u001b[0m\n",
            "\u001b[0;32m/usr/lib/python3.10/http/client.py\u001b[0m in \u001b[0;36mread\u001b[0;34m(self, amt)\u001b[0m\n\u001b[1;32m    464\u001b[0m                 \u001b[0;31m# clip the read to the \"end of response\"\u001b[0m\u001b[0;34m\u001b[0m\u001b[0;34m\u001b[0m\u001b[0m\n\u001b[1;32m    465\u001b[0m                 \u001b[0mamt\u001b[0m \u001b[0;34m=\u001b[0m \u001b[0mself\u001b[0m\u001b[0;34m.\u001b[0m\u001b[0mlength\u001b[0m\u001b[0;34m\u001b[0m\u001b[0;34m\u001b[0m\u001b[0m\n\u001b[0;32m--> 466\u001b[0;31m             \u001b[0ms\u001b[0m \u001b[0;34m=\u001b[0m \u001b[0mself\u001b[0m\u001b[0;34m.\u001b[0m\u001b[0mfp\u001b[0m\u001b[0;34m.\u001b[0m\u001b[0mread\u001b[0m\u001b[0;34m(\u001b[0m\u001b[0mamt\u001b[0m\u001b[0;34m)\u001b[0m\u001b[0;34m\u001b[0m\u001b[0;34m\u001b[0m\u001b[0m\n\u001b[0m\u001b[1;32m    467\u001b[0m             \u001b[0;32mif\u001b[0m \u001b[0;32mnot\u001b[0m \u001b[0ms\u001b[0m \u001b[0;32mand\u001b[0m \u001b[0mamt\u001b[0m\u001b[0;34m:\u001b[0m\u001b[0;34m\u001b[0m\u001b[0;34m\u001b[0m\u001b[0m\n\u001b[1;32m    468\u001b[0m                 \u001b[0;31m# Ideally, we would raise IncompleteRead if the content-length\u001b[0m\u001b[0;34m\u001b[0m\u001b[0;34m\u001b[0m\u001b[0m\n",
            "\u001b[0;32m/usr/lib/python3.10/socket.py\u001b[0m in \u001b[0;36mreadinto\u001b[0;34m(self, b)\u001b[0m\n\u001b[1;32m    703\u001b[0m         \u001b[0;32mwhile\u001b[0m \u001b[0;32mTrue\u001b[0m\u001b[0;34m:\u001b[0m\u001b[0;34m\u001b[0m\u001b[0;34m\u001b[0m\u001b[0m\n\u001b[1;32m    704\u001b[0m             \u001b[0;32mtry\u001b[0m\u001b[0;34m:\u001b[0m\u001b[0;34m\u001b[0m\u001b[0;34m\u001b[0m\u001b[0m\n\u001b[0;32m--> 705\u001b[0;31m                 \u001b[0;32mreturn\u001b[0m \u001b[0mself\u001b[0m\u001b[0;34m.\u001b[0m\u001b[0m_sock\u001b[0m\u001b[0;34m.\u001b[0m\u001b[0mrecv_into\u001b[0m\u001b[0;34m(\u001b[0m\u001b[0mb\u001b[0m\u001b[0;34m)\u001b[0m\u001b[0;34m\u001b[0m\u001b[0;34m\u001b[0m\u001b[0m\n\u001b[0m\u001b[1;32m    706\u001b[0m             \u001b[0;32mexcept\u001b[0m \u001b[0mtimeout\u001b[0m\u001b[0;34m:\u001b[0m\u001b[0;34m\u001b[0m\u001b[0;34m\u001b[0m\u001b[0m\n\u001b[1;32m    707\u001b[0m                 \u001b[0mself\u001b[0m\u001b[0;34m.\u001b[0m\u001b[0m_timeout_occurred\u001b[0m \u001b[0;34m=\u001b[0m \u001b[0;32mTrue\u001b[0m\u001b[0;34m\u001b[0m\u001b[0;34m\u001b[0m\u001b[0m\n",
            "\u001b[0;32m/usr/lib/python3.10/ssl.py\u001b[0m in \u001b[0;36mrecv_into\u001b[0;34m(self, buffer, nbytes, flags)\u001b[0m\n\u001b[1;32m   1301\u001b[0m                   \u001b[0;34m\"non-zero flags not allowed in calls to recv_into() on %s\"\u001b[0m \u001b[0;34m%\u001b[0m\u001b[0;34m\u001b[0m\u001b[0;34m\u001b[0m\u001b[0m\n\u001b[1;32m   1302\u001b[0m                   self.__class__)\n\u001b[0;32m-> 1303\u001b[0;31m             \u001b[0;32mreturn\u001b[0m \u001b[0mself\u001b[0m\u001b[0;34m.\u001b[0m\u001b[0mread\u001b[0m\u001b[0;34m(\u001b[0m\u001b[0mnbytes\u001b[0m\u001b[0;34m,\u001b[0m \u001b[0mbuffer\u001b[0m\u001b[0;34m)\u001b[0m\u001b[0;34m\u001b[0m\u001b[0;34m\u001b[0m\u001b[0m\n\u001b[0m\u001b[1;32m   1304\u001b[0m         \u001b[0;32melse\u001b[0m\u001b[0;34m:\u001b[0m\u001b[0;34m\u001b[0m\u001b[0;34m\u001b[0m\u001b[0m\n\u001b[1;32m   1305\u001b[0m             \u001b[0;32mreturn\u001b[0m \u001b[0msuper\u001b[0m\u001b[0;34m(\u001b[0m\u001b[0;34m)\u001b[0m\u001b[0;34m.\u001b[0m\u001b[0mrecv_into\u001b[0m\u001b[0;34m(\u001b[0m\u001b[0mbuffer\u001b[0m\u001b[0;34m,\u001b[0m \u001b[0mnbytes\u001b[0m\u001b[0;34m,\u001b[0m \u001b[0mflags\u001b[0m\u001b[0;34m)\u001b[0m\u001b[0;34m\u001b[0m\u001b[0;34m\u001b[0m\u001b[0m\n",
            "\u001b[0;32m/usr/lib/python3.10/ssl.py\u001b[0m in \u001b[0;36mread\u001b[0;34m(self, len, buffer)\u001b[0m\n\u001b[1;32m   1157\u001b[0m         \u001b[0;32mtry\u001b[0m\u001b[0;34m:\u001b[0m\u001b[0;34m\u001b[0m\u001b[0;34m\u001b[0m\u001b[0m\n\u001b[1;32m   1158\u001b[0m             \u001b[0;32mif\u001b[0m \u001b[0mbuffer\u001b[0m \u001b[0;32mis\u001b[0m \u001b[0;32mnot\u001b[0m \u001b[0;32mNone\u001b[0m\u001b[0;34m:\u001b[0m\u001b[0;34m\u001b[0m\u001b[0;34m\u001b[0m\u001b[0m\n\u001b[0;32m-> 1159\u001b[0;31m                 \u001b[0;32mreturn\u001b[0m \u001b[0mself\u001b[0m\u001b[0;34m.\u001b[0m\u001b[0m_sslobj\u001b[0m\u001b[0;34m.\u001b[0m\u001b[0mread\u001b[0m\u001b[0;34m(\u001b[0m\u001b[0mlen\u001b[0m\u001b[0;34m,\u001b[0m \u001b[0mbuffer\u001b[0m\u001b[0;34m)\u001b[0m\u001b[0;34m\u001b[0m\u001b[0;34m\u001b[0m\u001b[0m\n\u001b[0m\u001b[1;32m   1160\u001b[0m             \u001b[0;32melse\u001b[0m\u001b[0;34m:\u001b[0m\u001b[0;34m\u001b[0m\u001b[0;34m\u001b[0m\u001b[0m\n\u001b[1;32m   1161\u001b[0m                 \u001b[0;32mreturn\u001b[0m \u001b[0mself\u001b[0m\u001b[0;34m.\u001b[0m\u001b[0m_sslobj\u001b[0m\u001b[0;34m.\u001b[0m\u001b[0mread\u001b[0m\u001b[0;34m(\u001b[0m\u001b[0mlen\u001b[0m\u001b[0;34m)\u001b[0m\u001b[0;34m\u001b[0m\u001b[0;34m\u001b[0m\u001b[0m\n",
            "\u001b[0;31mKeyboardInterrupt\u001b[0m: "
          ]
        }
      ]
    },
    {
      "cell_type": "code",
      "source": [
        "print(f'Data size: {emnist_data.data.shape}')\n",
        "\n",
        "images = emnist_data.data.view([emnist_data.data.shape[0],1,emnist_data.data.shape[1],emnist_data.data.shape[2]]).float()\n",
        "\n",
        "print(f'Tensor data: {images.shape}')"
      ],
      "metadata": {
        "colab": {
          "base_uri": "https://localhost:8080/"
        },
        "id": "UkhQCA3LMMue",
        "outputId": "0eedc256-56c3-4f40-974c-ada0b98dce0e"
      },
      "execution_count": null,
      "outputs": [
        {
          "output_type": "stream",
          "name": "stdout",
          "text": [
            "Data size: torch.Size([124800, 28, 28])\n",
            "Tensor data: torch.Size([124800, 1, 28, 28])\n"
          ]
        }
      ]
    },
    {
      "cell_type": "code",
      "source": [
        "emnist_data.class_to_idx"
      ],
      "metadata": {
        "colab": {
          "base_uri": "https://localhost:8080/"
        },
        "id": "A_TFpd-9Mj4e",
        "outputId": "90fa3e61-8681-4d99-fc54-b9822cc89459"
      },
      "execution_count": null,
      "outputs": [
        {
          "output_type": "execute_result",
          "data": {
            "text/plain": [
              "{'N/A': 0,\n",
              " 'a': 1,\n",
              " 'b': 2,\n",
              " 'c': 3,\n",
              " 'd': 4,\n",
              " 'e': 5,\n",
              " 'f': 6,\n",
              " 'g': 7,\n",
              " 'h': 8,\n",
              " 'i': 9,\n",
              " 'j': 10,\n",
              " 'k': 11,\n",
              " 'l': 12,\n",
              " 'm': 13,\n",
              " 'n': 14,\n",
              " 'o': 15,\n",
              " 'p': 16,\n",
              " 'q': 17,\n",
              " 'r': 18,\n",
              " 's': 19,\n",
              " 't': 20,\n",
              " 'u': 21,\n",
              " 'v': 22,\n",
              " 'w': 23,\n",
              " 'x': 24,\n",
              " 'y': 25,\n",
              " 'z': 26}"
            ]
          },
          "metadata": {},
          "execution_count": 46
        }
      ]
    },
    {
      "cell_type": "code",
      "source": [
        "letterCategories = emnist_data.classes[1:]\n",
        "labels = copy.deepcopy(emnist_data.targets)-1\n",
        "print(labels.shape)"
      ],
      "metadata": {
        "id": "wrnfvSiuN7ZL",
        "colab": {
          "base_uri": "https://localhost:8080/"
        },
        "outputId": "b68c873d-21b8-4cd8-cfdf-6694cf3ecda0"
      },
      "execution_count": null,
      "outputs": [
        {
          "output_type": "stream",
          "name": "stdout",
          "text": [
            "torch.Size([124800])\n"
          ]
        }
      ]
    },
    {
      "cell_type": "code",
      "source": [
        "labels.unique()"
      ],
      "metadata": {
        "colab": {
          "base_uri": "https://localhost:8080/"
        },
        "id": "ogA6ZEAIQdLI",
        "outputId": "b720bf37-fc1d-4910-e82c-c09232616d51"
      },
      "execution_count": null,
      "outputs": [
        {
          "output_type": "execute_result",
          "data": {
            "text/plain": [
              "tensor([ 0,  1,  2,  3,  4,  5,  6,  7,  8,  9, 10, 11, 12, 13, 14, 15, 16, 17,\n",
              "        18, 19, 20, 21, 22, 23, 24, 25])"
            ]
          },
          "metadata": {},
          "execution_count": 48
        }
      ]
    },
    {
      "cell_type": "code",
      "source": [
        "# visualize\n",
        "\n",
        "fig, axs = plt.subplots(3,7, figsize=(13,6))\n",
        "\n",
        "for i, ax in enumerate(axs.flatten()):\n",
        "  pic = np.random.randint(images.shape[0])\n",
        "\n",
        "  image = np.squeeze(images[pic,:,:])\n",
        "  letter = letterCategories[labels[pic]]\n",
        "\n",
        "  ax.imshow(image.T,cmap='gray')\n",
        "  ax.set_title(f\"{letter}\")\n",
        "  ax.set_xticks([])\n",
        "  ax.set_yticks([])\n",
        "plt.show()"
      ],
      "metadata": {
        "colab": {
          "base_uri": "https://localhost:8080/",
          "height": 462
        },
        "id": "uxfMcDCcQFzc",
        "outputId": "3ec54696-0ee2-4d52-ff89-7428fd41aa68"
      },
      "execution_count": null,
      "outputs": [
        {
          "output_type": "display_data",
          "data": {
            "text/plain": [
              "<Figure size 1300x600 with 21 Axes>"
            ],
            "image/png": "[encoded data removed]"
          },
          "metadata": {}
        }
      ]
    },
    {
      "cell_type": "markdown",
      "source": [
        "### Create train/test sets"
      ],
      "metadata": {
        "id": "1ry4nIhhQMNw"
      }
    },
    {
      "cell_type": "code",
      "source": [
        "import os\n",
        "from torch.utils.data import DataLoader,TensorDataset\n",
        "from sklearn.model_selection import train_test_split\n",
        "\n",
        "num_workers = os.cpu_count()\n",
        "print(num_workers)\n",
        "\n",
        "train_data, test_data, train_labels, test_labels = train_test_split(images, labels, test_size=.1)\n",
        "\n",
        "train_data = TensorDataset(train_data,train_labels)\n",
        "train_data = TensorDataset(test_data,test_labels)\n",
        "\n",
        "batch_size = 32\n",
        "train_dataloader = DataLoader(train_data,\n",
        "                              batch_size=batch_size,\n",
        "                              shuffle=True,\n",
        "                              num_workers=num_workers,\n",
        "                              pin_memory=True)\n",
        "test_dataloader = DataLoader(test_data,\n",
        "                              batch_size=batch_size,\n",
        "                              shuffle=False,\n",
        "                              num_workers=num_workers,\n",
        "                              pin_memory=True)\n"
      ],
      "metadata": {
        "colab": {
          "base_uri": "https://localhost:8080/"
        },
        "id": "clGd8LapTigC",
        "outputId": "71a6053d-b64f-4a85-c8c7-c735a409bfa8"
      },
      "execution_count": null,
      "outputs": [
        {
          "output_type": "stream",
          "name": "stdout",
          "text": [
            "2\n"
          ]
        }
      ]
    },
    {
      "cell_type": "code",
      "source": [
        "train_dataloader,test_dataloader"
      ],
      "metadata": {
        "colab": {
          "base_uri": "https://localhost:8080/"
        },
        "id": "umaCUdBnVTSn",
        "outputId": "b1dc82c1-1663-46fb-dd21-30a6ad0a39e7"
      },
      "execution_count": null,
      "outputs": [
        {
          "output_type": "execute_result",
          "data": {
            "text/plain": [
              "(<torch.utils.data.dataloader.DataLoader at 0x7cce096f5930>,\n",
              " <torch.utils.data.dataloader.DataLoader at 0x7cce096f5900>)"
            ]
          },
          "metadata": {},
          "execution_count": 56
        }
      ]
    },
    {
      "cell_type": "code",
      "source": [
        "img, label = next(iter(train_dataloader))\n",
        "\n",
        "# Batch size will now be 1, try changing the batch_size parameter above and see what happens\n",
        "print(f\"Image shape: {img.shape} -> [batch_size, color_channels, height, width]\")\n",
        "print(f\"Label shape: {label.shape}\")"
      ],
      "metadata": {
        "colab": {
          "base_uri": "https://localhost:8080/"
        },
        "id": "5kOEnCnkVS-b",
        "outputId": "21bf3195-fa14-45c7-ef53-c1f37cb433ff"
      },
      "execution_count": null,
      "outputs": [
        {
          "output_type": "stream",
          "name": "stdout",
          "text": [
            "Image shape: torch.Size([32, 1, 28, 28]) -> [batch_size, color_channels, height, width]\n",
            "Label shape: torch.Size([32])\n"
          ]
        }
      ]
    },
    {
      "cell_type": "code",
      "source": [
        "print(train_dataloader.dataset.tensors[0].shape)\n",
        "print(train_dataloader.dataset.tensors[1].shape)\n"
      ],
      "metadata": {
        "colab": {
          "base_uri": "https://localhost:8080/"
        },
        "id": "TSfoueT1V6Hj",
        "outputId": "068a59ea-f33d-424b-c2f2-c2b7393f823c"
      },
      "execution_count": null,
      "outputs": [
        {
          "output_type": "stream",
          "name": "stdout",
          "text": [
            "torch.Size([12480, 1, 28, 28])\n",
            "torch.Size([12480])\n"
          ]
        }
      ]
    },
    {
      "cell_type": "code",
      "source": [
        "uppercase_letters = \"ABCDEFGHIJKLMNOPQRSTUVWXYZ\"\n",
        "lowercase_letters = \"abcdefghijklmnopqrstuvwxyz\"\n",
        "\n",
        "# Iterate through the directories\n",
        "for letter in uppercase_letters + lowercase_letters:\n",
        "  print(letter)"
      ],
      "metadata": {
        "id": "ar4KjW0lWmv9",
        "colab": {
          "base_uri": "https://localhost:8080/"
        },
        "outputId": "0cc343a7-bf71-4c8a-e8da-ba7ae2cca3f8"
      },
      "execution_count": null,
      "outputs": [
        {
          "output_type": "stream",
          "name": "stdout",
          "text": [
            "A\n",
            "B\n",
            "C\n",
            "D\n",
            "E\n",
            "F\n",
            "G\n",
            "H\n",
            "I\n",
            "J\n",
            "K\n",
            "L\n",
            "M\n",
            "N\n",
            "O\n",
            "P\n",
            "Q\n",
            "R\n",
            "S\n",
            "T\n",
            "U\n",
            "V\n",
            "W\n",
            "X\n",
            "Y\n",
            "Z\n",
            "a\n",
            "b\n",
            "c\n",
            "d\n",
            "e\n",
            "f\n",
            "g\n",
            "h\n",
            "i\n",
            "j\n",
            "k\n",
            "l\n",
            "m\n",
            "n\n",
            "o\n",
            "p\n",
            "q\n",
            "r\n",
            "s\n",
            "t\n",
            "u\n",
            "v\n",
            "w\n",
            "x\n",
            "y\n",
            "z\n"
          ]
        }
      ]
    },
    {
      "cell_type": "code",
      "source": [],
      "metadata": {
        "id": "v_zxFnRQnt3p"
      },
      "execution_count": null,
      "outputs": []
    }
  ],
  "metadata": {
    "colab": {
      "provenance": [],
      "gpuType": "V100",
      "mount_file_id": "1EKEyqgZa0_c6u6eQpCNFYRi5iwJO3Ckf",
      "authorship_tag": "ABX9TyMrwvpZJpAsrNAxSx4YGXkD",
      "include_colab_link": true
    },
    "kernelspec": {
      "display_name": "Python 3",
      "name": "python3"
    },
    "language_info": {
      "name": "python"
    },
    "accelerator": "GPU"
  },
  "nbformat": 4,
  "nbformat_minor": 0
}