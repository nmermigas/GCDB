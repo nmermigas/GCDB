{
  "cells": [
    {
      "cell_type": "markdown",
      "metadata": {
        "id": "view-in-github",
        "colab_type": "text"
      },
      "source": [
        "<a href=\"https://colab.research.google.com/github/nmermigas/GCDB/blob/main/CalendAI.ipynb\" target=\"_parent\"><img src=\"https://colab.research.google.com/assets/colab-badge.svg\" alt=\"Open In Colab\"/></a>"
      ]
    },
    {
      "cell_type": "markdown",
      "source": [
        "## 0. Imports"
      ],
      "metadata": {
        "id": "YRWf6LYuqqhM"
      }
    },
    {
      "cell_type": "code",
      "source": [
        "import torch\n",
        "import torchvision\n",
        "import requests\n",
        "import zipfile\n",
        "import matplotlib.pyplot as plt\n",
        "import copy\n",
        "\n",
        "from pathlib import Path\n",
        "from torch import nn\n",
        "from torchvision import datasets,transforms\n",
        "\n",
        "import os\n",
        "from torch.utils.data import DataLoader,TensorDataset\n",
        "from sklearn.model_selection import train_test_split\n",
        "\n",
        "from PIL import Image\n",
        "from torch.utils.data import Dataset\n",
        "from torchvision import transforms\n",
        "from typing import Tuple, Dict, List"
      ],
      "metadata": {
        "id": "wt_I8X5SgMFQ"
      },
      "execution_count": 2,
      "outputs": []
    },
    {
      "cell_type": "markdown",
      "source": [
        "## 1. Setting up device agnostic code"
      ],
      "metadata": {
        "id": "7s9A-gySquXK"
      }
    },
    {
      "cell_type": "code",
      "source": [
        "device = \"cuda\" if torch.cuda.is_available() else \"cpu\"\n",
        "device"
      ],
      "metadata": {
        "colab": {
          "base_uri": "https://localhost:8080/",
          "height": 35
        },
        "id": "phDl2Cksqxkk",
        "outputId": "bd3e6f03-f5ae-4e46-a87a-db993cca8bbe"
      },
      "execution_count": 3,
      "outputs": [
        {
          "output_type": "execute_result",
          "data": {
            "text/plain": [
              "'cuda'"
            ],
            "application/vnd.google.colaboratory.intrinsic+json": {
              "type": "string"
            }
          },
          "metadata": {},
          "execution_count": 3
        }
      ]
    },
    {
      "cell_type": "markdown",
      "source": [
        "## 2. Get data"
      ],
      "metadata": {
        "id": "dNhOLyXGq0Z7"
      }
    },
    {
      "cell_type": "markdown",
      "source": [
        "### 2.1 The GCDB dataset\n",
        "- contains data from handwritten letters in Greek, both uppercase and lowercase."
      ],
      "metadata": {
        "id": "SgZtS5K9q5Cx"
      }
    },
    {
      "cell_type": "code",
      "source": [
        "data_path=Path('data/')\n",
        "gcdb_path = data_path / 'gcdb'\n",
        "\n",
        "if gcdb_path.is_dir():\n",
        "  print(f'{gcdb_path} directory exists')\n",
        "else:\n",
        "  print(f\"Did not find {gcdb_path} directory, creating one...\")\n",
        "  gcdb_path.mkdir(parents=True, exist_ok=True)\n",
        "\n",
        "  # Download pizza, steak, sushi data\n",
        "  with open(data_path / \"gcdb.zip\", \"wb\") as f:\n",
        "      request = requests.get(\"https://github.com/nmermigas/GCDB/raw/main/gcdb.zip\")\n",
        "      print(\"Downloading gcdb data...\")\n",
        "      f.write(request.content)\n",
        "  # Unzip pizza, steak, sushi data\n",
        "  with zipfile.ZipFile(data_path / \"gcdb.zip\", \"r\") as zip_ref:\n",
        "      print(\"Unzipping gcdb data...\")\n",
        "      zip_ref.extractall(gcdb_path)\n",
        "!rm $data_path/gcdb.zip"
      ],
      "metadata": {
        "colab": {
          "base_uri": "https://localhost:8080/"
        },
        "id": "Tv7DZ-_RgXYW",
        "outputId": "aa2b5bdb-f746-4d83-89b8-c74bbe363c38"
      },
      "execution_count": 4,
      "outputs": [
        {
          "output_type": "stream",
          "name": "stdout",
          "text": [
            "Did not find data/gcdb directory, creating one...\n",
            "Downloading gcdb data...\n",
            "Unzipping gcdb data...\n"
          ]
        }
      ]
    },
    {
      "cell_type": "markdown",
      "source": [
        "Creating train and test datasets out of the GCDB dataset.\n",
        "Seeing the structure of the folder we downloaded, the data format is the one below:\n",
        "\n",
        "    gcdb/\n",
        "      Query/\n",
        "        LETT_CAP_NORM.ALPHA/\n",
        "          form_1.bmp\n",
        "          form_2.bmp\n",
        "          ...\n",
        "        LETT_CAP_NORM.BETA/\n",
        "          form_1.bmp\n",
        "          form_2.bmp\n",
        "          ...\n",
        "        LETT_CAP_SUFF.ALPHA/\n",
        "          form_1.bmp\n",
        "          form_2.bmp\n",
        "          ...\n",
        "        LETT_CAP_SUFF.BETA/\n",
        "          form_1.bmp\n",
        "          form_2.bmp\n",
        "          ...\n",
        "        LETT_SML_NORM.ALPHA/\n",
        "          form_1.bmp\n",
        "          form_2.bmp\n",
        "          ...\n",
        "        LETT_SML_NORM.BETA/\n",
        "          form_1.bmp\n",
        "          form_2.bmp\n",
        "          ...\n",
        "        LETT_SML_SUFF.ALPHA/\n",
        "          form_1.bmp\n",
        "          form_2.bmp\n",
        "          ...\n",
        "        LETT_SML_SUFF.BETA/\n",
        "          form_1.bmp\n",
        "          form_2.bmp\n",
        "          ...\n",
        "\n",
        "\n",
        "\n",
        "\n",
        "\n",
        "\n",
        "\n",
        "\n",
        "\n"
      ],
      "metadata": {
        "id": "HOh6SvXXiQ2F"
      }
    },
    {
      "cell_type": "markdown",
      "source": [
        "For each of the 24 letters of the greek alphabet, there are two folders for its uppercase and 2 folders for its lowercase version.\n",
        "\n",
        "Each folder contains `bmp` images.\n",
        "\n",
        "\n"
      ],
      "metadata": {
        "id": "1_uFfs-As_7l"
      }
    },
    {
      "cell_type": "markdown",
      "source": [
        "Our goal is to create the following structure:\n",
        "\n",
        "\n",
        "    gcdb/\n",
        "      train/\n",
        "        ALPHA/\n",
        "          form_1.bmp\n",
        "          form_2.bmp\n",
        "          ...\n",
        "        alpha/\n",
        "          form_1.bmp\n",
        "          form_2.bmp\n",
        "          ...\n",
        "        BETA/\n",
        "          form_1.bmp\n",
        "          form_2.bmp\n",
        "          ...\n",
        "        beta/\n",
        "          form_1.bmp\n",
        "          form_2.bmp\n",
        "          ...\n",
        "        GAMMA/\n",
        "          form_1.bmp\n",
        "          form_2.bmp\n",
        "        ...\n",
        "        gamma/\n",
        "          form_1.bmp\n",
        "          form_2.bmp\n",
        "          ...\n",
        "      test/\n",
        "        ALPHA/\n",
        "          form_1.bmp\n",
        "          form_2.bmp\n",
        "          ...\n",
        "        alpha/\n",
        "          form_1.bmp\n",
        "          form_2.bmp\n",
        "          ...\n",
        "        BETA/\n",
        "          form_1.bmp\n",
        "          form_2.bmp\n",
        "          ...\n",
        "        beta/\n",
        "          form_1.bmp\n",
        "          form_2.bmp\n",
        "          ...\n",
        "        GAMMA/\n",
        "          form_1.bmp\n",
        "          form_2.bmp\n",
        "          ...\n",
        "        gamma/\n",
        "          form_1.bmp\n",
        "          form_2.bmp\n",
        "          ...\n",
        "        ...\n",
        "\n"
      ],
      "metadata": {
        "id": "q3v8_6-1t8gc"
      }
    },
    {
      "cell_type": "markdown",
      "source": [
        "So basically, combine the NORM and the SUFF data for each letter into one and then split them into train and test folders."
      ],
      "metadata": {
        "id": "tP64e7YuvJat"
      }
    },
    {
      "cell_type": "markdown",
      "source": [
        "We can inspect what's in our data directory by writing a small helper function to walk through each of the subdirectories and count the files present."
      ],
      "metadata": {
        "id": "sWTFbEUvvdBM"
      }
    },
    {
      "cell_type": "markdown",
      "source": [
        "To do so, we'll use Python's in-built `os.walk()`\n",
        "\n",
        "\n"
      ],
      "metadata": {
        "id": "S9ZIPft-vcs1"
      }
    },
    {
      "cell_type": "code",
      "source": [
        "import os\n",
        "def walk_through_dir(dir_path):\n",
        "  \"\"\"\n",
        "  Walks through dir_path returning its contents.\n",
        "  Args:\n",
        "    dir_path (str or pathlib.Path): target directory\n",
        "\n",
        "  Returns:\n",
        "    A print out of:\n",
        "      number of subdiretories in dir_path\n",
        "      number of images (files) in each subdirectory\n",
        "      name of each subdirectory\n",
        "  \"\"\"\n",
        "  for dirpath, dirnames, filenames in os.walk(dir_path):\n",
        "    print(f\"There are {len(dirnames)} directories and {len(filenames)} images in '{dirpath}'.\")"
      ],
      "metadata": {
        "id": "-wLvlD7vuBU5"
      },
      "execution_count": 5,
      "outputs": []
    },
    {
      "cell_type": "code",
      "source": [
        "walk_through_dir(gcdb_path)\n"
      ],
      "metadata": {
        "id": "5GsFinKNvwov",
        "colab": {
          "base_uri": "https://localhost:8080/"
        },
        "outputId": "430c1937-983a-4e92-8d41-45fcc489fd0a"
      },
      "execution_count": 6,
      "outputs": [
        {
          "output_type": "stream",
          "name": "stdout",
          "text": [
            "There are 1 directories and 0 images in 'data/gcdb'.\n",
            "There are 96 directories and 0 images in 'data/gcdb/Query'.\n",
            "There are 0 directories and 440 images in 'data/gcdb/Query/LETT_SML_SUFF.YPSILON'.\n",
            "There are 0 directories and 456 images in 'data/gcdb/Query/LETT_SML_SUFF.DELTA'.\n",
            "There are 0 directories and 452 images in 'data/gcdb/Query/LETT_CAP_NORM.RO'.\n",
            "There are 0 directories and 457 images in 'data/gcdb/Query/LETT_CAP_NORM.DELTA'.\n",
            "There are 0 directories and 442 images in 'data/gcdb/Query/LETT_CAP_SUFF.YPSILON'.\n",
            "There are 0 directories and 453 images in 'data/gcdb/Query/LETT_SML_SUFF.ZETA'.\n",
            "There are 0 directories and 449 images in 'data/gcdb/Query/LETT_SML_NORM.RO'.\n",
            "There are 0 directories and 443 images in 'data/gcdb/Query/LETT_SML_NORM.NI'.\n",
            "There are 0 directories and 419 images in 'data/gcdb/Query/LETT_CAP_NORM.KSI'.\n",
            "There are 0 directories and 460 images in 'data/gcdb/Query/LETT_CAP_SUFF.FI'.\n",
            "There are 0 directories and 458 images in 'data/gcdb/Query/LETT_SML_NORM.ZETA'.\n",
            "There are 0 directories and 451 images in 'data/gcdb/Query/LETT_CAP_SUFF.OMEGA'.\n",
            "There are 0 directories and 445 images in 'data/gcdb/Query/LETT_CAP_SUFF.XI'.\n",
            "There are 0 directories and 445 images in 'data/gcdb/Query/LETT_CAP_SUFF.LAMDA'.\n",
            "There are 0 directories and 455 images in 'data/gcdb/Query/LETT_SML_NORM.MI'.\n",
            "There are 0 directories and 456 images in 'data/gcdb/Query/LETT_SML_NORM.LAMDA'.\n",
            "There are 0 directories and 443 images in 'data/gcdb/Query/LETT_SML_SUFF.HETA'.\n",
            "There are 0 directories and 441 images in 'data/gcdb/Query/LETT_CAP_NORM.OMEGA'.\n",
            "There are 0 directories and 448 images in 'data/gcdb/Query/LETT_CAP_SUFF.KAPA'.\n",
            "There are 0 directories and 432 images in 'data/gcdb/Query/LETT_SML_NORM.IOTA'.\n",
            "There are 0 directories and 450 images in 'data/gcdb/Query/LETT_SML_NORM.XI'.\n",
            "There are 0 directories and 448 images in 'data/gcdb/Query/LETT_SML_SUFF.ALPHA'.\n",
            "There are 0 directories and 441 images in 'data/gcdb/Query/LETT_CAP_NORM.OMIKRON'.\n",
            "There are 0 directories and 447 images in 'data/gcdb/Query/LETT_CAP_SUFF.HETA'.\n",
            "There are 0 directories and 439 images in 'data/gcdb/Query/LETT_SML_NORM.KAPA'.\n",
            "There are 0 directories and 453 images in 'data/gcdb/Query/LETT_CAP_SUFF.ALPHA'.\n",
            "There are 0 directories and 446 images in 'data/gcdb/Query/LETT_CAP_NORM.SIGMA'.\n",
            "There are 0 directories and 449 images in 'data/gcdb/Query/LETT_SML_SUFF.PSI'.\n",
            "There are 0 directories and 451 images in 'data/gcdb/Query/LETT_CAP_SUFF.ZETA'.\n",
            "There are 0 directories and 456 images in 'data/gcdb/Query/LETT_SML_SUFF.THETA'.\n",
            "There are 0 directories and 442 images in 'data/gcdb/Query/LETT_SML_NORM.SIGMA'.\n",
            "There are 0 directories and 448 images in 'data/gcdb/Query/LETT_CAP_SUFF.PSI'.\n",
            "There are 0 directories and 445 images in 'data/gcdb/Query/LETT_SML_SUFF.XI'.\n",
            "There are 0 directories and 409 images in 'data/gcdb/Query/LETT_CAP_SUFF.KSI'.\n",
            "There are 0 directories and 445 images in 'data/gcdb/Query/LETT_SML_SUFF.TAU'.\n",
            "There are 0 directories and 456 images in 'data/gcdb/Query/LETT_CAP_NORM.THETA'.\n",
            "There are 0 directories and 454 images in 'data/gcdb/Query/LETT_SML_SUFF.BETA'.\n",
            "There are 0 directories and 422 images in 'data/gcdb/Query/LETT_SML_SUFF.NI'.\n",
            "There are 0 directories and 428 images in 'data/gcdb/Query/LETT_CAP_SUFF.IOTA'.\n",
            "There are 0 directories and 442 images in 'data/gcdb/Query/LETT_CAP_SUFF.GAMMA'.\n",
            "There are 0 directories and 443 images in 'data/gcdb/Query/LETT_CAP_SUFF.SIGMA'.\n",
            "There are 0 directories and 442 images in 'data/gcdb/Query/LETT_CAP_NORM.GAMMA'.\n",
            "There are 0 directories and 450 images in 'data/gcdb/Query/LETT_CAP_NORM.EPSILON'.\n",
            "There are 0 directories and 447 images in 'data/gcdb/Query/LETT_SML_NORM.PII'.\n",
            "There are 0 directories and 451 images in 'data/gcdb/Query/LETT_CAP_SUFF.NI'.\n",
            "There are 0 directories and 429 images in 'data/gcdb/Query/LETT_SML_NORM.YPSILON'.\n",
            "There are 0 directories and 457 images in 'data/gcdb/Query/LETT_SML_NORM.THETA'.\n",
            "There are 0 directories and 456 images in 'data/gcdb/Query/LETT_SML_NORM.KSI'.\n",
            "There are 0 directories and 432 images in 'data/gcdb/Query/LETT_CAP_SUFF.TAU'.\n",
            "There are 0 directories and 453 images in 'data/gcdb/Query/LETT_SML_SUFF.PII'.\n",
            "There are 0 directories and 451 images in 'data/gcdb/Query/LETT_CAP_SUFF.EPSILON'.\n",
            "There are 0 directories and 458 images in 'data/gcdb/Query/LETT_CAP_NORM.MI'.\n",
            "There are 0 directories and 458 images in 'data/gcdb/Query/LETT_CAP_SUFF.PII'.\n",
            "There are 0 directories and 444 images in 'data/gcdb/Query/LETT_CAP_NORM.IOTA'.\n",
            "There are 0 directories and 446 images in 'data/gcdb/Query/LETT_SML_NORM.HETA'.\n",
            "There are 0 directories and 454 images in 'data/gcdb/Query/LETT_CAP_NORM.PII'.\n",
            "There are 0 directories and 404 images in 'data/gcdb/Query/LETT_SML_SUFF.IOTA'.\n",
            "There are 0 directories and 456 images in 'data/gcdb/Query/LETT_CAP_NORM.HETA'.\n",
            "There are 0 directories and 441 images in 'data/gcdb/Query/LETT_CAP_NORM.YPSILON'.\n",
            "There are 0 directories and 453 images in 'data/gcdb/Query/LETT_CAP_SUFF.THETA'.\n",
            "There are 0 directories and 419 images in 'data/gcdb/Query/LETT_SML_NORM.OMIKRON'.\n",
            "There are 0 directories and 455 images in 'data/gcdb/Query/LETT_SML_SUFF.RO'.\n",
            "There are 0 directories and 453 images in 'data/gcdb/Query/LETT_CAP_NORM.NI'.\n",
            "There are 0 directories and 447 images in 'data/gcdb/Query/LETT_CAP_SUFF.MI'.\n",
            "There are 0 directories and 451 images in 'data/gcdb/Query/LETT_CAP_SUFF.RO'.\n",
            "There are 0 directories and 453 images in 'data/gcdb/Query/LETT_SML_NORM.DELTA'.\n",
            "There are 0 directories and 442 images in 'data/gcdb/Query/LETT_SML_NORM.OMEGA'.\n",
            "There are 0 directories and 456 images in 'data/gcdb/Query/LETT_CAP_NORM.BETA'.\n",
            "There are 0 directories and 451 images in 'data/gcdb/Query/LETT_CAP_NORM.PSI'.\n",
            "There are 0 directories and 455 images in 'data/gcdb/Query/LETT_SML_SUFF.GAMMA'.\n",
            "There are 0 directories and 446 images in 'data/gcdb/Query/LETT_SML_SUFF.OMEGA'.\n",
            "There are 0 directories and 457 images in 'data/gcdb/Query/LETT_SML_SUFF.KSI'.\n",
            "There are 0 directories and 451 images in 'data/gcdb/Query/LETT_SML_NORM.FI'.\n",
            "There are 0 directories and 453 images in 'data/gcdb/Query/LETT_SML_NORM.BETA'.\n",
            "There are 0 directories and 456 images in 'data/gcdb/Query/LETT_CAP_NORM.ZETA'.\n",
            "There are 0 directories and 451 images in 'data/gcdb/Query/LETT_SML_NORM.PSI'.\n",
            "There are 0 directories and 454 images in 'data/gcdb/Query/LETT_CAP_NORM.FI'.\n",
            "There are 0 directories and 436 images in 'data/gcdb/Query/LETT_SML_NORM.EPSILON'.\n",
            "There are 0 directories and 457 images in 'data/gcdb/Query/LETT_CAP_NORM.ALPHA'.\n",
            "There are 0 directories and 451 images in 'data/gcdb/Query/LETT_SML_SUFF.EPSILON'.\n",
            "There are 0 directories and 456 images in 'data/gcdb/Query/LETT_SML_SUFF.LAMDA'.\n",
            "There are 0 directories and 443 images in 'data/gcdb/Query/LETT_SML_SUFF.MI'.\n",
            "There are 0 directories and 456 images in 'data/gcdb/Query/LETT_SML_SUFF.FI'.\n",
            "There are 0 directories and 448 images in 'data/gcdb/Query/LETT_SML_NORM.ALPHA'.\n",
            "There are 0 directories and 446 images in 'data/gcdb/Query/LETT_CAP_NORM.TAU'.\n",
            "There are 0 directories and 448 images in 'data/gcdb/Query/LETT_SML_SUFF.KAPA'.\n",
            "There are 0 directories and 453 images in 'data/gcdb/Query/LETT_SML_SUFF.SIGMA'.\n",
            "There are 0 directories and 450 images in 'data/gcdb/Query/LETT_SML_SUFF.OMIKRON'.\n",
            "There are 0 directories and 460 images in 'data/gcdb/Query/LETT_CAP_SUFF.DELTA'.\n",
            "There are 0 directories and 451 images in 'data/gcdb/Query/LETT_SML_NORM.GAMMA'.\n",
            "There are 0 directories and 455 images in 'data/gcdb/Query/LETT_CAP_NORM.LAMDA'.\n",
            "There are 0 directories and 430 images in 'data/gcdb/Query/LETT_SML_NORM.TAU'.\n",
            "There are 0 directories and 445 images in 'data/gcdb/Query/LETT_CAP_NORM.KAPA'.\n",
            "There are 0 directories and 450 images in 'data/gcdb/Query/LETT_CAP_NORM.XI'.\n",
            "There are 0 directories and 452 images in 'data/gcdb/Query/LETT_CAP_SUFF.OMIKRON'.\n",
            "There are 0 directories and 453 images in 'data/gcdb/Query/LETT_CAP_SUFF.BETA'.\n"
          ]
        }
      ]
    },
    {
      "cell_type": "markdown",
      "source": [
        "It looks like we have 96 directories (4 directories * 24 letters) with each containing roughly 430 images."
      ],
      "metadata": {
        "id": "bWhTUcrJwFL3"
      }
    },
    {
      "cell_type": "markdown",
      "source": [
        "Now let's combine the data for each letter.\n"
      ],
      "metadata": {
        "id": "u-7CO2GBwv4V"
      }
    },
    {
      "cell_type": "code",
      "source": [
        "source_dir = \"data/gcdb/Query\"\n",
        "for root, dirs, files in os.walk(source_dir):\n",
        "    for dir_name in dirs:\n",
        "        letter = dir_name.split(\".\")[1]\n",
        "        case = dir_name.split('_')[1]\n",
        "        print(f'{case}.{letter}')"
      ],
      "metadata": {
        "id": "FDSbRSItpEuW",
        "colab": {
          "base_uri": "https://localhost:8080/"
        },
        "outputId": "0a5b5164-401d-46f6-a582-85120f66a03a"
      },
      "execution_count": 7,
      "outputs": [
        {
          "output_type": "stream",
          "name": "stdout",
          "text": [
            "SML.YPSILON\n",
            "SML.DELTA\n",
            "CAP.RO\n",
            "CAP.DELTA\n",
            "CAP.YPSILON\n",
            "SML.ZETA\n",
            "SML.RO\n",
            "SML.NI\n",
            "CAP.KSI\n",
            "CAP.FI\n",
            "SML.ZETA\n",
            "CAP.OMEGA\n",
            "CAP.XI\n",
            "CAP.LAMDA\n",
            "SML.MI\n",
            "SML.LAMDA\n",
            "SML.HETA\n",
            "CAP.OMEGA\n",
            "CAP.KAPA\n",
            "SML.IOTA\n",
            "SML.XI\n",
            "SML.ALPHA\n",
            "CAP.OMIKRON\n",
            "CAP.HETA\n",
            "SML.KAPA\n",
            "CAP.ALPHA\n",
            "CAP.SIGMA\n",
            "SML.PSI\n",
            "CAP.ZETA\n",
            "SML.THETA\n",
            "SML.SIGMA\n",
            "CAP.PSI\n",
            "SML.XI\n",
            "CAP.KSI\n",
            "SML.TAU\n",
            "CAP.THETA\n",
            "SML.BETA\n",
            "SML.NI\n",
            "CAP.IOTA\n",
            "CAP.GAMMA\n",
            "CAP.SIGMA\n",
            "CAP.GAMMA\n",
            "CAP.EPSILON\n",
            "SML.PII\n",
            "CAP.NI\n",
            "SML.YPSILON\n",
            "SML.THETA\n",
            "SML.KSI\n",
            "CAP.TAU\n",
            "SML.PII\n",
            "CAP.EPSILON\n",
            "CAP.MI\n",
            "CAP.PII\n",
            "CAP.IOTA\n",
            "SML.HETA\n",
            "CAP.PII\n",
            "SML.IOTA\n",
            "CAP.HETA\n",
            "CAP.YPSILON\n",
            "CAP.THETA\n",
            "SML.OMIKRON\n",
            "SML.RO\n",
            "CAP.NI\n",
            "CAP.MI\n",
            "CAP.RO\n",
            "SML.DELTA\n",
            "SML.OMEGA\n",
            "CAP.BETA\n",
            "CAP.PSI\n",
            "SML.GAMMA\n",
            "SML.OMEGA\n",
            "SML.KSI\n",
            "SML.FI\n",
            "SML.BETA\n",
            "CAP.ZETA\n",
            "SML.PSI\n",
            "CAP.FI\n",
            "SML.EPSILON\n",
            "CAP.ALPHA\n",
            "SML.EPSILON\n",
            "SML.LAMDA\n",
            "SML.MI\n",
            "SML.FI\n",
            "SML.ALPHA\n",
            "CAP.TAU\n",
            "SML.KAPA\n",
            "SML.SIGMA\n",
            "SML.OMIKRON\n",
            "CAP.DELTA\n",
            "SML.GAMMA\n",
            "CAP.LAMDA\n",
            "SML.TAU\n",
            "CAP.KAPA\n",
            "CAP.XI\n",
            "CAP.OMIKRON\n",
            "CAP.BETA\n"
          ]
        }
      ]
    },
    {
      "cell_type": "code",
      "source": [
        "gcdb_path_full = gcdb_path / 'Query'\n",
        "gcdb_path_full"
      ],
      "metadata": {
        "colab": {
          "base_uri": "https://localhost:8080/"
        },
        "id": "JKVsYmuDta6R",
        "outputId": "4d70e346-c316-498b-c1d5-2e2459041645"
      },
      "execution_count": 8,
      "outputs": [
        {
          "output_type": "execute_result",
          "data": {
            "text/plain": [
              "PosixPath('data/gcdb/Query')"
            ]
          },
          "metadata": {},
          "execution_count": 8
        }
      ]
    },
    {
      "cell_type": "markdown",
      "source": [
        "Creating the train test directories"
      ],
      "metadata": {
        "id": "QVh7RYeC2Qxy"
      }
    },
    {
      "cell_type": "code",
      "source": [
        "# Setup train and testing paths\n",
        "train_dir = gcdb_path / \"train\"\n",
        "test_dir =  gcdb_path / \"test\"\n",
        "\n",
        "train_dir, test_dir\n",
        "\n",
        "train_dir.mkdir(parents=True, exist_ok=True)\n",
        "test_dir.mkdir(parents=True, exist_ok=True)"
      ],
      "metadata": {
        "id": "8xplysHe1gFl"
      },
      "execution_count": 9,
      "outputs": []
    },
    {
      "cell_type": "code",
      "source": [
        "image_path_list = list(gcdb_path.glob(\"*/*/*.bmp\"))\n",
        "len(image_path_list)"
      ],
      "metadata": {
        "colab": {
          "base_uri": "https://localhost:8080/"
        },
        "id": "23cAokTST8ON",
        "outputId": "3f21875f-e59d-4cff-cc2b-42c22a9c571f"
      },
      "execution_count": 10,
      "outputs": [
        {
          "output_type": "execute_result",
          "data": {
            "text/plain": [
              "42931"
            ]
          },
          "metadata": {},
          "execution_count": 10
        }
      ]
    },
    {
      "cell_type": "code",
      "source": [
        "import cv2\n",
        "import numpy as np\n",
        "\n",
        "image_path_list = list(gcdb_path.glob(\"*/*/*.bmp\"))\n",
        "num_samples = len(image_path_list)  # Number of samples in your dataset\n",
        "\n",
        "mean = np.zeros(3)\n",
        "std = np.zeros(3)\n",
        "\n",
        "for image_path in image_path_list[:1]:\n",
        "    # Load the image using OpenCV\n",
        "    image = cv2.imread(str(image_path))\n",
        "    image = cv2.cvtColor(image, cv2.COLOR_BGR2RGB)  # Convert BGR to RGB\n",
        "    print(image.shape)\n",
        "\n",
        "    # Compute mean and std for each channel\n",
        "    mean += np.mean(image, axis=(0, 1))  # Compute mean across height, width, and channels\n",
        "    std += np.std(image, axis=(0, 1))  # Compute std across height, width, and channels\n",
        "\n",
        "mean /= num_samples  # Compute mean over all samples\n",
        "std /= num_samples  # Compute std over all samples\n",
        "\n",
        "print(\"Mean:\", mean)\n",
        "print(\"Std:\", std)\n"
      ],
      "metadata": {
        "colab": {
          "base_uri": "https://localhost:8080/"
        },
        "id": "eekGA9HlUB3d",
        "outputId": "46540b05-b00d-4be2-aa32-78f99a76e322"
      },
      "execution_count": 11,
      "outputs": [
        {
          "output_type": "stream",
          "name": "stdout",
          "text": [
            "(48, 41, 3)\n",
            "Mean: [0.00556249 0.00556249 0.00556249]\n",
            "Std: [0.00144864 0.00144864 0.00144864]\n"
          ]
        }
      ]
    },
    {
      "cell_type": "code",
      "source": [
        "str(image_path_list[1])\n"
      ],
      "metadata": {
        "colab": {
          "base_uri": "https://localhost:8080/",
          "height": 35
        },
        "id": "LlXCJetKWgKq",
        "outputId": "33344034-d3b9-4d1e-be68-81fab2e3456a"
      },
      "execution_count": 12,
      "outputs": [
        {
          "output_type": "execute_result",
          "data": {
            "text/plain": [
              "'data/gcdb/Query/LETT_SML_SUFF.YPSILON/form_154.bmp'"
            ],
            "application/vnd.google.colaboratory.intrinsic+json": {
              "type": "string"
            }
          },
          "metadata": {},
          "execution_count": 12
        }
      ]
    },
    {
      "cell_type": "code",
      "source": [
        "import cv2\n",
        "import matplotlib.pyplot as plt\n",
        "\n",
        "# Load the image\n",
        "image_path = str(image_path_list[256])  # Replace with the path to your image\n",
        "image = cv2.imread(image_path)\n",
        "image = cv2.cvtColor(image, cv2.COLOR_BGR2RGB)  # Convert BGR to RGB\n",
        "\n",
        "# Flatten the image to a 1D array\n",
        "pixel_values = image.flatten()\n",
        "\n",
        "# Plot the histogram\n",
        "plt.figure(figsize=(10, 6))\n",
        "plt.hist(pixel_values, bins=256, color='gray', alpha=0.8)\n",
        "plt.title('Pixel Value Histogram')\n",
        "plt.xlabel('Pixel Value')\n",
        "plt.ylabel('Frequency')\n",
        "plt.grid(True)\n",
        "plt.show()\n"
      ],
      "metadata": {
        "colab": {
          "base_uri": "https://localhost:8080/",
          "height": 564
        },
        "id": "D8B2Akq_WKrk",
        "outputId": "920d58c0-cc77-4422-d16f-55ed69a4e503"
      },
      "execution_count": 13,
      "outputs": [
        {
          "output_type": "display_data",
          "data": {
            "text/plain": [
              "<Figure size 1000x600 with 1 Axes>"
            ],
            "image/png": "[encoded data removed]"
          },
          "metadata": {}
        }
      ]
    },
    {
      "cell_type": "code",
      "source": [
        "import torch\n",
        "import torchvision.transforms as transforms\n",
        "from PIL import Image\n",
        "\n",
        "# Load the image using PIL (Python Imaging Library)\n",
        "image = Image.open(str(image_path_list[256]))\n",
        "\n",
        "# Define image transformations (e.g., resize, convert to tensor)\n",
        "preprocess = transforms.Compose([\n",
        "    transforms.Resize((128, 128)),  # Resize the image to desired dimensions\n",
        "    transforms.ToTensor(),               # Convert the image to a PyTorch tensor\n",
        "])\n",
        "\n",
        "# Apply the transformations to the image\n",
        "input_image = preprocess(image)\n",
        "\n",
        "# Assuming input_image is your tensor with shape (1, 128, 128)\n",
        "input_image = input_image.unsqueeze(0)  # Add a batch dimension\n",
        "# input_image = input_image.unsqueeze(0)  # Add a channel dimension\n",
        "\n",
        "# Check the shape of the input image tensor after adding the channel dimension\n",
        "print(\"Input image shape:\", input_image.shape)\n",
        "\n",
        "# Check the shape of the input image tensor\n",
        "print(\"Input image shape:\", input_image.shape)\n"
      ],
      "metadata": {
        "colab": {
          "base_uri": "https://localhost:8080/"
        },
        "id": "bQq2ZyuUXSIi",
        "outputId": "ee29ae5c-d677-4371-f4c8-f6bfd10c38a3"
      },
      "execution_count": 14,
      "outputs": [
        {
          "output_type": "stream",
          "name": "stdout",
          "text": [
            "Input image shape: torch.Size([1, 1, 128, 128])\n",
            "Input image shape: torch.Size([1, 1, 128, 128])\n"
          ]
        }
      ]
    },
    {
      "cell_type": "code",
      "source": [
        "import os\n",
        "import shutil\n",
        "import random\n",
        "\n",
        "# Define source and target directories\n",
        "source_dir = \"data/gcdb/Query\"\n",
        "train_dir = \"data/gcdb/train\"\n",
        "test_dir = \"data/gcdb/test\"\n",
        "\n",
        "train_percentage = 0.8\n",
        "\n",
        "for root, dirs, files in os.walk(source_dir):\n",
        "  print(dirs)\n",
        "  for dir in dirs:\n",
        "    # print(f\"\\nAccessing directory: {dir}\")\n",
        "\n",
        "    target_train_dir = os.path.join(train_dir,dir)\n",
        "    os.makedirs(target_train_dir, exist_ok=True)\n",
        "    target_test_dir = os.path.join(test_dir,dir)\n",
        "    os.makedirs(target_test_dir,exist_ok=True)\n",
        "\n",
        "    image_files = [f for f in os.listdir(os.path.join(source_dir,dir))]\n",
        "    # print(f'Number of images before moving to train file: {len(image_files)}')\n",
        "\n",
        "    num_train_images = int(len(image_files) * train_percentage)\n",
        "    # print(f'Moving {num_train_images} to train file')\n",
        "\n",
        "    train_images = random.sample(image_files, num_train_images)\n",
        "    # print(num_train_images)\n",
        "    for img in train_images:\n",
        "      img_path = os.path.join(source_dir,dir,img)\n",
        "      img_train_path = os.path.join(train_dir,dir,img)\n",
        "      # print(img_path)\n",
        "      # print(os.path.join(train_dir,dir,img))\n",
        "      shutil.move(img_path, img_train_path)\n",
        "    image_files_after = [f for f in os.listdir(os.path.join(source_dir,dir))]\n",
        "    # print(f'Number of images after moving to train file: {len(image_files_after)}')\n",
        "    for img in image_files_after:\n",
        "      img_path = os.path.join(source_dir,dir,img)\n",
        "      img_test_path = os.path.join(test_dir,dir,img)\n",
        "      # print(img_path)\n",
        "      # print(os.path.join(train_dir,dir,img))\n",
        "      shutil.move(img_path, img_test_path)\n",
        "    # print(f'Number of images after the split: {len([f for f in os.listdir(os.path.join(source_dir,dir))])}')\n"
      ],
      "metadata": {
        "id": "-i_Wdktf81B2"
      },
      "execution_count": null,
      "outputs": []
    },
    {
      "cell_type": "markdown",
      "source": [
        "### 2.2 Visualizing a random image"
      ],
      "metadata": {
        "id": "-FvvQTprtItY"
      }
    },
    {
      "cell_type": "code",
      "source": [
        "import random\n",
        "from PIL import Image\n",
        "import numpy as np\n",
        "import matplotlib.pyplot as plt\n",
        "\n",
        "\n",
        "# random.seed(42)\n",
        "\n",
        "image_path_list = list(gcdb_path.glob(\"*/*/*.bmp\"))\n",
        "# len(image_path_list)\n",
        "# print(image_path_list[:10])\n",
        "\n",
        "random_image_path = random.choice(image_path_list)\n",
        "# print(str(random_image_path))\n",
        "# print(str(random_image_path).split('_')[1])\n",
        "# print(str(random_image_path).split('.')[1].split(('/'))[0])\n",
        "\n",
        "image_label = f'{str(random_image_path).split(\"_\")[1]} {str(random_image_path).split(\".\")[1].split(\"/\")[0]}'\n",
        "print(image_label)\n",
        "\n",
        "img = Image.open(random_image_path)\n",
        "\n",
        "# print(f\"Random image path: {random_image_path}\")\n",
        "# print(f\"Image class: {image_label}\")\n",
        "# print(f\"Image height: {img.height}\")\n",
        "# print(f\"Image width: {img.width}\")\n",
        "# img\n",
        "\n",
        "img_as_array = np.asarray(img)\n",
        "\n",
        "# Plot the image with matplotlib\n",
        "plt.figure(figsize=(10, 7))\n",
        "plt.imshow(img_as_array)\n",
        "plt.title(f\"Image class: {image_label} | Image shape: {img_as_array.shape} -> [height, width, color_channels]\")\n",
        "plt.axis(False);\n",
        "# print(str(random_image_path).split('_')[1] + str(random_image_path).split('.')[0] )"
      ],
      "metadata": {
        "colab": {
          "base_uri": "https://localhost:8080/",
          "height": 615
        },
        "id": "0fNLuK2ds0-8",
        "outputId": "b402abe1-2226-40e7-b22b-d57b300861db"
      },
      "execution_count": 132,
      "outputs": [
        {
          "output_type": "stream",
          "name": "stdout",
          "text": [
            "SML KSI\n"
          ]
        },
        {
          "output_type": "display_data",
          "data": {
            "text/plain": [
              "<Figure size 1000x700 with 1 Axes>"
            ],
            "image/png": "[encoded data removed]"
          },
          "metadata": {}
        }
      ]
    },
    {
      "cell_type": "code",
      "source": [
        "import os\n",
        "import shutil\n",
        "import random\n",
        "\n",
        "# Define source and target directories\n",
        "source_dir = \"data/gcdb/Query\"\n",
        "train_dir = \"data/gcdb/train\"\n",
        "test_dir = \"data/gcdb/test\"\n",
        "\n",
        "train_percentage = 0.8\n",
        "\n",
        "for root, dirs, files in os.walk(source_dir):\n",
        "  print(dirs)\n",
        "  for dir in dirs:\n",
        "    print(f\"\\nAccessing directory: {dir}\")\n",
        "\n",
        "    target_train_dir = os.path.join(train_dir,dir)\n",
        "    os.makedirs(target_train_dir, exist_ok=True)\n",
        "    target_test_dir = os.path.join(test_dir,dir)\n",
        "    os.makedirs(target_test_dir,exist_ok=True)\n",
        "\n",
        "    image_files = [f for f in os.listdir(os.path.join(source_dir,dir))]\n",
        "    # print(f'Number of images before moving to train file: {len(image_files)}')\n",
        "\n",
        "    num_train_images = int(len(image_files) * train_percentage)\n",
        "    # print(f'Moving {num_train_images} to train file')\n",
        "\n",
        "    train_images = random.sample(image_files, num_train_images)\n",
        "    # print(num_train_images)\n",
        "    for img in train_images:\n",
        "      img_path = os.path.join(source_dir,dir,img)\n",
        "      img_train_path = os.path.join(train_dir,dir,img)\n",
        "      # print(img_path)\n",
        "      # print(os.path.join(train_dir,dir,img))\n",
        "      shutil.move(img_path, img_train_path)\n",
        "    image_files_after = [f for f in os.listdir(os.path.join(source_dir,dir))]\n",
        "    # print(f'Number of images after moving to train file: {len(image_files_after)}')\n",
        "    for img in image_files_after:\n",
        "      img_path = os.path.join(source_dir,dir,img)\n",
        "      img_test_path = os.path.join(test_dir,dir,img)\n",
        "      # print(img_path)\n",
        "      # print(os.path.join(train_dir,dir,img))\n",
        "      shutil.move(img_path, img_test_path)\n",
        "    # print(f'Number of images after the split: {len([f for f in os.listdir(os.path.join(source_dir,dir))])}')"
      ],
      "metadata": {
        "id": "cEgqt3bl1Dsa"
      },
      "execution_count": null,
      "outputs": []
    },
    {
      "cell_type": "markdown",
      "source": [
        "## 3. Transforming data\n",
        "\n",
        "1. Turn the images into tensors.\n",
        "2. Turn them into a `Dataset` and then into a `DataLoader`"
      ],
      "metadata": {
        "id": "hQT8TQKZy39d"
      }
    },
    {
      "cell_type": "code",
      "source": [
        "# Write transform for image\n",
        "data_transform = transforms.Compose([\n",
        "    # Resize the images to 64x64\n",
        "    transforms.Resize(size=(64, 64)),\n",
        "    transforms.TrivialAugmentWide(num_magnitude_bins=31),\n",
        "    # transforms.Grayscale(),\n",
        "    # Flip the images randomly on the horizontal\n",
        "    # transforms.RandomHorizontalFlip(p=0.3), # p = probability of flip, 0.5 = 50% chance\n",
        "    # Turn the image into a torch.Tensor\n",
        "    transforms.ToTensor(), # this also converts all pixel values from 0 to 255 to be between 0.0 and 1.0\n",
        "    # transforms.Normalize(mean,std)\n",
        "])"
      ],
      "metadata": {
        "id": "ZWkE-ZLPz575"
      },
      "execution_count": 133,
      "outputs": []
    },
    {
      "cell_type": "markdown",
      "source": [
        "### 3.1 Creating DataLoaders.\n",
        "\n",
        "First we need to create the ImageFolders."
      ],
      "metadata": {
        "id": "oWtUdlAO02ex"
      }
    },
    {
      "cell_type": "code",
      "source": [
        "# Use ImageFolder to create dataset(s)\n",
        "from torchvision import datasets\n",
        "train_data = datasets.ImageFolder(root=train_dir, # target folder of images\n",
        "                                  transform=data_transform, # transforms to perform on data (images)\n",
        "                                  target_transform=None) # transforms to perform on labels (if necessary)\n",
        "\n",
        "test_data = datasets.ImageFolder(root=test_dir,\n",
        "                                 transform=data_transform)\n",
        "\n",
        "print(f\"Train data:\\n{train_data}\\nTest data:\\n{test_data}\")"
      ],
      "metadata": {
        "colab": {
          "base_uri": "https://localhost:8080/"
        },
        "id": "EZm3_WJU1WF9",
        "outputId": "11e2ff76-48f3-4f62-e5cc-7e5c70e02939"
      },
      "execution_count": 134,
      "outputs": [
        {
          "output_type": "stream",
          "name": "stdout",
          "text": [
            "Train data:\n",
            "Dataset ImageFolder\n",
            "    Number of datapoints: 34301\n",
            "    Root location: data/gcdb/train\n",
            "    StandardTransform\n",
            "Transform: Compose(\n",
            "               Resize(size=(64, 64), interpolation=bilinear, max_size=None, antialias=warn)\n",
            "               TrivialAugmentWide(num_magnitude_bins=31, interpolation=InterpolationMode.NEAREST, fill=None)\n",
            "               ToTensor()\n",
            "           )\n",
            "Test data:\n",
            "Dataset ImageFolder\n",
            "    Number of datapoints: 8630\n",
            "    Root location: data/gcdb/test\n",
            "    StandardTransform\n",
            "Transform: Compose(\n",
            "               Resize(size=(64, 64), interpolation=bilinear, max_size=None, antialias=warn)\n",
            "               TrivialAugmentWide(num_magnitude_bins=31, interpolation=InterpolationMode.NEAREST, fill=None)\n",
            "               ToTensor()\n",
            "           )\n"
          ]
        }
      ]
    },
    {
      "cell_type": "code",
      "source": [
        "# Get class names as a list\n",
        "class_names = train_data.classes\n",
        "# class_names"
      ],
      "metadata": {
        "id": "EPo4b3B11Dqh"
      },
      "execution_count": 135,
      "outputs": []
    },
    {
      "cell_type": "code",
      "source": [
        "# Can also get class names as a dict\n",
        "class_dict = train_data.class_to_idx\n",
        "# class_dict"
      ],
      "metadata": {
        "id": "t8Xo62wk1Doe"
      },
      "execution_count": 136,
      "outputs": []
    },
    {
      "cell_type": "code",
      "source": [
        "# Check the lengths\n",
        "len(train_data), len(test_data)"
      ],
      "metadata": {
        "colab": {
          "base_uri": "https://localhost:8080/"
        },
        "id": "2_ooO06X1Dmv",
        "outputId": "9d927e0a-b3e9-4706-f1f5-da616872f335"
      },
      "execution_count": 137,
      "outputs": [
        {
          "output_type": "execute_result",
          "data": {
            "text/plain": [
              "(34301, 8630)"
            ]
          },
          "metadata": {},
          "execution_count": 137
        }
      ]
    },
    {
      "cell_type": "code",
      "source": [
        "# train_data[15][0]\n",
        "len(train_data[0][0])"
      ],
      "metadata": {
        "colab": {
          "base_uri": "https://localhost:8080/"
        },
        "id": "Ccp681PXWooT",
        "outputId": "ce474067-1b96-418e-9306-192db024a522"
      },
      "execution_count": 138,
      "outputs": [
        {
          "output_type": "execute_result",
          "data": {
            "text/plain": [
              "3"
            ]
          },
          "metadata": {},
          "execution_count": 138
        }
      ]
    },
    {
      "cell_type": "code",
      "source": [
        "mean,std"
      ],
      "metadata": {
        "colab": {
          "base_uri": "https://localhost:8080/"
        },
        "id": "2OP2BEBkqyXw",
        "outputId": "3ad2dd6f-cbea-4023-9608-45c7e221572e"
      },
      "execution_count": 139,
      "outputs": [
        {
          "output_type": "execute_result",
          "data": {
            "text/plain": [
              "(array([0.00556249, 0.00556249, 0.00556249]),\n",
              " array([0.00144864, 0.00144864, 0.00144864]))"
            ]
          },
          "metadata": {},
          "execution_count": 139
        }
      ]
    },
    {
      "cell_type": "code",
      "source": [
        "img, label = train_data[0][0], train_data[0][1]\n",
        "print(f\"Image tensor:\\n{img}\")\n",
        "print(f\"Image shape: {img.shape}\")\n",
        "print(f\"Image datatype: {img.dtype}\")\n",
        "print(f\"Image label: {label}\")\n",
        "print(f\"Label datatype: {type(label)}\")"
      ],
      "metadata": {
        "colab": {
          "base_uri": "https://localhost:8080/"
        },
        "id": "nC2f5D8b1Dkq",
        "outputId": "76ec6f9c-c423-4db1-989e-ae531a275b01"
      },
      "execution_count": 141,
      "outputs": [
        {
          "output_type": "stream",
          "name": "stdout",
          "text": [
            "Image tensor:\n",
            "tensor([[[1., 1., 1.,  ..., 1., 1., 1.],\n",
            "         [1., 1., 1.,  ..., 1., 1., 1.],\n",
            "         [1., 1., 1.,  ..., 1., 1., 1.],\n",
            "         ...,\n",
            "         [1., 1., 1.,  ..., 1., 1., 1.],\n",
            "         [1., 1., 1.,  ..., 1., 1., 1.],\n",
            "         [1., 1., 1.,  ..., 1., 1., 1.]],\n",
            "\n",
            "        [[1., 1., 1.,  ..., 1., 1., 1.],\n",
            "         [1., 1., 1.,  ..., 1., 1., 1.],\n",
            "         [1., 1., 1.,  ..., 1., 1., 1.],\n",
            "         ...,\n",
            "         [1., 1., 1.,  ..., 1., 1., 1.],\n",
            "         [1., 1., 1.,  ..., 1., 1., 1.],\n",
            "         [1., 1., 1.,  ..., 1., 1., 1.]],\n",
            "\n",
            "        [[1., 1., 1.,  ..., 1., 1., 1.],\n",
            "         [1., 1., 1.,  ..., 1., 1., 1.],\n",
            "         [1., 1., 1.,  ..., 1., 1., 1.],\n",
            "         ...,\n",
            "         [1., 1., 1.,  ..., 1., 1., 1.],\n",
            "         [1., 1., 1.,  ..., 1., 1., 1.],\n",
            "         [1., 1., 1.,  ..., 1., 1., 1.]]])\n",
            "Image shape: torch.Size([3, 64, 64])\n",
            "Image datatype: torch.float32\n",
            "Image label: 0\n",
            "Label datatype: <class 'int'>\n"
          ]
        }
      ]
    },
    {
      "cell_type": "code",
      "source": [
        "# Rearrange the order of dimensions\n",
        "img_permute = img.permute(1, 2, 0)\n",
        "\n",
        "# Print out different shapes (before and after permute)\n",
        "print(f\"Original shape: {img.shape} -> [color_channels, height, width]\")\n",
        "print(f\"Image permute shape: {img_permute.shape} -> [height, width, color_channels]\")\n",
        "\n",
        "# Plot the image\n",
        "plt.figure(figsize=(10, 7))\n",
        "plt.imshow(img.permute(1, 2, 0))\n",
        "plt.axis(\"off\")\n",
        "plt.title(class_names[label], fontsize=14);"
      ],
      "metadata": {
        "colab": {
          "base_uri": "https://localhost:8080/",
          "height": 633
        },
        "id": "q5JGPysx1Din",
        "outputId": "7f423848-cdf5-490e-d59e-1ef5537cf7f6"
      },
      "execution_count": 142,
      "outputs": [
        {
          "output_type": "stream",
          "name": "stdout",
          "text": [
            "Original shape: torch.Size([3, 64, 64]) -> [color_channels, height, width]\n",
            "Image permute shape: torch.Size([64, 64, 3]) -> [height, width, color_channels]\n"
          ]
        },
        {
          "output_type": "display_data",
          "data": {
            "text/plain": [
              "<Figure size 1000x700 with 1 Axes>"
            ],
            "image/png": "[encoded data removed]"
          },
          "metadata": {}
        }
      ]
    },
    {
      "cell_type": "markdown",
      "source": [
        "Then, the dataloaders"
      ],
      "metadata": {
        "id": "ZW_hOYrOPbTu"
      }
    },
    {
      "cell_type": "code",
      "source": [
        "# Turn train and test Datasets into DataLoaders\n",
        "from torch.utils.data import DataLoader\n",
        "train_dataloader = DataLoader(dataset=train_data,\n",
        "                              batch_size=32, # how many samples per batch?\n",
        "                              num_workers=os.cpu_count(), # how many subprocesses to use for data loading? (higher = more)\n",
        "                              shuffle=True) # shuffle the data?\n",
        "\n",
        "test_dataloader = DataLoader(dataset=test_data,\n",
        "                             batch_size=32,\n",
        "                             num_workers=os.cpu_count(),\n",
        "                             shuffle=False) # don't usually need to shuffle testing data\n",
        "\n",
        "train_dataloader, test_dataloader"
      ],
      "metadata": {
        "colab": {
          "base_uri": "https://localhost:8080/"
        },
        "id": "nIZx8A6k1C32",
        "outputId": "ff643070-1702-413b-cf3d-a740f297e54b"
      },
      "execution_count": 143,
      "outputs": [
        {
          "output_type": "execute_result",
          "data": {
            "text/plain": [
              "(<torch.utils.data.dataloader.DataLoader at 0x7ad2024c7700>,\n",
              " <torch.utils.data.dataloader.DataLoader at 0x7ad2024c4dc0>)"
            ]
          },
          "metadata": {},
          "execution_count": 143
        }
      ]
    },
    {
      "cell_type": "code",
      "source": [
        "img, label = next(iter(train_dataloader))\n",
        "\n",
        "# Batch size will now be 1, try changing the batch_size parameter above and see what happens\n",
        "print(f\"Image shape: {img.shape} -> [batch_size, color_channels, height, width]\")\n",
        "print(f\"Label shape: {label.shape}\")\n",
        "print(f\"Label {label}\")"
      ],
      "metadata": {
        "colab": {
          "base_uri": "https://localhost:8080/"
        },
        "id": "A8ZKYkHR1Dez",
        "outputId": "8fddba41-0796-40e5-d9bb-7018be95e563"
      },
      "execution_count": 144,
      "outputs": [
        {
          "output_type": "stream",
          "name": "stdout",
          "text": [
            "Image shape: torch.Size([32, 3, 64, 64]) -> [batch_size, color_channels, height, width]\n",
            "Label shape: torch.Size([32])\n",
            "Label tensor([26,  4, 79, 55, 33, 59, 41, 58,  1, 75, 22, 70, 53, 95,  1, 69, 53, 92,\n",
            "        41, 17, 93, 66, 93, 26, 28,  0, 17,  9, 20, 57, 40, 77])\n"
          ]
        }
      ]
    },
    {
      "cell_type": "code",
      "source": [
        "# 1. Take in a Dataset as well as a list of class names\n",
        "def display_random_images(dataset: torch.utils.data.dataset.Dataset,\n",
        "                          classes: List[str] = None,\n",
        "                          n: int = 10,\n",
        "                          display_shape: bool = True,\n",
        "                          seed: int = None):\n",
        "\n",
        "    # 2. Adjust display if n too high\n",
        "    if n > 10:\n",
        "        n = 10\n",
        "        display_shape = False\n",
        "        print(f\"For display purposes, n shouldn't be larger than 10, setting to 10 and removing shape display.\")\n",
        "\n",
        "    # 3. Set random seed\n",
        "    if seed:\n",
        "        random.seed(seed)\n",
        "\n",
        "    # 4. Get random sample indexes\n",
        "    random_samples_idx = random.sample(range(len(dataset)), k=n)\n",
        "\n",
        "    # 5. Setup plot\n",
        "    plt.figure(figsize=(16, 8))\n",
        "\n",
        "    # 6. Loop through samples and display random samples\n",
        "    for i, targ_sample in enumerate(random_samples_idx):\n",
        "        targ_image, targ_label = dataset[targ_sample][0], dataset[targ_sample][1]\n",
        "\n",
        "        # 7. Adjust image tensor shape for plotting: [color_channels, height, width] -> [color_channels, height, width]\n",
        "        targ_image_adjust = targ_image.permute(1, 2, 0)\n",
        "\n",
        "        # Plot adjusted samples\n",
        "        plt.subplot(1, n, i+1)\n",
        "        plt.imshow(targ_image_adjust)\n",
        "        plt.axis(\"off\")\n",
        "        if classes:\n",
        "            title = f\"class: {classes[targ_label]}\"\n",
        "            if display_shape:\n",
        "                title = title + f\"\\nshape: {targ_image_adjust.shape}\"\n",
        "        plt.title(title)"
      ],
      "metadata": {
        "id": "Movk4sDq1Dco"
      },
      "execution_count": 145,
      "outputs": []
    },
    {
      "cell_type": "code",
      "source": [
        "# Display random images from ImageFolder created Dataset\n",
        "display_random_images(train_data,\n",
        "                      n=3,\n",
        "                      classes=class_names,\n",
        "                      seed=None)"
      ],
      "metadata": {
        "colab": {
          "base_uri": "https://localhost:8080/",
          "height": 409
        },
        "id": "_7M34KGB1Das",
        "outputId": "04586d62-601e-4520-b8bc-1ebd5a161e1e"
      },
      "execution_count": 149,
      "outputs": [
        {
          "output_type": "display_data",
          "data": {
            "text/plain": [
              "<Figure size 1600x800 with 3 Axes>"
            ],
            "image/png": "[encoded data removed]"
          },
          "metadata": {}
        }
      ]
    },
    {
      "cell_type": "code",
      "source": [
        "len(train_dataloader), len(test_dataloader)\n",
        "# Check out what's inside the training dataloader\n",
        "train_features_batch, train_labels_batch = next(iter(train_dataloader))\n",
        "train_features_batch.shape, train_labels_batch.shape"
      ],
      "metadata": {
        "id": "-qbBrObmuOTC",
        "outputId": "a834605c-b657-4e62-c289-a8b941e9381a",
        "colab": {
          "base_uri": "https://localhost:8080/"
        }
      },
      "execution_count": 150,
      "outputs": [
        {
          "output_type": "execute_result",
          "data": {
            "text/plain": [
              "(torch.Size([32, 3, 64, 64]), torch.Size([32]))"
            ]
          },
          "metadata": {},
          "execution_count": 150
        }
      ]
    },
    {
      "cell_type": "markdown",
      "source": [
        "## 4. Time to build the model. We are going to build the TinyVGG CNN based model.\n",
        "https://poloclub.github.io/cnn-explainer/"
      ],
      "metadata": {
        "id": "FCT-Zl45Z-cL"
      }
    },
    {
      "cell_type": "code",
      "source": [
        "import torch.nn as nn\n",
        "\n",
        "class CNN(nn.Module):\n",
        "    def __init__(self, input_shape: int, hidden_units: int, output_shape: int):\n",
        "        super().__init__()\n",
        "        self.block_1 = nn.Sequential(\n",
        "            nn.Conv2d(in_channels=input_shape,\n",
        "                      out_channels=hidden_units,  # Corrected output channels\n",
        "                      kernel_size=3,\n",
        "                      stride=1,\n",
        "                      padding=1),\n",
        "            nn.ReLU(),\n",
        "            nn.Conv2d(in_channels=hidden_units,  # Use hidden_units as input channels\n",
        "                      out_channels=hidden_units,\n",
        "                      kernel_size=3,\n",
        "                      stride=1,\n",
        "                      padding=1),\n",
        "            nn.ReLU(),\n",
        "            nn.MaxPool2d(kernel_size=2,\n",
        "                         stride=2)\n",
        "        )\n",
        "        self.block_2 = nn.Sequential(\n",
        "            nn.Conv2d(hidden_units, hidden_units, 3, padding=1),\n",
        "            nn.ReLU(),\n",
        "            nn.Conv2d(hidden_units, hidden_units, 3, padding=1),\n",
        "            nn.ReLU(),\n",
        "            nn.MaxPool2d(2)\n",
        "        )\n",
        "        self.classifier = nn.Sequential(\n",
        "            nn.Flatten(),\n",
        "            nn.Linear(in_features=hidden_units *16*16,\n",
        "                      out_features=output_shape)\n",
        "        )\n",
        "\n",
        "    def forward(self, x: torch.Tensor):\n",
        "        x = self.block_1(x)\n",
        "        x = self.block_2(x)\n",
        "        x = self.classifier(x)\n",
        "        return x\n"
      ],
      "metadata": {
        "id": "IOHFOgjSZpKw"
      },
      "execution_count": 156,
      "outputs": []
    },
    {
      "cell_type": "code",
      "source": [
        "torch.manual_seed(42)\n",
        "model= CNN(input_shape=3,\n",
        "    hidden_units=10,\n",
        "    output_shape=len(class_names)).to(device)\n",
        "model"
      ],
      "metadata": {
        "colab": {
          "base_uri": "https://localhost:8080/"
        },
        "id": "WWxfk91Lbc0g",
        "outputId": "02dffb50-3abc-4a6a-97a2-cb678946a916"
      },
      "execution_count": 157,
      "outputs": [
        {
          "output_type": "execute_result",
          "data": {
            "text/plain": [
              "CNN(\n",
              "  (block_1): Sequential(\n",
              "    (0): Conv2d(3, 10, kernel_size=(3, 3), stride=(1, 1), padding=(1, 1))\n",
              "    (1): ReLU()\n",
              "    (2): Conv2d(10, 10, kernel_size=(3, 3), stride=(1, 1), padding=(1, 1))\n",
              "    (3): ReLU()\n",
              "    (4): MaxPool2d(kernel_size=2, stride=2, padding=0, dilation=1, ceil_mode=False)\n",
              "  )\n",
              "  (block_2): Sequential(\n",
              "    (0): Conv2d(10, 10, kernel_size=(3, 3), stride=(1, 1), padding=(1, 1))\n",
              "    (1): ReLU()\n",
              "    (2): Conv2d(10, 10, kernel_size=(3, 3), stride=(1, 1), padding=(1, 1))\n",
              "    (3): ReLU()\n",
              "    (4): MaxPool2d(kernel_size=2, stride=2, padding=0, dilation=1, ceil_mode=False)\n",
              "  )\n",
              "  (classifier): Sequential(\n",
              "    (0): Flatten(start_dim=1, end_dim=-1)\n",
              "    (1): Linear(in_features=2560, out_features=96, bias=True)\n",
              "  )\n",
              ")"
            ]
          },
          "metadata": {},
          "execution_count": 157
        }
      ]
    },
    {
      "cell_type": "markdown",
      "source": [
        "Lets create some toy data to see how they \"flow\" through the model."
      ],
      "metadata": {
        "id": "Tjq0MwZfbsuh"
      }
    },
    {
      "cell_type": "code",
      "source": [
        "torch.manual_seed(42)\n",
        "\n",
        "# Create sample batch of random numbers with same size as image batch\n",
        "images = torch.randn(size=(32, 3, 128, 128)) # [batch_size, color_channels, height, width]\n",
        "test_image = images[0] # get a single image for testing\n",
        "print(f\"Image batch shape: {images.shape} -> [batch_size, color_channels, height, width]\")\n",
        "print(f\"Single image shape: {test_image.shape} -> [color_channels, height, width]\")\n",
        "print(f\"Single image pixel values:\\n{test_image}\")"
      ],
      "metadata": {
        "id": "tf8A8w3i1DZB"
      },
      "execution_count": null,
      "outputs": []
    },
    {
      "cell_type": "code",
      "source": [
        "torch.manual_seed(42)\n",
        "\n",
        "# Create a convolutional layer with same dimensions as TinyVGG\n",
        "# (try changing any of the parameters and see what happens)\n",
        "conv_layer = nn.Conv2d(in_channels=3,\n",
        "                       out_channels=96,\n",
        "                       kernel_size=3,\n",
        "                       stride=1,\n",
        "                       padding=0) # also try using \"valid\" or \"same\" here\n",
        "\n",
        "# Pass the data through the convolutional layer\n",
        "conv_layer(test_image) # Note: If running PyTorch <1.11.0, this will error because of shape issues (nn.Conv.2d() expects a 4d tensor as input)"
      ],
      "metadata": {
        "id": "RQNrP-p6WUI_"
      },
      "execution_count": null,
      "outputs": []
    },
    {
      "cell_type": "code",
      "source": [
        "# Add extra dimension to test image\n",
        "test_image.unsqueeze(dim=0).shape\n",
        "# Pass test image with extra dimension through conv_layer\n",
        "conv_layer(test_image.unsqueeze(dim=0)).shape"
      ],
      "metadata": {
        "colab": {
          "base_uri": "https://localhost:8080/"
        },
        "id": "fDpd4vq3b8ma",
        "outputId": "012d9945-c59a-4376-8f15-5309ba7cfe33"
      },
      "execution_count": 108,
      "outputs": [
        {
          "output_type": "execute_result",
          "data": {
            "text/plain": [
              "torch.Size([1, 96, 126, 126])"
            ]
          },
          "metadata": {},
          "execution_count": 108
        }
      ]
    },
    {
      "cell_type": "code",
      "source": [
        "torch.manual_seed(42)\n",
        "# Create a new conv_layer with different values (try setting these to whatever you like)\n",
        "conv_layer_2 = nn.Conv2d(in_channels=3, # same number of color channels as our input image\n",
        "                         out_channels=10,\n",
        "                         kernel_size=(5, 5), # kernel is usually a square so a tuple also works\n",
        "                         stride=2,\n",
        "                         padding=0)\n",
        "\n",
        "# Pass single image through new conv_layer_2 (this calls nn.Conv2d()'s forward() method on the input)\n",
        "conv_layer_2(test_image.unsqueeze(dim=0)).shape"
      ],
      "metadata": {
        "colab": {
          "base_uri": "https://localhost:8080/"
        },
        "id": "L4mCa0iAcF-f",
        "outputId": "33748794-6fcf-4971-e5c0-ae776cb7da97"
      },
      "execution_count": 109,
      "outputs": [
        {
          "output_type": "execute_result",
          "data": {
            "text/plain": [
              "torch.Size([1, 10, 62, 62])"
            ]
          },
          "metadata": {},
          "execution_count": 109
        }
      ]
    },
    {
      "cell_type": "code",
      "source": [
        "# Check out the conv_layer_2 internal parameters\n",
        "# print(conv_layer_2.state_dict())\n",
        "# Get shapes of weight and bias tensors within conv_layer_2\n",
        "print(f\"conv_layer_2 weight shape: \\n{conv_layer_2.weight.shape} -> [out_channels=10, in_channels=3, kernel_size=5, kernel_size=5]\")\n",
        "print(f\"\\nconv_layer_2 bias shape: \\n{conv_layer_2.bias.shape} -> [out_channels=10]\")"
      ],
      "metadata": {
        "colab": {
          "base_uri": "https://localhost:8080/"
        },
        "id": "3UQZ_dvucLZ9",
        "outputId": "17575af4-cf59-4ec2-80d7-a16f778637f3"
      },
      "execution_count": 110,
      "outputs": [
        {
          "output_type": "stream",
          "name": "stdout",
          "text": [
            "conv_layer_2 weight shape: \n",
            "torch.Size([10, 3, 5, 5]) -> [out_channels=10, in_channels=3, kernel_size=5, kernel_size=5]\n",
            "\n",
            "conv_layer_2 bias shape: \n",
            "torch.Size([10]) -> [out_channels=10]\n"
          ]
        }
      ]
    },
    {
      "cell_type": "markdown",
      "source": [
        "## 4.2 Setup loss function and optimizer for the model."
      ],
      "metadata": {
        "id": "MXt5uTKDcWzW"
      }
    },
    {
      "cell_type": "code",
      "source": [
        "from timeit import default_timer as timer\n",
        "def print_train_time(start: float, end: float, device: torch.device = None):\n",
        "    \"\"\"Prints difference between start and end time.\n",
        "\n",
        "    Args:\n",
        "        start (float): Start time of computation (preferred in timeit format).\n",
        "        end (float): End time of computation.\n",
        "        device ([type], optional): Device that compute is running on. Defaults to None.\n",
        "\n",
        "    Returns:\n",
        "        float: time between start and end in seconds (higher is longer).\n",
        "    \"\"\"\n",
        "    total_time = end - start\n",
        "    print(f\"Train time on {device}: {total_time:.3f} seconds\")\n",
        "    return total_time"
      ],
      "metadata": {
        "id": "YCnnBQe-crqu"
      },
      "execution_count": 119,
      "outputs": []
    },
    {
      "cell_type": "code",
      "source": [
        "# Setup loss and optimizer\n",
        "loss_fn = nn.CrossEntropyLoss()\n",
        "optimizer = torch.optim.SGD(params=model.parameters(),\n",
        "                             lr=0.2)"
      ],
      "metadata": {
        "id": "2M5s9iCpcWca"
      },
      "execution_count": 154,
      "outputs": []
    },
    {
      "cell_type": "markdown",
      "source": [
        "## 4.3 Let's train the model."
      ],
      "metadata": {
        "id": "9Hx3O5jFciK9"
      }
    },
    {
      "cell_type": "code",
      "source": [
        "def accuracy_fn(y_true, y_pred):\n",
        "    \"\"\"Calculates accuracy between truth labels and predictions.\n",
        "\n",
        "    Args:\n",
        "        y_true (torch.Tensor): Truth labels for predictions.\n",
        "        y_pred (torch.Tensor): Predictions to be compared to predictions.\n",
        "\n",
        "    Returns:\n",
        "        [torch.float]: Accuracy value between y_true and y_pred, e.g. 78.45\n",
        "    \"\"\"\n",
        "    correct = torch.eq(y_true, y_pred).sum().item()\n",
        "    acc = (correct / len(y_pred)) * 100\n",
        "    return acc"
      ],
      "metadata": {
        "id": "zGHYd8Xqg7CZ"
      },
      "execution_count": 124,
      "outputs": []
    },
    {
      "cell_type": "code",
      "source": [
        "def train_step(model: torch.nn.Module,\n",
        "               data_loader: torch.utils.data.DataLoader,\n",
        "               loss_fn: torch.nn.Module,\n",
        "               optimizer: torch.optim.Optimizer,\n",
        "               accuracy_fn,\n",
        "               device: torch.device = device):\n",
        "    train_loss, train_acc = 0, 0\n",
        "    model.to(device)\n",
        "    for batch, (X, y) in enumerate(data_loader):\n",
        "        # Send data to GPU\n",
        "        X, y = X.to(device), y.to(device)\n",
        "\n",
        "        # 1. Forward pass\n",
        "        y_pred = model(X)\n",
        "\n",
        "        # 2. Calculate loss\n",
        "        loss = loss_fn(y_pred, y)\n",
        "        train_loss += loss\n",
        "        train_acc += accuracy_fn(y_true=y,\n",
        "                                 y_pred=y_pred.argmax(dim=1)) # Go from logits -> pred labels\n",
        "\n",
        "        # 3. Optimizer zero grad\n",
        "        optimizer.zero_grad()\n",
        "\n",
        "        # 4. Loss backward\n",
        "        loss.backward()\n",
        "\n",
        "        # 5. Optimizer step\n",
        "        optimizer.step()\n",
        "\n",
        "    # Calculate loss and accuracy per epoch and print out what's happening\n",
        "    train_loss /= len(data_loader)\n",
        "    train_acc /= len(data_loader)\n",
        "    print(f\"Train loss: {train_loss:.5f} | Train accuracy: {train_acc:.2f}%\")\n",
        "\n",
        "def test_step(data_loader: torch.utils.data.DataLoader,\n",
        "              model: torch.nn.Module,\n",
        "              loss_fn: torch.nn.Module,\n",
        "              accuracy_fn,\n",
        "              device: torch.device = device):\n",
        "    test_loss, test_acc = 0, 0\n",
        "    model.to(device)\n",
        "    model.eval() # put model in eval mode\n",
        "    # Turn on inference context manager\n",
        "    with torch.inference_mode():\n",
        "        for X, y in data_loader:\n",
        "            # Send data to GPU\n",
        "            X, y = X.to(device), y.to(device)\n",
        "\n",
        "            # 1. Forward pass\n",
        "            test_pred = model(X)\n",
        "\n",
        "            # 2. Calculate loss and accuracy\n",
        "            test_loss += loss_fn(test_pred, y)\n",
        "            test_acc += accuracy_fn(y_true=y,\n",
        "                y_pred=test_pred.argmax(dim=1) # Go from logits -> pred labels\n",
        "            )\n",
        "\n",
        "        # Adjust metrics and print out\n",
        "        test_loss /= len(data_loader)\n",
        "        test_acc /= len(data_loader)\n",
        "        print(f\"Test loss: {test_loss:.5f} | Test accuracy: {test_acc:.2f}%\\n\")"
      ],
      "metadata": {
        "id": "mHD9tZmvc3dg"
      },
      "execution_count": 113,
      "outputs": []
    },
    {
      "cell_type": "code",
      "source": [
        "torch.manual_seed(42)\n",
        "\n",
        "# Measure time\n",
        "from timeit import default_timer as timer\n",
        "from torchmetrics import Accuracy\n",
        "from tqdm.auto import tqdm\n",
        "\n",
        "\n",
        "train_time_start_model= timer()\n",
        "\n",
        "# Train and test model\n",
        "epochs = 5\n",
        "for epoch in tqdm(range(epochs)):\n",
        "    print(f\"Epoch: {epoch}\\n---------\")\n",
        "    train_step(data_loader=train_dataloader,\n",
        "        model=model,\n",
        "        loss_fn=loss_fn,\n",
        "        optimizer=optimizer,\n",
        "        accuracy_fn=accuracy_fn,\n",
        "        device=device\n",
        "    )\n",
        "    test_step(data_loader=test_dataloader,\n",
        "        model=model,\n",
        "        loss_fn=loss_fn,\n",
        "        accuracy_fn=accuracy_fn,\n",
        "        device=device\n",
        "    )\n",
        "\n",
        "train_time_end_model = timer()\n",
        "total_train_time_model = print_train_time(start=train_time_start_model,\n",
        "                                           end=train_time_end_model,\n",
        "                                           device=device)"
      ],
      "metadata": {
        "colab": {
          "base_uri": "https://localhost:8080/",
          "height": 500,
          "referenced_widgets": [
            "b88c59b1ab604890a55c60c99fe5011e",
            "42df08fe04034c108bccdbc1649e89db",
            "4e511acd413a4ba8aeae46d44b634cf9",
            "2544a19704f4490095b0dd961ec32dd7",
            "5012d16d77064c4899729c69a03e72b0",
            "ba970a01bc514be59e19810eacda26ca",
            "474d68d6947a44b782f0ee5bce6a3b24",
            "aef29f5d18de4ea78672ffdc2911197b",
            "511f3a3b1d824d87935a83be4be79b83",
            "72f9e561a2fd4eb9bf56df6349c22b58",
            "a365c7c627114d0bb41f36fe92e0e181"
          ]
        },
        "id": "M8_2_l1vchyw",
        "outputId": "bb7e324c-f363-4ed8-9711-46889255abda"
      },
      "execution_count": 158,
      "outputs": [
        {
          "output_type": "display_data",
          "data": {
            "text/plain": [
              "  0%|          | 0/5 [00:00<?, ?it/s]"
            ],
            "application/vnd.jupyter.widget-view+json": {
              "version_major": 2,
              "version_minor": 0,
              "model_id": "b88c59b1ab604890a55c60c99fe5011e"
            }
          },
          "metadata": {}
        },
        {
          "output_type": "stream",
          "name": "stdout",
          "text": [
            "Epoch: 0\n",
            "---------\n",
            "Train loss: 4.56527 | Train accuracy: 1.04%\n",
            "Test loss: 4.56527 | Test accuracy: 1.03%\n",
            "\n",
            "Epoch: 1\n",
            "---------\n",
            "Train loss: 4.56528 | Train accuracy: 1.04%\n",
            "Test loss: 4.56528 | Test accuracy: 1.03%\n",
            "\n",
            "Epoch: 2\n",
            "---------\n",
            "Train loss: 4.56527 | Train accuracy: 1.04%\n",
            "Test loss: 4.56531 | Test accuracy: 1.03%\n",
            "\n",
            "Epoch: 3\n",
            "---------\n",
            "Train loss: 4.56526 | Train accuracy: 1.04%\n",
            "Test loss: 4.56522 | Test accuracy: 1.03%\n",
            "\n",
            "Epoch: 4\n",
            "---------\n",
            "Train loss: 4.56527 | Train accuracy: 1.04%\n",
            "Test loss: 4.56532 | Test accuracy: 1.03%\n",
            "\n",
            "Train time on cuda: 164.043 seconds\n"
          ]
        }
      ]
    },
    {
      "cell_type": "code",
      "source": [
        "import matplotlib.pyplot as plt\n",
        "import torch\n",
        "import torchvision\n",
        "import copy\n",
        "\n",
        "from torch import nn\n",
        "from torchvision import datasets,transforms\n",
        "from pathlib import Path\n",
        "\n",
        "device = \"cuda\" if torch.cuda.is_available() else \"cpu\"\n",
        "device\n",
        "\n",
        "data_dir = Path('data')\n",
        "\n",
        "# emnist_train_transforms = transforms.Compose([\n",
        "#     transforms.ToTensor(),  # Convert image to tensor\n",
        "#     transforms.Normalize((0.5,), (0.5,))  # Normalize pixel values to [-1, 1]\n",
        "# ])\n",
        "\n",
        "# Get EMNIST training data\n",
        "emnist_data = datasets.EMNIST(root=data_dir,\n",
        "                                       split='letters',\n",
        "                                       train= True,\n",
        "                                       download = True)\n",
        "\n",
        "# emnist_test_data = datasets.EMNIST(root=data_dir,\n",
        "#                                    split='balanced',\n",
        "#                                    train=False,\n",
        "#                                    download=True)\n"
      ],
      "metadata": {
        "id": "h_kUvjaJHz_C",
        "colab": {
          "base_uri": "https://localhost:8080/",
          "height": 391
        },
        "outputId": "efa18798-5a92-4691-c127-0fd1f1228f78"
      },
      "execution_count": null,
      "outputs": [
        {
          "output_type": "stream",
          "name": "stdout",
          "text": [
            "Downloading https://www.itl.nist.gov/iaui/vip/cs_links/EMNIST/gzip.zip to data/EMNIST/raw/gzip.zip\n"
          ]
        },
        {
          "output_type": "stream",
          "name": "stderr",
          "text": [
            "  4%|▎         | 20414464/561753746 [00:01<00:51, 10552754.30it/s]\n"
          ]
        },
        {
          "output_type": "error",
          "ename": "KeyboardInterrupt",
          "evalue": "",
          "traceback": [
            "\u001b[0;31m---------------------------------------------------------------------------\u001b[0m",
            "\u001b[0;31mKeyboardInterrupt\u001b[0m                         Traceback (most recent call last)",
            "\u001b[0;32m<ipython-input-40-92a417cca9e7>\u001b[0m in \u001b[0;36m<cell line: 21>\u001b[0;34m()\u001b[0m\n\u001b[1;32m     19\u001b[0m \u001b[0;34m\u001b[0m\u001b[0m\n\u001b[1;32m     20\u001b[0m \u001b[0;31m# Get EMNIST training data\u001b[0m\u001b[0;34m\u001b[0m\u001b[0;34m\u001b[0m\u001b[0m\n\u001b[0;32m---> 21\u001b[0;31m emnist_data = datasets.EMNIST(root=data_dir,\n\u001b[0m\u001b[1;32m     22\u001b[0m                                        \u001b[0msplit\u001b[0m\u001b[0;34m=\u001b[0m\u001b[0;34m'letters'\u001b[0m\u001b[0;34m,\u001b[0m\u001b[0;34m\u001b[0m\u001b[0;34m\u001b[0m\u001b[0m\n\u001b[1;32m     23\u001b[0m                                        \u001b[0mtrain\u001b[0m\u001b[0;34m=\u001b[0m \u001b[0;32mTrue\u001b[0m\u001b[0;34m,\u001b[0m\u001b[0;34m\u001b[0m\u001b[0;34m\u001b[0m\u001b[0m\n",
            "\u001b[0;32m/usr/local/lib/python3.10/dist-packages/torchvision/datasets/mnist.py\u001b[0m in \u001b[0;36m__init__\u001b[0;34m(self, root, split, **kwargs)\u001b[0m\n\u001b[1;32m    295\u001b[0m         \u001b[0mself\u001b[0m\u001b[0;34m.\u001b[0m\u001b[0mtraining_file\u001b[0m \u001b[0;34m=\u001b[0m \u001b[0mself\u001b[0m\u001b[0;34m.\u001b[0m\u001b[0m_training_file\u001b[0m\u001b[0;34m(\u001b[0m\u001b[0msplit\u001b[0m\u001b[0;34m)\u001b[0m\u001b[0;34m\u001b[0m\u001b[0;34m\u001b[0m\u001b[0m\n\u001b[1;32m    296\u001b[0m         \u001b[0mself\u001b[0m\u001b[0;34m.\u001b[0m\u001b[0mtest_file\u001b[0m \u001b[0;34m=\u001b[0m \u001b[0mself\u001b[0m\u001b[0;34m.\u001b[0m\u001b[0m_test_file\u001b[0m\u001b[0;34m(\u001b[0m\u001b[0msplit\u001b[0m\u001b[0;34m)\u001b[0m\u001b[0;34m\u001b[0m\u001b[0;34m\u001b[0m\u001b[0m\n\u001b[0;32m--> 297\u001b[0;31m         \u001b[0msuper\u001b[0m\u001b[0;34m(\u001b[0m\u001b[0;34m)\u001b[0m\u001b[0;34m.\u001b[0m\u001b[0m__init__\u001b[0m\u001b[0;34m(\u001b[0m\u001b[0mroot\u001b[0m\u001b[0;34m,\u001b[0m \u001b[0;34m**\u001b[0m\u001b[0mkwargs\u001b[0m\u001b[0;34m)\u001b[0m\u001b[0;34m\u001b[0m\u001b[0;34m\u001b[0m\u001b[0m\n\u001b[0m\u001b[1;32m    298\u001b[0m         \u001b[0mself\u001b[0m\u001b[0;34m.\u001b[0m\u001b[0mclasses\u001b[0m \u001b[0;34m=\u001b[0m \u001b[0mself\u001b[0m\u001b[0;34m.\u001b[0m\u001b[0mclasses_split_dict\u001b[0m\u001b[0;34m[\u001b[0m\u001b[0mself\u001b[0m\u001b[0;34m.\u001b[0m\u001b[0msplit\u001b[0m\u001b[0;34m]\u001b[0m\u001b[0;34m\u001b[0m\u001b[0;34m\u001b[0m\u001b[0m\n\u001b[1;32m    299\u001b[0m \u001b[0;34m\u001b[0m\u001b[0m\n",
            "\u001b[0;32m/usr/local/lib/python3.10/dist-packages/torchvision/datasets/mnist.py\u001b[0m in \u001b[0;36m__init__\u001b[0;34m(self, root, train, transform, target_transform, download)\u001b[0m\n\u001b[1;32m     97\u001b[0m \u001b[0;34m\u001b[0m\u001b[0m\n\u001b[1;32m     98\u001b[0m         \u001b[0;32mif\u001b[0m \u001b[0mdownload\u001b[0m\u001b[0;34m:\u001b[0m\u001b[0;34m\u001b[0m\u001b[0;34m\u001b[0m\u001b[0m\n\u001b[0;32m---> 99\u001b[0;31m             \u001b[0mself\u001b[0m\u001b[0;34m.\u001b[0m\u001b[0mdownload\u001b[0m\u001b[0;34m(\u001b[0m\u001b[0;34m)\u001b[0m\u001b[0;34m\u001b[0m\u001b[0;34m\u001b[0m\u001b[0m\n\u001b[0m\u001b[1;32m    100\u001b[0m \u001b[0;34m\u001b[0m\u001b[0m\n\u001b[1;32m    101\u001b[0m         \u001b[0;32mif\u001b[0m \u001b[0;32mnot\u001b[0m \u001b[0mself\u001b[0m\u001b[0;34m.\u001b[0m\u001b[0m_check_exists\u001b[0m\u001b[0;34m(\u001b[0m\u001b[0;34m)\u001b[0m\u001b[0;34m:\u001b[0m\u001b[0;34m\u001b[0m\u001b[0;34m\u001b[0m\u001b[0m\n",
            "\u001b[0;32m/usr/local/lib/python3.10/dist-packages/torchvision/datasets/mnist.py\u001b[0m in \u001b[0;36mdownload\u001b[0;34m(self)\u001b[0m\n\u001b[1;32m    332\u001b[0m         \u001b[0mos\u001b[0m\u001b[0;34m.\u001b[0m\u001b[0mmakedirs\u001b[0m\u001b[0;34m(\u001b[0m\u001b[0mself\u001b[0m\u001b[0;34m.\u001b[0m\u001b[0mraw_folder\u001b[0m\u001b[0;34m,\u001b[0m \u001b[0mexist_ok\u001b[0m\u001b[0;34m=\u001b[0m\u001b[0;32mTrue\u001b[0m\u001b[0;34m)\u001b[0m\u001b[0;34m\u001b[0m\u001b[0;34m\u001b[0m\u001b[0m\n\u001b[1;32m    333\u001b[0m \u001b[0;34m\u001b[0m\u001b[0m\n\u001b[0;32m--> 334\u001b[0;31m         \u001b[0mdownload_and_extract_archive\u001b[0m\u001b[0;34m(\u001b[0m\u001b[0mself\u001b[0m\u001b[0;34m.\u001b[0m\u001b[0murl\u001b[0m\u001b[0;34m,\u001b[0m \u001b[0mdownload_root\u001b[0m\u001b[0;34m=\u001b[0m\u001b[0mself\u001b[0m\u001b[0;34m.\u001b[0m\u001b[0mraw_folder\u001b[0m\u001b[0;34m,\u001b[0m \u001b[0mmd5\u001b[0m\u001b[0;34m=\u001b[0m\u001b[0mself\u001b[0m\u001b[0;34m.\u001b[0m\u001b[0mmd5\u001b[0m\u001b[0;34m)\u001b[0m\u001b[0;34m\u001b[0m\u001b[0;34m\u001b[0m\u001b[0m\n\u001b[0m\u001b[1;32m    335\u001b[0m         \u001b[0mgzip_folder\u001b[0m \u001b[0;34m=\u001b[0m \u001b[0mos\u001b[0m\u001b[0;34m.\u001b[0m\u001b[0mpath\u001b[0m\u001b[0;34m.\u001b[0m\u001b[0mjoin\u001b[0m\u001b[0;34m(\u001b[0m\u001b[0mself\u001b[0m\u001b[0;34m.\u001b[0m\u001b[0mraw_folder\u001b[0m\u001b[0;34m,\u001b[0m \u001b[0;34m\"gzip\"\u001b[0m\u001b[0;34m)\u001b[0m\u001b[0;34m\u001b[0m\u001b[0;34m\u001b[0m\u001b[0m\n\u001b[1;32m    336\u001b[0m         \u001b[0;32mfor\u001b[0m \u001b[0mgzip_file\u001b[0m \u001b[0;32min\u001b[0m \u001b[0mos\u001b[0m\u001b[0;34m.\u001b[0m\u001b[0mlistdir\u001b[0m\u001b[0;34m(\u001b[0m\u001b[0mgzip_folder\u001b[0m\u001b[0;34m)\u001b[0m\u001b[0;34m:\u001b[0m\u001b[0;34m\u001b[0m\u001b[0;34m\u001b[0m\u001b[0m\n",
            "\u001b[0;32m/usr/local/lib/python3.10/dist-packages/torchvision/datasets/utils.py\u001b[0m in \u001b[0;36mdownload_and_extract_archive\u001b[0;34m(url, download_root, extract_root, filename, md5, remove_finished)\u001b[0m\n\u001b[1;32m    432\u001b[0m         \u001b[0mfilename\u001b[0m \u001b[0;34m=\u001b[0m \u001b[0mos\u001b[0m\u001b[0;34m.\u001b[0m\u001b[0mpath\u001b[0m\u001b[0;34m.\u001b[0m\u001b[0mbasename\u001b[0m\u001b[0;34m(\u001b[0m\u001b[0murl\u001b[0m\u001b[0;34m)\u001b[0m\u001b[0;34m\u001b[0m\u001b[0;34m\u001b[0m\u001b[0m\n\u001b[1;32m    433\u001b[0m \u001b[0;34m\u001b[0m\u001b[0m\n\u001b[0;32m--> 434\u001b[0;31m     \u001b[0mdownload_url\u001b[0m\u001b[0;34m(\u001b[0m\u001b[0murl\u001b[0m\u001b[0;34m,\u001b[0m \u001b[0mdownload_root\u001b[0m\u001b[0;34m,\u001b[0m \u001b[0mfilename\u001b[0m\u001b[0;34m,\u001b[0m \u001b[0mmd5\u001b[0m\u001b[0;34m)\u001b[0m\u001b[0;34m\u001b[0m\u001b[0;34m\u001b[0m\u001b[0m\n\u001b[0m\u001b[1;32m    435\u001b[0m \u001b[0;34m\u001b[0m\u001b[0m\n\u001b[1;32m    436\u001b[0m     \u001b[0marchive\u001b[0m \u001b[0;34m=\u001b[0m \u001b[0mos\u001b[0m\u001b[0;34m.\u001b[0m\u001b[0mpath\u001b[0m\u001b[0;34m.\u001b[0m\u001b[0mjoin\u001b[0m\u001b[0;34m(\u001b[0m\u001b[0mdownload_root\u001b[0m\u001b[0;34m,\u001b[0m \u001b[0mfilename\u001b[0m\u001b[0;34m)\u001b[0m\u001b[0;34m\u001b[0m\u001b[0;34m\u001b[0m\u001b[0m\n",
            "\u001b[0;32m/usr/local/lib/python3.10/dist-packages/torchvision/datasets/utils.py\u001b[0m in \u001b[0;36mdownload_url\u001b[0;34m(url, root, filename, md5, max_redirect_hops)\u001b[0m\n\u001b[1;32m    142\u001b[0m         \u001b[0;32mtry\u001b[0m\u001b[0;34m:\u001b[0m\u001b[0;34m\u001b[0m\u001b[0;34m\u001b[0m\u001b[0m\n\u001b[1;32m    143\u001b[0m             \u001b[0mprint\u001b[0m\u001b[0;34m(\u001b[0m\u001b[0;34m\"Downloading \"\u001b[0m \u001b[0;34m+\u001b[0m \u001b[0murl\u001b[0m \u001b[0;34m+\u001b[0m \u001b[0;34m\" to \"\u001b[0m \u001b[0;34m+\u001b[0m \u001b[0mfpath\u001b[0m\u001b[0;34m)\u001b[0m\u001b[0;34m\u001b[0m\u001b[0;34m\u001b[0m\u001b[0m\n\u001b[0;32m--> 144\u001b[0;31m             \u001b[0m_urlretrieve\u001b[0m\u001b[0;34m(\u001b[0m\u001b[0murl\u001b[0m\u001b[0;34m,\u001b[0m \u001b[0mfpath\u001b[0m\u001b[0;34m)\u001b[0m\u001b[0;34m\u001b[0m\u001b[0;34m\u001b[0m\u001b[0m\n\u001b[0m\u001b[1;32m    145\u001b[0m         \u001b[0;32mexcept\u001b[0m \u001b[0;34m(\u001b[0m\u001b[0murllib\u001b[0m\u001b[0;34m.\u001b[0m\u001b[0merror\u001b[0m\u001b[0;34m.\u001b[0m\u001b[0mURLError\u001b[0m\u001b[0;34m,\u001b[0m \u001b[0mOSError\u001b[0m\u001b[0;34m)\u001b[0m \u001b[0;32mas\u001b[0m \u001b[0me\u001b[0m\u001b[0;34m:\u001b[0m  \u001b[0;31m# type: ignore[attr-defined]\u001b[0m\u001b[0;34m\u001b[0m\u001b[0;34m\u001b[0m\u001b[0m\n\u001b[1;32m    146\u001b[0m             \u001b[0;32mif\u001b[0m \u001b[0murl\u001b[0m\u001b[0;34m[\u001b[0m\u001b[0;34m:\u001b[0m\u001b[0;36m5\u001b[0m\u001b[0;34m]\u001b[0m \u001b[0;34m==\u001b[0m \u001b[0;34m\"https\"\u001b[0m\u001b[0;34m:\u001b[0m\u001b[0;34m\u001b[0m\u001b[0;34m\u001b[0m\u001b[0m\n",
            "\u001b[0;32m/usr/local/lib/python3.10/dist-packages/torchvision/datasets/utils.py\u001b[0m in \u001b[0;36m_urlretrieve\u001b[0;34m(url, filename, chunk_size)\u001b[0m\n\u001b[1;32m     46\u001b[0m \u001b[0;32mdef\u001b[0m \u001b[0m_urlretrieve\u001b[0m\u001b[0;34m(\u001b[0m\u001b[0murl\u001b[0m\u001b[0;34m:\u001b[0m \u001b[0mstr\u001b[0m\u001b[0;34m,\u001b[0m \u001b[0mfilename\u001b[0m\u001b[0;34m:\u001b[0m \u001b[0mstr\u001b[0m\u001b[0;34m,\u001b[0m \u001b[0mchunk_size\u001b[0m\u001b[0;34m:\u001b[0m \u001b[0mint\u001b[0m \u001b[0;34m=\u001b[0m \u001b[0;36m1024\u001b[0m \u001b[0;34m*\u001b[0m \u001b[0;36m32\u001b[0m\u001b[0;34m)\u001b[0m \u001b[0;34m->\u001b[0m \u001b[0;32mNone\u001b[0m\u001b[0;34m:\u001b[0m\u001b[0;34m\u001b[0m\u001b[0;34m\u001b[0m\u001b[0m\n\u001b[1;32m     47\u001b[0m     \u001b[0;32mwith\u001b[0m \u001b[0murllib\u001b[0m\u001b[0;34m.\u001b[0m\u001b[0mrequest\u001b[0m\u001b[0;34m.\u001b[0m\u001b[0murlopen\u001b[0m\u001b[0;34m(\u001b[0m\u001b[0murllib\u001b[0m\u001b[0;34m.\u001b[0m\u001b[0mrequest\u001b[0m\u001b[0;34m.\u001b[0m\u001b[0mRequest\u001b[0m\u001b[0;34m(\u001b[0m\u001b[0murl\u001b[0m\u001b[0;34m,\u001b[0m \u001b[0mheaders\u001b[0m\u001b[0;34m=\u001b[0m\u001b[0;34m{\u001b[0m\u001b[0;34m\"User-Agent\"\u001b[0m\u001b[0;34m:\u001b[0m \u001b[0mUSER_AGENT\u001b[0m\u001b[0;34m}\u001b[0m\u001b[0;34m)\u001b[0m\u001b[0;34m)\u001b[0m \u001b[0;32mas\u001b[0m \u001b[0mresponse\u001b[0m\u001b[0;34m:\u001b[0m\u001b[0;34m\u001b[0m\u001b[0;34m\u001b[0m\u001b[0m\n\u001b[0;32m---> 48\u001b[0;31m         \u001b[0m_save_response_content\u001b[0m\u001b[0;34m(\u001b[0m\u001b[0miter\u001b[0m\u001b[0;34m(\u001b[0m\u001b[0;32mlambda\u001b[0m\u001b[0;34m:\u001b[0m \u001b[0mresponse\u001b[0m\u001b[0;34m.\u001b[0m\u001b[0mread\u001b[0m\u001b[0;34m(\u001b[0m\u001b[0mchunk_size\u001b[0m\u001b[0;34m)\u001b[0m\u001b[0;34m,\u001b[0m \u001b[0;34mb\"\"\u001b[0m\u001b[0;34m)\u001b[0m\u001b[0;34m,\u001b[0m \u001b[0mfilename\u001b[0m\u001b[0;34m,\u001b[0m \u001b[0mlength\u001b[0m\u001b[0;34m=\u001b[0m\u001b[0mresponse\u001b[0m\u001b[0;34m.\u001b[0m\u001b[0mlength\u001b[0m\u001b[0;34m)\u001b[0m\u001b[0;34m\u001b[0m\u001b[0;34m\u001b[0m\u001b[0m\n\u001b[0m\u001b[1;32m     49\u001b[0m \u001b[0;34m\u001b[0m\u001b[0m\n\u001b[1;32m     50\u001b[0m \u001b[0;34m\u001b[0m\u001b[0m\n",
            "\u001b[0;32m/usr/local/lib/python3.10/dist-packages/torchvision/datasets/utils.py\u001b[0m in \u001b[0;36m_save_response_content\u001b[0;34m(content, destination, length)\u001b[0m\n\u001b[1;32m     35\u001b[0m ) -> None:\n\u001b[1;32m     36\u001b[0m     \u001b[0;32mwith\u001b[0m \u001b[0mopen\u001b[0m\u001b[0;34m(\u001b[0m\u001b[0mdestination\u001b[0m\u001b[0;34m,\u001b[0m \u001b[0;34m\"wb\"\u001b[0m\u001b[0;34m)\u001b[0m \u001b[0;32mas\u001b[0m \u001b[0mfh\u001b[0m\u001b[0;34m,\u001b[0m \u001b[0mtqdm\u001b[0m\u001b[0;34m(\u001b[0m\u001b[0mtotal\u001b[0m\u001b[0;34m=\u001b[0m\u001b[0mlength\u001b[0m\u001b[0;34m)\u001b[0m \u001b[0;32mas\u001b[0m \u001b[0mpbar\u001b[0m\u001b[0;34m:\u001b[0m\u001b[0;34m\u001b[0m\u001b[0;34m\u001b[0m\u001b[0m\n\u001b[0;32m---> 37\u001b[0;31m         \u001b[0;32mfor\u001b[0m \u001b[0mchunk\u001b[0m \u001b[0;32min\u001b[0m \u001b[0mcontent\u001b[0m\u001b[0;34m:\u001b[0m\u001b[0;34m\u001b[0m\u001b[0;34m\u001b[0m\u001b[0m\n\u001b[0m\u001b[1;32m     38\u001b[0m             \u001b[0;31m# filter out keep-alive new chunks\u001b[0m\u001b[0;34m\u001b[0m\u001b[0;34m\u001b[0m\u001b[0m\n\u001b[1;32m     39\u001b[0m             \u001b[0;32mif\u001b[0m \u001b[0;32mnot\u001b[0m \u001b[0mchunk\u001b[0m\u001b[0;34m:\u001b[0m\u001b[0;34m\u001b[0m\u001b[0;34m\u001b[0m\u001b[0m\n",
            "\u001b[0;32m/usr/local/lib/python3.10/dist-packages/torchvision/datasets/utils.py\u001b[0m in \u001b[0;36m<lambda>\u001b[0;34m()\u001b[0m\n\u001b[1;32m     46\u001b[0m \u001b[0;32mdef\u001b[0m \u001b[0m_urlretrieve\u001b[0m\u001b[0;34m(\u001b[0m\u001b[0murl\u001b[0m\u001b[0;34m:\u001b[0m \u001b[0mstr\u001b[0m\u001b[0;34m,\u001b[0m \u001b[0mfilename\u001b[0m\u001b[0;34m:\u001b[0m \u001b[0mstr\u001b[0m\u001b[0;34m,\u001b[0m \u001b[0mchunk_size\u001b[0m\u001b[0;34m:\u001b[0m \u001b[0mint\u001b[0m \u001b[0;34m=\u001b[0m \u001b[0;36m1024\u001b[0m \u001b[0;34m*\u001b[0m \u001b[0;36m32\u001b[0m\u001b[0;34m)\u001b[0m \u001b[0;34m->\u001b[0m \u001b[0;32mNone\u001b[0m\u001b[0;34m:\u001b[0m\u001b[0;34m\u001b[0m\u001b[0;34m\u001b[0m\u001b[0m\n\u001b[1;32m     47\u001b[0m     \u001b[0;32mwith\u001b[0m \u001b[0murllib\u001b[0m\u001b[0;34m.\u001b[0m\u001b[0mrequest\u001b[0m\u001b[0;34m.\u001b[0m\u001b[0murlopen\u001b[0m\u001b[0;34m(\u001b[0m\u001b[0murllib\u001b[0m\u001b[0;34m.\u001b[0m\u001b[0mrequest\u001b[0m\u001b[0;34m.\u001b[0m\u001b[0mRequest\u001b[0m\u001b[0;34m(\u001b[0m\u001b[0murl\u001b[0m\u001b[0;34m,\u001b[0m \u001b[0mheaders\u001b[0m\u001b[0;34m=\u001b[0m\u001b[0;34m{\u001b[0m\u001b[0;34m\"User-Agent\"\u001b[0m\u001b[0;34m:\u001b[0m \u001b[0mUSER_AGENT\u001b[0m\u001b[0;34m}\u001b[0m\u001b[0;34m)\u001b[0m\u001b[0;34m)\u001b[0m \u001b[0;32mas\u001b[0m \u001b[0mresponse\u001b[0m\u001b[0;34m:\u001b[0m\u001b[0;34m\u001b[0m\u001b[0;34m\u001b[0m\u001b[0m\n\u001b[0;32m---> 48\u001b[0;31m         \u001b[0m_save_response_content\u001b[0m\u001b[0;34m(\u001b[0m\u001b[0miter\u001b[0m\u001b[0;34m(\u001b[0m\u001b[0;32mlambda\u001b[0m\u001b[0;34m:\u001b[0m \u001b[0mresponse\u001b[0m\u001b[0;34m.\u001b[0m\u001b[0mread\u001b[0m\u001b[0;34m(\u001b[0m\u001b[0mchunk_size\u001b[0m\u001b[0;34m)\u001b[0m\u001b[0;34m,\u001b[0m \u001b[0;34mb\"\"\u001b[0m\u001b[0;34m)\u001b[0m\u001b[0;34m,\u001b[0m \u001b[0mfilename\u001b[0m\u001b[0;34m,\u001b[0m \u001b[0mlength\u001b[0m\u001b[0;34m=\u001b[0m\u001b[0mresponse\u001b[0m\u001b[0;34m.\u001b[0m\u001b[0mlength\u001b[0m\u001b[0;34m)\u001b[0m\u001b[0;34m\u001b[0m\u001b[0;34m\u001b[0m\u001b[0m\n\u001b[0m\u001b[1;32m     49\u001b[0m \u001b[0;34m\u001b[0m\u001b[0m\n\u001b[1;32m     50\u001b[0m \u001b[0;34m\u001b[0m\u001b[0m\n",
            "\u001b[0;32m/usr/lib/python3.10/http/client.py\u001b[0m in \u001b[0;36mread\u001b[0;34m(self, amt)\u001b[0m\n\u001b[1;32m    464\u001b[0m                 \u001b[0;31m# clip the read to the \"end of response\"\u001b[0m\u001b[0;34m\u001b[0m\u001b[0;34m\u001b[0m\u001b[0m\n\u001b[1;32m    465\u001b[0m                 \u001b[0mamt\u001b[0m \u001b[0;34m=\u001b[0m \u001b[0mself\u001b[0m\u001b[0;34m.\u001b[0m\u001b[0mlength\u001b[0m\u001b[0;34m\u001b[0m\u001b[0;34m\u001b[0m\u001b[0m\n\u001b[0;32m--> 466\u001b[0;31m             \u001b[0ms\u001b[0m \u001b[0;34m=\u001b[0m \u001b[0mself\u001b[0m\u001b[0;34m.\u001b[0m\u001b[0mfp\u001b[0m\u001b[0;34m.\u001b[0m\u001b[0mread\u001b[0m\u001b[0;34m(\u001b[0m\u001b[0mamt\u001b[0m\u001b[0;34m)\u001b[0m\u001b[0;34m\u001b[0m\u001b[0;34m\u001b[0m\u001b[0m\n\u001b[0m\u001b[1;32m    467\u001b[0m             \u001b[0;32mif\u001b[0m \u001b[0;32mnot\u001b[0m \u001b[0ms\u001b[0m \u001b[0;32mand\u001b[0m \u001b[0mamt\u001b[0m\u001b[0;34m:\u001b[0m\u001b[0;34m\u001b[0m\u001b[0;34m\u001b[0m\u001b[0m\n\u001b[1;32m    468\u001b[0m                 \u001b[0;31m# Ideally, we would raise IncompleteRead if the content-length\u001b[0m\u001b[0;34m\u001b[0m\u001b[0;34m\u001b[0m\u001b[0m\n",
            "\u001b[0;32m/usr/lib/python3.10/socket.py\u001b[0m in \u001b[0;36mreadinto\u001b[0;34m(self, b)\u001b[0m\n\u001b[1;32m    703\u001b[0m         \u001b[0;32mwhile\u001b[0m \u001b[0;32mTrue\u001b[0m\u001b[0;34m:\u001b[0m\u001b[0;34m\u001b[0m\u001b[0;34m\u001b[0m\u001b[0m\n\u001b[1;32m    704\u001b[0m             \u001b[0;32mtry\u001b[0m\u001b[0;34m:\u001b[0m\u001b[0;34m\u001b[0m\u001b[0;34m\u001b[0m\u001b[0m\n\u001b[0;32m--> 705\u001b[0;31m                 \u001b[0;32mreturn\u001b[0m \u001b[0mself\u001b[0m\u001b[0;34m.\u001b[0m\u001b[0m_sock\u001b[0m\u001b[0;34m.\u001b[0m\u001b[0mrecv_into\u001b[0m\u001b[0;34m(\u001b[0m\u001b[0mb\u001b[0m\u001b[0;34m)\u001b[0m\u001b[0;34m\u001b[0m\u001b[0;34m\u001b[0m\u001b[0m\n\u001b[0m\u001b[1;32m    706\u001b[0m             \u001b[0;32mexcept\u001b[0m \u001b[0mtimeout\u001b[0m\u001b[0;34m:\u001b[0m\u001b[0;34m\u001b[0m\u001b[0;34m\u001b[0m\u001b[0m\n\u001b[1;32m    707\u001b[0m                 \u001b[0mself\u001b[0m\u001b[0;34m.\u001b[0m\u001b[0m_timeout_occurred\u001b[0m \u001b[0;34m=\u001b[0m \u001b[0;32mTrue\u001b[0m\u001b[0;34m\u001b[0m\u001b[0;34m\u001b[0m\u001b[0m\n",
            "\u001b[0;32m/usr/lib/python3.10/ssl.py\u001b[0m in \u001b[0;36mrecv_into\u001b[0;34m(self, buffer, nbytes, flags)\u001b[0m\n\u001b[1;32m   1301\u001b[0m                   \u001b[0;34m\"non-zero flags not allowed in calls to recv_into() on %s\"\u001b[0m \u001b[0;34m%\u001b[0m\u001b[0;34m\u001b[0m\u001b[0;34m\u001b[0m\u001b[0m\n\u001b[1;32m   1302\u001b[0m                   self.__class__)\n\u001b[0;32m-> 1303\u001b[0;31m             \u001b[0;32mreturn\u001b[0m \u001b[0mself\u001b[0m\u001b[0;34m.\u001b[0m\u001b[0mread\u001b[0m\u001b[0;34m(\u001b[0m\u001b[0mnbytes\u001b[0m\u001b[0;34m,\u001b[0m \u001b[0mbuffer\u001b[0m\u001b[0;34m)\u001b[0m\u001b[0;34m\u001b[0m\u001b[0;34m\u001b[0m\u001b[0m\n\u001b[0m\u001b[1;32m   1304\u001b[0m         \u001b[0;32melse\u001b[0m\u001b[0;34m:\u001b[0m\u001b[0;34m\u001b[0m\u001b[0;34m\u001b[0m\u001b[0m\n\u001b[1;32m   1305\u001b[0m             \u001b[0;32mreturn\u001b[0m \u001b[0msuper\u001b[0m\u001b[0;34m(\u001b[0m\u001b[0;34m)\u001b[0m\u001b[0;34m.\u001b[0m\u001b[0mrecv_into\u001b[0m\u001b[0;34m(\u001b[0m\u001b[0mbuffer\u001b[0m\u001b[0;34m,\u001b[0m \u001b[0mnbytes\u001b[0m\u001b[0;34m,\u001b[0m \u001b[0mflags\u001b[0m\u001b[0;34m)\u001b[0m\u001b[0;34m\u001b[0m\u001b[0;34m\u001b[0m\u001b[0m\n",
            "\u001b[0;32m/usr/lib/python3.10/ssl.py\u001b[0m in \u001b[0;36mread\u001b[0;34m(self, len, buffer)\u001b[0m\n\u001b[1;32m   1157\u001b[0m         \u001b[0;32mtry\u001b[0m\u001b[0;34m:\u001b[0m\u001b[0;34m\u001b[0m\u001b[0;34m\u001b[0m\u001b[0m\n\u001b[1;32m   1158\u001b[0m             \u001b[0;32mif\u001b[0m \u001b[0mbuffer\u001b[0m \u001b[0;32mis\u001b[0m \u001b[0;32mnot\u001b[0m \u001b[0;32mNone\u001b[0m\u001b[0;34m:\u001b[0m\u001b[0;34m\u001b[0m\u001b[0;34m\u001b[0m\u001b[0m\n\u001b[0;32m-> 1159\u001b[0;31m                 \u001b[0;32mreturn\u001b[0m \u001b[0mself\u001b[0m\u001b[0;34m.\u001b[0m\u001b[0m_sslobj\u001b[0m\u001b[0;34m.\u001b[0m\u001b[0mread\u001b[0m\u001b[0;34m(\u001b[0m\u001b[0mlen\u001b[0m\u001b[0;34m,\u001b[0m \u001b[0mbuffer\u001b[0m\u001b[0;34m)\u001b[0m\u001b[0;34m\u001b[0m\u001b[0;34m\u001b[0m\u001b[0m\n\u001b[0m\u001b[1;32m   1160\u001b[0m             \u001b[0;32melse\u001b[0m\u001b[0;34m:\u001b[0m\u001b[0;34m\u001b[0m\u001b[0;34m\u001b[0m\u001b[0m\n\u001b[1;32m   1161\u001b[0m                 \u001b[0;32mreturn\u001b[0m \u001b[0mself\u001b[0m\u001b[0;34m.\u001b[0m\u001b[0m_sslobj\u001b[0m\u001b[0;34m.\u001b[0m\u001b[0mread\u001b[0m\u001b[0;34m(\u001b[0m\u001b[0mlen\u001b[0m\u001b[0;34m)\u001b[0m\u001b[0;34m\u001b[0m\u001b[0;34m\u001b[0m\u001b[0m\n",
            "\u001b[0;31mKeyboardInterrupt\u001b[0m: "
          ]
        }
      ]
    },
    {
      "cell_type": "code",
      "source": [
        "print(f'Data size: {emnist_data.data.shape}')\n",
        "\n",
        "images = emnist_data.data.view([emnist_data.data.shape[0],1,emnist_data.data.shape[1],emnist_data.data.shape[2]]).float()\n",
        "\n",
        "print(f'Tensor data: {images.shape}')"
      ],
      "metadata": {
        "colab": {
          "base_uri": "https://localhost:8080/"
        },
        "id": "UkhQCA3LMMue",
        "outputId": "0eedc256-56c3-4f40-974c-ada0b98dce0e"
      },
      "execution_count": null,
      "outputs": [
        {
          "output_type": "stream",
          "name": "stdout",
          "text": [
            "Data size: torch.Size([124800, 28, 28])\n",
            "Tensor data: torch.Size([124800, 1, 28, 28])\n"
          ]
        }
      ]
    },
    {
      "cell_type": "code",
      "source": [
        "emnist_data.class_to_idx"
      ],
      "metadata": {
        "colab": {
          "base_uri": "https://localhost:8080/"
        },
        "id": "A_TFpd-9Mj4e",
        "outputId": "90fa3e61-8681-4d99-fc54-b9822cc89459"
      },
      "execution_count": null,
      "outputs": [
        {
          "output_type": "execute_result",
          "data": {
            "text/plain": [
              "{'N/A': 0,\n",
              " 'a': 1,\n",
              " 'b': 2,\n",
              " 'c': 3,\n",
              " 'd': 4,\n",
              " 'e': 5,\n",
              " 'f': 6,\n",
              " 'g': 7,\n",
              " 'h': 8,\n",
              " 'i': 9,\n",
              " 'j': 10,\n",
              " 'k': 11,\n",
              " 'l': 12,\n",
              " 'm': 13,\n",
              " 'n': 14,\n",
              " 'o': 15,\n",
              " 'p': 16,\n",
              " 'q': 17,\n",
              " 'r': 18,\n",
              " 's': 19,\n",
              " 't': 20,\n",
              " 'u': 21,\n",
              " 'v': 22,\n",
              " 'w': 23,\n",
              " 'x': 24,\n",
              " 'y': 25,\n",
              " 'z': 26}"
            ]
          },
          "metadata": {},
          "execution_count": 46
        }
      ]
    },
    {
      "cell_type": "code",
      "source": [
        "letterCategories = emnist_data.classes[1:]\n",
        "labels = copy.deepcopy(emnist_data.targets)-1\n",
        "print(labels.shape)"
      ],
      "metadata": {
        "id": "wrnfvSiuN7ZL",
        "colab": {
          "base_uri": "https://localhost:8080/"
        },
        "outputId": "b68c873d-21b8-4cd8-cfdf-6694cf3ecda0"
      },
      "execution_count": null,
      "outputs": [
        {
          "output_type": "stream",
          "name": "stdout",
          "text": [
            "torch.Size([124800])\n"
          ]
        }
      ]
    },
    {
      "cell_type": "code",
      "source": [
        "labels.unique()"
      ],
      "metadata": {
        "colab": {
          "base_uri": "https://localhost:8080/"
        },
        "id": "ogA6ZEAIQdLI",
        "outputId": "b720bf37-fc1d-4910-e82c-c09232616d51"
      },
      "execution_count": null,
      "outputs": [
        {
          "output_type": "execute_result",
          "data": {
            "text/plain": [
              "tensor([ 0,  1,  2,  3,  4,  5,  6,  7,  8,  9, 10, 11, 12, 13, 14, 15, 16, 17,\n",
              "        18, 19, 20, 21, 22, 23, 24, 25])"
            ]
          },
          "metadata": {},
          "execution_count": 48
        }
      ]
    },
    {
      "cell_type": "code",
      "source": [
        "# visualize\n",
        "\n",
        "fig, axs = plt.subplots(3,7, figsize=(13,6))\n",
        "\n",
        "for i, ax in enumerate(axs.flatten()):\n",
        "  pic = np.random.randint(images.shape[0])\n",
        "\n",
        "  image = np.squeeze(images[pic,:,:])\n",
        "  letter = letterCategories[labels[pic]]\n",
        "\n",
        "  ax.imshow(image.T,cmap='gray')\n",
        "  ax.set_title(f\"{letter}\")\n",
        "  ax.set_xticks([])\n",
        "  ax.set_yticks([])\n",
        "plt.show()"
      ],
      "metadata": {
        "colab": {
          "base_uri": "https://localhost:8080/",
          "height": 462
        },
        "id": "uxfMcDCcQFzc",
        "outputId": "3ec54696-0ee2-4d52-ff89-7428fd41aa68"
      },
      "execution_count": null,
      "outputs": [
        {
          "output_type": "display_data",
          "data": {
            "text/plain": [
              "<Figure size 1300x600 with 21 Axes>"
            ],
            "image/png": "[encoded data removed]"
          },
          "metadata": {}
        }
      ]
    },
    {
      "cell_type": "markdown",
      "source": [
        "### Create train/test sets"
      ],
      "metadata": {
        "id": "1ry4nIhhQMNw"
      }
    },
    {
      "cell_type": "code",
      "source": [
        "import os\n",
        "from torch.utils.data import DataLoader,TensorDataset\n",
        "from sklearn.model_selection import train_test_split\n",
        "\n",
        "num_workers = os.cpu_count()\n",
        "print(num_workers)\n",
        "\n",
        "train_data, test_data, train_labels, test_labels = train_test_split(images, labels, test_size=.1)\n",
        "\n",
        "train_data = TensorDataset(train_data,train_labels)\n",
        "train_data = TensorDataset(test_data,test_labels)\n",
        "\n",
        "batch_size = 32\n",
        "train_dataloader = DataLoader(train_data,\n",
        "                              batch_size=batch_size,\n",
        "                              shuffle=True,\n",
        "                              num_workers=num_workers,\n",
        "                              pin_memory=True)\n",
        "test_dataloader = DataLoader(test_data,\n",
        "                              batch_size=batch_size,\n",
        "                              shuffle=False,\n",
        "                              num_workers=num_workers,\n",
        "                              pin_memory=True)\n"
      ],
      "metadata": {
        "colab": {
          "base_uri": "https://localhost:8080/"
        },
        "id": "clGd8LapTigC",
        "outputId": "71a6053d-b64f-4a85-c8c7-c735a409bfa8"
      },
      "execution_count": null,
      "outputs": [
        {
          "output_type": "stream",
          "name": "stdout",
          "text": [
            "2\n"
          ]
        }
      ]
    },
    {
      "cell_type": "code",
      "source": [
        "train_dataloader,test_dataloader"
      ],
      "metadata": {
        "colab": {
          "base_uri": "https://localhost:8080/"
        },
        "id": "umaCUdBnVTSn",
        "outputId": "b1dc82c1-1663-46fb-dd21-30a6ad0a39e7"
      },
      "execution_count": null,
      "outputs": [
        {
          "output_type": "execute_result",
          "data": {
            "text/plain": [
              "(<torch.utils.data.dataloader.DataLoader at 0x7cce096f5930>,\n",
              " <torch.utils.data.dataloader.DataLoader at 0x7cce096f5900>)"
            ]
          },
          "metadata": {},
          "execution_count": 56
        }
      ]
    },
    {
      "cell_type": "code",
      "source": [
        "img, label = next(iter(train_dataloader))\n",
        "\n",
        "# Batch size will now be 1, try changing the batch_size parameter above and see what happens\n",
        "print(f\"Image shape: {img.shape} -> [batch_size, color_channels, height, width]\")\n",
        "print(f\"Label shape: {label.shape}\")"
      ],
      "metadata": {
        "colab": {
          "base_uri": "https://localhost:8080/"
        },
        "id": "5kOEnCnkVS-b",
        "outputId": "21bf3195-fa14-45c7-ef53-c1f37cb433ff"
      },
      "execution_count": null,
      "outputs": [
        {
          "output_type": "stream",
          "name": "stdout",
          "text": [
            "Image shape: torch.Size([32, 1, 28, 28]) -> [batch_size, color_channels, height, width]\n",
            "Label shape: torch.Size([32])\n"
          ]
        }
      ]
    },
    {
      "cell_type": "code",
      "source": [
        "print(train_dataloader.dataset.tensors[0].shape)\n",
        "print(train_dataloader.dataset.tensors[1].shape)\n"
      ],
      "metadata": {
        "colab": {
          "base_uri": "https://localhost:8080/"
        },
        "id": "TSfoueT1V6Hj",
        "outputId": "068a59ea-f33d-424b-c2f2-c2b7393f823c"
      },
      "execution_count": null,
      "outputs": [
        {
          "output_type": "stream",
          "name": "stdout",
          "text": [
            "torch.Size([12480, 1, 28, 28])\n",
            "torch.Size([12480])\n"
          ]
        }
      ]
    },
    {
      "cell_type": "code",
      "source": [
        "uppercase_letters = \"ABCDEFGHIJKLMNOPQRSTUVWXYZ\"\n",
        "lowercase_letters = \"abcdefghijklmnopqrstuvwxyz\"\n",
        "\n",
        "# Iterate through the directories\n",
        "for letter in uppercase_letters + lowercase_letters:\n",
        "  print(letter)"
      ],
      "metadata": {
        "id": "ar4KjW0lWmv9",
        "colab": {
          "base_uri": "https://localhost:8080/"
        },
        "outputId": "0cc343a7-bf71-4c8a-e8da-ba7ae2cca3f8"
      },
      "execution_count": null,
      "outputs": [
        {
          "output_type": "stream",
          "name": "stdout",
          "text": [
            "A\n",
            "B\n",
            "C\n",
            "D\n",
            "E\n",
            "F\n",
            "G\n",
            "H\n",
            "I\n",
            "J\n",
            "K\n",
            "L\n",
            "M\n",
            "N\n",
            "O\n",
            "P\n",
            "Q\n",
            "R\n",
            "S\n",
            "T\n",
            "U\n",
            "V\n",
            "W\n",
            "X\n",
            "Y\n",
            "Z\n",
            "a\n",
            "b\n",
            "c\n",
            "d\n",
            "e\n",
            "f\n",
            "g\n",
            "h\n",
            "i\n",
            "j\n",
            "k\n",
            "l\n",
            "m\n",
            "n\n",
            "o\n",
            "p\n",
            "q\n",
            "r\n",
            "s\n",
            "t\n",
            "u\n",
            "v\n",
            "w\n",
            "x\n",
            "y\n",
            "z\n"
          ]
        }
      ]
    },
    {
      "cell_type": "code",
      "source": [],
      "metadata": {
        "id": "v_zxFnRQnt3p"
      },
      "execution_count": null,
      "outputs": []
    }
  ],
  "metadata": {
    "colab": {
      "provenance": [],
      "gpuType": "V100",
      "mount_file_id": "1EKEyqgZa0_c6u6eQpCNFYRi5iwJO3Ckf",
      "authorship_tag": "ABX9TyMJO5jbGoeZwKDZD8nMixhN",
      "include_colab_link": true
    },
    "kernelspec": {
      "display_name": "Python 3",
      "name": "python3"
    },
    "language_info": {
      "name": "python"
    },
    "accelerator": "GPU",
    "widgets": {
      "application/vnd.jupyter.widget-state+json": {
        "b88c59b1ab604890a55c60c99fe5011e": {
          "model_module": "@jupyter-widgets/controls",
          "model_name": "HBoxModel",
          "model_module_version": "1.5.0",
          "state": {
            "_dom_classes": [],
            "_model_module": "@jupyter-widgets/controls",
            "_model_module_version": "1.5.0",
            "_model_name": "HBoxModel",
            "_view_count": null,
            "_view_module": "@jupyter-widgets/controls",
            "_view_module_version": "1.5.0",
            "_view_name": "HBoxView",
            "box_style": "",
            "children": [
              "IPY_MODEL_42df08fe04034c108bccdbc1649e89db",
              "IPY_MODEL_4e511acd413a4ba8aeae46d44b634cf9",
              "IPY_MODEL_2544a19704f4490095b0dd961ec32dd7"
            ],
            "layout": "IPY_MODEL_5012d16d77064c4899729c69a03e72b0"
          }
        },
        "42df08fe04034c108bccdbc1649e89db": {
          "model_module": "@jupyter-widgets/controls",
          "model_name": "HTMLModel",
          "model_module_version": "1.5.0",
          "state": {
            "_dom_classes": [],
            "_model_module": "@jupyter-widgets/controls",
            "_model_module_version": "1.5.0",
            "_model_name": "HTMLModel",
            "_view_count": null,
            "_view_module": "@jupyter-widgets/controls",
            "_view_module_version": "1.5.0",
            "_view_name": "HTMLView",
            "description": "",
            "description_tooltip": null,
            "layout": "IPY_MODEL_ba970a01bc514be59e19810eacda26ca",
            "placeholder": "​",
            "style": "IPY_MODEL_474d68d6947a44b782f0ee5bce6a3b24",
            "value": "100%"
          }
        },
        "4e511acd413a4ba8aeae46d44b634cf9": {
          "model_module": "@jupyter-widgets/controls",
          "model_name": "FloatProgressModel",
          "model_module_version": "1.5.0",
          "state": {
            "_dom_classes": [],
            "_model_module": "@jupyter-widgets/controls",
            "_model_module_version": "1.5.0",
            "_model_name": "FloatProgressModel",
            "_view_count": null,
            "_view_module": "@jupyter-widgets/controls",
            "_view_module_version": "1.5.0",
            "_view_name": "ProgressView",
            "bar_style": "success",
            "description": "",
            "description_tooltip": null,
            "layout": "IPY_MODEL_aef29f5d18de4ea78672ffdc2911197b",
            "max": 5,
            "min": 0,
            "orientation": "horizontal",
            "style": "IPY_MODEL_511f3a3b1d824d87935a83be4be79b83",
            "value": 5
          }
        },
        "2544a19704f4490095b0dd961ec32dd7": {
          "model_module": "@jupyter-widgets/controls",
          "model_name": "HTMLModel",
          "model_module_version": "1.5.0",
          "state": {
            "_dom_classes": [],
            "_model_module": "@jupyter-widgets/controls",
            "_model_module_version": "1.5.0",
            "_model_name": "HTMLModel",
            "_view_count": null,
            "_view_module": "@jupyter-widgets/controls",
            "_view_module_version": "1.5.0",
            "_view_name": "HTMLView",
            "description": "",
            "description_tooltip": null,
            "layout": "IPY_MODEL_72f9e561a2fd4eb9bf56df6349c22b58",
            "placeholder": "​",
            "style": "IPY_MODEL_a365c7c627114d0bb41f36fe92e0e181",
            "value": " 5/5 [02:44&lt;00:00, 32.75s/it]"
          }
        },
        "5012d16d77064c4899729c69a03e72b0": {
          "model_module": "@jupyter-widgets/base",
          "model_name": "LayoutModel",
          "model_module_version": "1.2.0",
          "state": {
            "_model_module": "@jupyter-widgets/base",
            "_model_module_version": "1.2.0",
            "_model_name": "LayoutModel",
            "_view_count": null,
            "_view_module": "@jupyter-widgets/base",
            "_view_module_version": "1.2.0",
            "_view_name": "LayoutView",
            "align_content": null,
            "align_items": null,
            "align_self": null,
            "border": null,
            "bottom": null,
            "display": null,
            "flex": null,
            "flex_flow": null,
            "grid_area": null,
            "grid_auto_columns": null,
            "grid_auto_flow": null,
            "grid_auto_rows": null,
            "grid_column": null,
            "grid_gap": null,
            "grid_row": null,
            "grid_template_areas": null,
            "grid_template_columns": null,
            "grid_template_rows": null,
            "height": null,
            "justify_content": null,
            "justify_items": null,
            "left": null,
            "margin": null,
            "max_height": null,
            "max_width": null,
            "min_height": null,
            "min_width": null,
            "object_fit": null,
            "object_position": null,
            "order": null,
            "overflow": null,
            "overflow_x": null,
            "overflow_y": null,
            "padding": null,
            "right": null,
            "top": null,
            "visibility": null,
            "width": null
          }
        },
        "ba970a01bc514be59e19810eacda26ca": {
          "model_module": "@jupyter-widgets/base",
          "model_name": "LayoutModel",
          "model_module_version": "1.2.0",
          "state": {
            "_model_module": "@jupyter-widgets/base",
            "_model_module_version": "1.2.0",
            "_model_name": "LayoutModel",
            "_view_count": null,
            "_view_module": "@jupyter-widgets/base",
            "_view_module_version": "1.2.0",
            "_view_name": "LayoutView",
            "align_content": null,
            "align_items": null,
            "align_self": null,
            "border": null,
            "bottom": null,
            "display": null,
            "flex": null,
            "flex_flow": null,
            "grid_area": null,
            "grid_auto_columns": null,
            "grid_auto_flow": null,
            "grid_auto_rows": null,
            "grid_column": null,
            "grid_gap": null,
            "grid_row": null,
            "grid_template_areas": null,
            "grid_template_columns": null,
            "grid_template_rows": null,
            "height": null,
            "justify_content": null,
            "justify_items": null,
            "left": null,
            "margin": null,
            "max_height": null,
            "max_width": null,
            "min_height": null,
            "min_width": null,
            "object_fit": null,
            "object_position": null,
            "order": null,
            "overflow": null,
            "overflow_x": null,
            "overflow_y": null,
            "padding": null,
            "right": null,
            "top": null,
            "visibility": null,
            "width": null
          }
        },
        "474d68d6947a44b782f0ee5bce6a3b24": {
          "model_module": "@jupyter-widgets/controls",
          "model_name": "DescriptionStyleModel",
          "model_module_version": "1.5.0",
          "state": {
            "_model_module": "@jupyter-widgets/controls",
            "_model_module_version": "1.5.0",
            "_model_name": "DescriptionStyleModel",
            "_view_count": null,
            "_view_module": "@jupyter-widgets/base",
            "_view_module_version": "1.2.0",
            "_view_name": "StyleView",
            "description_width": ""
          }
        },
        "aef29f5d18de4ea78672ffdc2911197b": {
          "model_module": "@jupyter-widgets/base",
          "model_name": "LayoutModel",
          "model_module_version": "1.2.0",
          "state": {
            "_model_module": "@jupyter-widgets/base",
            "_model_module_version": "1.2.0",
            "_model_name": "LayoutModel",
            "_view_count": null,
            "_view_module": "@jupyter-widgets/base",
            "_view_module_version": "1.2.0",
            "_view_name": "LayoutView",
            "align_content": null,
            "align_items": null,
            "align_self": null,
            "border": null,
            "bottom": null,
            "display": null,
            "flex": null,
            "flex_flow": null,
            "grid_area": null,
            "grid_auto_columns": null,
            "grid_auto_flow": null,
            "grid_auto_rows": null,
            "grid_column": null,
            "grid_gap": null,
            "grid_row": null,
            "grid_template_areas": null,
            "grid_template_columns": null,
            "grid_template_rows": null,
            "height": null,
            "justify_content": null,
            "justify_items": null,
            "left": null,
            "margin": null,
            "max_height": null,
            "max_width": null,
            "min_height": null,
            "min_width": null,
            "object_fit": null,
            "object_position": null,
            "order": null,
            "overflow": null,
            "overflow_x": null,
            "overflow_y": null,
            "padding": null,
            "right": null,
            "top": null,
            "visibility": null,
            "width": null
          }
        },
        "511f3a3b1d824d87935a83be4be79b83": {
          "model_module": "@jupyter-widgets/controls",
          "model_name": "ProgressStyleModel",
          "model_module_version": "1.5.0",
          "state": {
            "_model_module": "@jupyter-widgets/controls",
            "_model_module_version": "1.5.0",
            "_model_name": "ProgressStyleModel",
            "_view_count": null,
            "_view_module": "@jupyter-widgets/base",
            "_view_module_version": "1.2.0",
            "_view_name": "StyleView",
            "bar_color": null,
            "description_width": ""
          }
        },
        "72f9e561a2fd4eb9bf56df6349c22b58": {
          "model_module": "@jupyter-widgets/base",
          "model_name": "LayoutModel",
          "model_module_version": "1.2.0",
          "state": {
            "_model_module": "@jupyter-widgets/base",
            "_model_module_version": "1.2.0",
            "_model_name": "LayoutModel",
            "_view_count": null,
            "_view_module": "@jupyter-widgets/base",
            "_view_module_version": "1.2.0",
            "_view_name": "LayoutView",
            "align_content": null,
            "align_items": null,
            "align_self": null,
            "border": null,
            "bottom": null,
            "display": null,
            "flex": null,
            "flex_flow": null,
            "grid_area": null,
            "grid_auto_columns": null,
            "grid_auto_flow": null,
            "grid_auto_rows": null,
            "grid_column": null,
            "grid_gap": null,
            "grid_row": null,
            "grid_template_areas": null,
            "grid_template_columns": null,
            "grid_template_rows": null,
            "height": null,
            "justify_content": null,
            "justify_items": null,
            "left": null,
            "margin": null,
            "max_height": null,
            "max_width": null,
            "min_height": null,
            "min_width": null,
            "object_fit": null,
            "object_position": null,
            "order": null,
            "overflow": null,
            "overflow_x": null,
            "overflow_y": null,
            "padding": null,
            "right": null,
            "top": null,
            "visibility": null,
            "width": null
          }
        },
        "a365c7c627114d0bb41f36fe92e0e181": {
          "model_module": "@jupyter-widgets/controls",
          "model_name": "DescriptionStyleModel",
          "model_module_version": "1.5.0",
          "state": {
            "_model_module": "@jupyter-widgets/controls",
            "_model_module_version": "1.5.0",
            "_model_name": "DescriptionStyleModel",
            "_view_count": null,
            "_view_module": "@jupyter-widgets/base",
            "_view_module_version": "1.2.0",
            "_view_name": "StyleView",
            "description_width": ""
          }
        }
      }
    }
  },
  "nbformat": 4,
  "nbformat_minor": 0
}